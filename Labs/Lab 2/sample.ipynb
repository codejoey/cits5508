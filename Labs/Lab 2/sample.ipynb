{
 "cells": [
  {
   "cell_type": "markdown",
   "metadata": {},
   "source": [
    "## <center>CITS5508 Lab sheet 2: Classification on...................</center>\n",
    "\n",
    "**Name: Du Huynh**<br>\n",
    "**Student number: 12345678**<br>\n",
    "**Date created:** March 9th 2019<br>\n",
    "**Last modified:** March 9th 2019<br>\n",
    "\n",
    "A brief description about the work done in this lab sheet...\n"
   ]
  },
  {
   "cell_type": "markdown",
   "metadata": {},
   "source": [
    "## 1. Heading ....\n",
    "\n",
    "A brief description about the task for this part ..."
   ]
  },
  {
   "cell_type": "code",
   "execution_count": 25,
   "metadata": {},
   "outputs": [
    {
     "name": "stdout",
     "output_type": "stream",
     "text": [
      "5 square = 25.\n",
      "Square root of 5 is   25.00000. Cubic root of 5 is  1.70998\n"
     ]
    }
   ],
   "source": [
    "import numpy as np\n",
    "\n",
    "a = 5\n",
    "b = a**2\n",
    "# to print formatted output in Python... \n",
    "print('{0:d} square = {1:d}.'.format(a,b))\n",
    "print('Square root of {0:d} is {1:10.5f}. Cubic root of {0:d} is {2:8.5f}'.format(5, 5**2, 5**(1/3)))"
   ]
  },
  {
   "cell_type": "markdown",
   "metadata": {},
   "source": [
    "Maybe you need a *markdown* cell here to explain the output of the previous `Code` cell. \n",
    "\n",
    "You can emphasize words in your sentences using boldface, e.g., **this is important**. You can even put in reasonably complex mathematics equations in a *Markdown* cell.\n",
    "\n",
    "To run (or execute) a cell, click on the cell and press the *Enter* key while holding down the *Shift* key. You can merge cells, split cells, insert cells above or below the current cell."
   ]
  },
  {
   "cell_type": "code",
   "execution_count": 26,
   "metadata": {},
   "outputs": [
    {
     "name": "stdout",
     "output_type": "stream",
     "text": [
      "a = [0 1 2 3 4 5 6 7 8 9]\n",
      "[0 1 2 3 4 5 6 7 8 9]\n",
      "(10,)\n",
      "The last two print statements are not very meaningful as, looking just at the output,\n",
      "we dont know what it means.\n",
      "The last element of a is a[-1]. Its value is 9\n",
      "Reversing the array a is also easy.  [9 8 7 6 5 4 3 2 1 0]\n"
     ]
    }
   ],
   "source": [
    "# some more Python code here\n",
    "# create a numpy array containing 0..9 (inclusive)\n",
    "a = np.array(range(10))\n",
    "print('a =', a)\n",
    "print(a)\n",
    "print(a.shape)\n",
    "print('The last two print statements are not very meaningful as, looking just at the output,')\n",
    "print('we don''t know what it means.')\n",
    "print('The last element of a is a[-1]. Its value is', a[-1])\n",
    "print('Reversing the array a is also easy. ', a[-1::-1])"
   ]
  },
  {
   "cell_type": "markdown",
   "metadata": {},
   "source": [
    "## 2. Heading..."
   ]
  },
  {
   "cell_type": "code",
   "execution_count": 27,
   "metadata": {},
   "outputs": [],
   "source": [
    "# more code here"
   ]
  },
  {
   "cell_type": "code",
   "execution_count": null,
   "metadata": {
    "collapsed": true
   },
   "outputs": [],
   "source": []
  }
 ],
 "metadata": {
  "kernelspec": {
   "display_name": "Python 3",
   "language": "python",
   "name": "python3"
  },
  "language_info": {
   "codemirror_mode": {
    "name": "ipython",
    "version": 3
   },
   "file_extension": ".py",
   "mimetype": "text/x-python",
   "name": "python",
   "nbconvert_exporter": "python",
   "pygments_lexer": "ipython3",
   "version": "3.6.3"
  }
 },
 "nbformat": 4,
 "nbformat_minor": 2
}
