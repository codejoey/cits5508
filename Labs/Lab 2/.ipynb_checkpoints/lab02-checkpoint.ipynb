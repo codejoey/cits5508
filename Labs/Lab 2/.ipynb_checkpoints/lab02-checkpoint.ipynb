{
 "cells": [
  {
   "cell_type": "markdown",
   "metadata": {
    "colab_type": "text",
    "id": "6EY_Zre5nDui"
   },
   "source": [
    "# <center>CITS5508 Lab Sheet 2: <br> Classifying Forests\n",
    "\n",
    "---\n",
    "\n",
    "\n",
    "\n",
    "\n",
    "**Name: James Mok**<br>\n",
    "**Student number: 21120365**<br>\n",
    "**Date created:** March 10th 2019<br>\n",
    "**Last modified:** March 22th 2019<br>\n",
    "\n",
    "The objective of this Lab is to investigate the process of classifying forest types from areas in Japan.\n",
    "    This will go through the following areas such as data visualisation, normalisation, classifiers and more."
   ]
  },
  {
   "cell_type": "markdown",
   "metadata": {
    "colab_type": "text",
    "id": "eQMdYtJznDuo"
   },
   "source": [
    "## 1. Data Visualisation\n",
    "\n",
    "First step is tmporting and visualising the data set to help provide insight into the next steps."
   ]
  },
  {
   "cell_type": "code",
   "execution_count": 1,
   "metadata": {
    "colab": {
     "base_uri": "https://localhost:8080/",
     "height": 269
    },
    "colab_type": "code",
    "id": "LCCLkOpjnDut",
    "outputId": "fc2c3d50-de6c-43a1-d709-60afa851216e"
   },
   "outputs": [
    {
     "data": {
      "text/html": [
       "<div>\n",
       "<style scoped>\n",
       "    .dataframe tbody tr th:only-of-type {\n",
       "        vertical-align: middle;\n",
       "    }\n",
       "\n",
       "    .dataframe tbody tr th {\n",
       "        vertical-align: top;\n",
       "    }\n",
       "\n",
       "    .dataframe thead th {\n",
       "        text-align: right;\n",
       "    }\n",
       "</style>\n",
       "<table border=\"1\" class=\"dataframe\">\n",
       "  <thead>\n",
       "    <tr style=\"text-align: right;\">\n",
       "      <th></th>\n",
       "      <th>class</th>\n",
       "      <th>b1</th>\n",
       "      <th>b2</th>\n",
       "      <th>b3</th>\n",
       "      <th>b4</th>\n",
       "      <th>b5</th>\n",
       "      <th>b6</th>\n",
       "      <th>b7</th>\n",
       "      <th>b8</th>\n",
       "      <th>b9</th>\n",
       "      <th>...</th>\n",
       "      <th>pred_minus_obs_H_b9</th>\n",
       "      <th>pred_minus_obs_S_b1</th>\n",
       "      <th>pred_minus_obs_S_b2</th>\n",
       "      <th>pred_minus_obs_S_b3</th>\n",
       "      <th>pred_minus_obs_S_b4</th>\n",
       "      <th>pred_minus_obs_S_b5</th>\n",
       "      <th>pred_minus_obs_S_b6</th>\n",
       "      <th>pred_minus_obs_S_b7</th>\n",
       "      <th>pred_minus_obs_S_b8</th>\n",
       "      <th>pred_minus_obs_S_b9</th>\n",
       "    </tr>\n",
       "  </thead>\n",
       "  <tbody>\n",
       "    <tr>\n",
       "      <th>0</th>\n",
       "      <td>d</td>\n",
       "      <td>39</td>\n",
       "      <td>36</td>\n",
       "      <td>57</td>\n",
       "      <td>91</td>\n",
       "      <td>59</td>\n",
       "      <td>101</td>\n",
       "      <td>93</td>\n",
       "      <td>27</td>\n",
       "      <td>60</td>\n",
       "      <td>...</td>\n",
       "      <td>-2.36</td>\n",
       "      <td>-18.41</td>\n",
       "      <td>-1.88</td>\n",
       "      <td>-6.43</td>\n",
       "      <td>-21.03</td>\n",
       "      <td>-1.60</td>\n",
       "      <td>-6.18</td>\n",
       "      <td>-22.50</td>\n",
       "      <td>-5.20</td>\n",
       "      <td>-7.86</td>\n",
       "    </tr>\n",
       "    <tr>\n",
       "      <th>1</th>\n",
       "      <td>h</td>\n",
       "      <td>84</td>\n",
       "      <td>30</td>\n",
       "      <td>57</td>\n",
       "      <td>112</td>\n",
       "      <td>51</td>\n",
       "      <td>98</td>\n",
       "      <td>92</td>\n",
       "      <td>26</td>\n",
       "      <td>62</td>\n",
       "      <td>...</td>\n",
       "      <td>-2.26</td>\n",
       "      <td>-16.27</td>\n",
       "      <td>-1.95</td>\n",
       "      <td>-6.25</td>\n",
       "      <td>-18.79</td>\n",
       "      <td>-1.99</td>\n",
       "      <td>-6.18</td>\n",
       "      <td>-23.41</td>\n",
       "      <td>-8.87</td>\n",
       "      <td>-10.83</td>\n",
       "    </tr>\n",
       "    <tr>\n",
       "      <th>2</th>\n",
       "      <td>s</td>\n",
       "      <td>53</td>\n",
       "      <td>25</td>\n",
       "      <td>49</td>\n",
       "      <td>99</td>\n",
       "      <td>51</td>\n",
       "      <td>93</td>\n",
       "      <td>84</td>\n",
       "      <td>26</td>\n",
       "      <td>58</td>\n",
       "      <td>...</td>\n",
       "      <td>-1.46</td>\n",
       "      <td>-15.92</td>\n",
       "      <td>-1.79</td>\n",
       "      <td>-4.64</td>\n",
       "      <td>-17.73</td>\n",
       "      <td>-0.48</td>\n",
       "      <td>-4.69</td>\n",
       "      <td>-19.97</td>\n",
       "      <td>-4.10</td>\n",
       "      <td>-7.07</td>\n",
       "    </tr>\n",
       "    <tr>\n",
       "      <th>3</th>\n",
       "      <td>s</td>\n",
       "      <td>59</td>\n",
       "      <td>26</td>\n",
       "      <td>49</td>\n",
       "      <td>103</td>\n",
       "      <td>47</td>\n",
       "      <td>92</td>\n",
       "      <td>82</td>\n",
       "      <td>25</td>\n",
       "      <td>56</td>\n",
       "      <td>...</td>\n",
       "      <td>2.68</td>\n",
       "      <td>-13.77</td>\n",
       "      <td>-2.53</td>\n",
       "      <td>-6.34</td>\n",
       "      <td>-22.03</td>\n",
       "      <td>-2.34</td>\n",
       "      <td>-6.60</td>\n",
       "      <td>-27.10</td>\n",
       "      <td>-7.99</td>\n",
       "      <td>-10.81</td>\n",
       "    </tr>\n",
       "    <tr>\n",
       "      <th>4</th>\n",
       "      <td>d</td>\n",
       "      <td>57</td>\n",
       "      <td>49</td>\n",
       "      <td>66</td>\n",
       "      <td>103</td>\n",
       "      <td>64</td>\n",
       "      <td>106</td>\n",
       "      <td>114</td>\n",
       "      <td>28</td>\n",
       "      <td>59</td>\n",
       "      <td>...</td>\n",
       "      <td>-2.94</td>\n",
       "      <td>-21.74</td>\n",
       "      <td>-1.64</td>\n",
       "      <td>-4.62</td>\n",
       "      <td>-23.74</td>\n",
       "      <td>-0.85</td>\n",
       "      <td>-5.50</td>\n",
       "      <td>-22.83</td>\n",
       "      <td>-2.74</td>\n",
       "      <td>-5.84</td>\n",
       "    </tr>\n",
       "  </tbody>\n",
       "</table>\n",
       "<p>5 rows × 28 columns</p>\n",
       "</div>"
      ],
      "text/plain": [
       "  class  b1  b2  b3   b4  b5   b6   b7  b8  b9         ...           \\\n",
       "0     d  39  36  57   91  59  101   93  27  60         ...            \n",
       "1     h  84  30  57  112  51   98   92  26  62         ...            \n",
       "2     s  53  25  49   99  51   93   84  26  58         ...            \n",
       "3     s  59  26  49  103  47   92   82  25  56         ...            \n",
       "4     d  57  49  66  103  64  106  114  28  59         ...            \n",
       "\n",
       "   pred_minus_obs_H_b9  pred_minus_obs_S_b1  pred_minus_obs_S_b2  \\\n",
       "0                -2.36               -18.41                -1.88   \n",
       "1                -2.26               -16.27                -1.95   \n",
       "2                -1.46               -15.92                -1.79   \n",
       "3                 2.68               -13.77                -2.53   \n",
       "4                -2.94               -21.74                -1.64   \n",
       "\n",
       "   pred_minus_obs_S_b3  pred_minus_obs_S_b4  pred_minus_obs_S_b5  \\\n",
       "0                -6.43               -21.03                -1.60   \n",
       "1                -6.25               -18.79                -1.99   \n",
       "2                -4.64               -17.73                -0.48   \n",
       "3                -6.34               -22.03                -2.34   \n",
       "4                -4.62               -23.74                -0.85   \n",
       "\n",
       "   pred_minus_obs_S_b6  pred_minus_obs_S_b7  pred_minus_obs_S_b8  \\\n",
       "0                -6.18               -22.50                -5.20   \n",
       "1                -6.18               -23.41                -8.87   \n",
       "2                -4.69               -19.97                -4.10   \n",
       "3                -6.60               -27.10                -7.99   \n",
       "4                -5.50               -22.83                -2.74   \n",
       "\n",
       "   pred_minus_obs_S_b9  \n",
       "0                -7.86  \n",
       "1               -10.83  \n",
       "2                -7.07  \n",
       "3               -10.81  \n",
       "4                -5.84  \n",
       "\n",
       "[5 rows x 28 columns]"
      ]
     },
     "execution_count": 1,
     "metadata": {},
     "output_type": "execute_result"
    }
   ],
   "source": [
    "# Importing common libraries\n",
    "\n",
    "import numpy as np\n",
    "import pandas as pd\n",
    "import matplotlib.pyplot as plt\n",
    "\n",
    "# Reading in the data\n",
    "\n",
    "train =  pd.read_csv('training.csv')\n",
    "test =  pd.read_csv('testing.csv')\n",
    "train.shape\n",
    "\n",
    "#Display first 5 rows\n",
    "train.head(5)"
   ]
  },
  {
   "cell_type": "code",
   "execution_count": 2,
   "metadata": {},
   "outputs": [
    {
     "name": "stdout",
     "output_type": "stream",
     "text": [
      "Below are the dimensions of data (rows,columns)\n",
      "Training set: (198, 28)\n",
      "Test set: (325, 28)\n"
     ]
    }
   ],
   "source": [
    "#Understanding data size\n",
    "\n",
    "print('Below are the dimensions of data (rows,columns)')\n",
    "print('Training set: '+ str(train.shape))\n",
    "print('Test set: '+ str(test.shape))"
   ]
  },
  {
   "cell_type": "markdown",
   "metadata": {},
   "source": [
    "### 1.1 Data Observations\n",
    "Using this information we can consider plotting this, where 50 bins should provide a clear enough representation of the dataset"
   ]
  },
  {
   "cell_type": "code",
   "execution_count": 3,
   "metadata": {
    "colab": {
     "base_uri": "https://localhost:8080/",
     "height": 899
    },
    "colab_type": "code",
    "id": "SWgcV-xXKzIC",
    "outputId": "31f89c6d-a383-4239-a9b6-01d919b79b6e"
   },
   "outputs": [
    {
     "data": {
      "image/png": "[encoded data removed]",
      "text/plain": [
       "<Figure size 1440x1080 with 30 Axes>"
      ]
     },
     "metadata": {
      "needs_background": "light"
     },
     "output_type": "display_data"
    }
   ],
   "source": [
    "#Visualising data by creating histograms\n",
    "\n",
    "train.hist(bins=50, figsize=(20,15))\n",
    "plt.show()\n"
   ]
  },
  {
   "cell_type": "markdown",
   "metadata": {},
   "source": [
    "### 1.2 Observations from Plots\n",
    "\n",
    "From the plots, some observations can be made:\n",
    "- Most plots have the shape that looks like it is normally distributed\n",
    "- Plots skewed to the left or right\n",
    "- Fairly consistent with few outliers\n"
   ]
  },
  {
   "cell_type": "markdown",
   "metadata": {},
   "source": [
    "## 2. Simplifying and Manipulating the Data\n",
    "\n",
    "Here we will simplify the data to only include the 9 features (b1, b2 ... b9). <br>\n",
    "Also we wil extract the class labels column."
   ]
  },
  {
   "cell_type": "code",
   "execution_count": 4,
   "metadata": {
    "colab": {},
    "colab_type": "code",
    "id": "QySnkJ0pL7C7"
   },
   "outputs": [],
   "source": [
    "#Taking only columns 1(Class) and 2 to 10 (b1,b2...b9)\n",
    "\n",
    "#Therefore removing columns to exclude pred_minus_obs\n",
    "\n",
    "train_split = np.split(train, [1,10], axis=1)\n",
    "test_split = np.split(test, [1,10], axis=1)\n",
    "\n",
    "#Uncomment to display training set classes column (=)\n",
    "#train_split[0]\n",
    "\n",
    "#Uncomment to display training set features column\n",
    "#train_split[1]"
   ]
  },
  {
   "cell_type": "markdown",
   "metadata": {},
   "source": [
    "## 3. Imbalanced training set?\n",
    "Now we will plot the instances for classes to verify if training set is imbalanced"
   ]
  },
  {
   "cell_type": "code",
   "execution_count": 5,
   "metadata": {
    "colab": {
     "base_uri": "https://localhost:8080/",
     "height": 361
    },
    "colab_type": "code",
    "id": "Sbu_IwnjmrQH",
    "outputId": "15166b83-259d-44eb-aa11-79496c3f55aa"
   },
   "outputs": [
    {
     "data": {
      "image/png": "[encoded data removed]",
      "text/plain": [
       "<Figure size 504x288 with 1 Axes>"
      ]
     },
     "metadata": {
      "needs_background": "light"
     },
     "output_type": "display_data"
    }
   ],
   "source": [
    "#Index [0] takes the first split which is the classes column\n",
    "train_class = train_split[0]\n",
    "test_class = train_split[0]\n",
    "\n",
    "#Plotting class instances in a bar plot\n",
    "plt.figure(figsize=(7, 4))\n",
    "\n",
    "class_instances = train_class['class'].value_counts().plot.bar()\n",
    "\n",
    "class_instances.set_title('Class Instances');\n",
    "class_instances.set_xlabel('Class');\n",
    "class_instances.set_ylabel('Instances');"
   ]
  },
  {
   "cell_type": "markdown",
   "metadata": {},
   "source": [
    "### 3.1 Is this Imbalanced?\n",
    "From the plot it can be seen that this training set is __not__ imbalanced. <br>\n",
    "\n",
    "The instances are within the same order of magnitude and therefore not imbalanced. This allows us to move on to soon attempt classifcation"
   ]
  },
  {
   "cell_type": "markdown",
   "metadata": {},
   "source": [
    "## 4. Normalising Data\n",
    "\n",
    "Before we use the classification algorithms, here we will compare two normalisation methods - `MinMaxScaler`, and `StandardScaler`"
   ]
  },
  {
   "cell_type": "markdown",
   "metadata": {},
   "source": [
    "### 4.1 Which normalisation method?\n",
    "\n",
    "First, to understand which method is more suitable, details of each function which are taken from the documentation are as follows:\n",
    "\n",
    "> `MinMaxScaler`- This method uses the minimum and divides the data set which scales the data from 0 to 1. <br>\n",
    "- More suitable for data that has a smaller standard deviation and also highly affect by outliers.\n",
    "\n",
    "> `StandardScaler` - This method assumes the data set is normally distributed, which scales your distribution of data to a mean of 0 and a standard deviation of 1. <br>\n",
    "- Suitable for normally distributed data.\n",
    "\n",
    "> `RobustScaler` - Similar to MinMaxScaler however utilies less of the data for scaling.<br>\n",
    "- Resembles `MinMaxScaler`but is less prone to the adverse affects of outliers.\n",
    "\n",
    "From the above mentioned points, `StandardScaler` seems more suitable based on the fact that the data is mostly normally distributed.\n"
   ]
  },
  {
   "cell_type": "code",
   "execution_count": 6,
   "metadata": {
    "colab": {
     "base_uri": "https://localhost:8080/",
     "height": 141
    },
    "colab_type": "code",
    "id": "gLyMGk_8my75",
    "outputId": "9e225f08-5608-418f-f5f9-f30ee0179b8f"
   },
   "outputs": [],
   "source": [
    "#Normalising data\n",
    "\n",
    "#Utilising StandardScaler\n",
    "from sklearn.preprocessing import StandardScaler\n",
    "import warnings\n",
    "warnings.filterwarnings(\"ignore\")\n",
    "\n",
    "scaler = StandardScaler()\n",
    "\n",
    "train_array = scaler.fit_transform(train_split[1])\n",
    "test_array = scaler.transform(test_split[1])\n"
   ]
  },
  {
   "cell_type": "markdown",
   "metadata": {},
   "source": [
    "### 4.2 Normalisation using `StandardScaler`\n",
    "\n",
    "It is important to note that the training set uses`fit_transform`, fits the data and then standardises this by scaling and centering.<br>\n",
    "The test set only uses `transform` which scales and centers the data but does not fit the data which is important as we want to leave the test set unaltered."
   ]
  },
  {
   "cell_type": "markdown",
   "metadata": {},
   "source": [
    "## 5. One-Versus-All Binary Classification with Stochastic Gradient Descent\n",
    "\n",
    "In this section, a One-Versus-All Binary SGD Classifier is used.\n",
    "However, firstly our data needs to be in binary form which has been done using `LabelBinarizer`. <br>\n",
    "\n",
    "After the data has been split into each class which we define as the 'one' and then is classified against the other classes ('all') through using a `for` loop. <br>\n",
    "The results are shown below through a confusion matrix and a metric score."
   ]
  },
  {
   "cell_type": "code",
   "execution_count": 7,
   "metadata": {
    "colab": {
     "base_uri": "https://localhost:8080/",
     "height": 462
    },
    "colab_type": "code",
    "id": "w1D5VfWIRelA",
    "outputId": "60adc73a-d3ff-4941-e476-d25ae06aad2c",
    "scrolled": false
   },
   "outputs": [
    {
     "name": "stdout",
     "output_type": "stream",
     "text": [
      "Binarized classes are ordered:['d' 'h' 'o' 's']\n",
      "\n",
      "For class: 'd'\n",
      "Accuracy Score: 88.92%\n",
      "F1 Score: 82.00%\n",
      "\n",
      "For class: 'h'\n",
      "Accuracy Score: 94.77%\n",
      "F1 Score: 80.00%\n",
      "\n",
      "For class: 'o'\n",
      "Accuracy Score: 94.15%\n",
      "F1 Score: 78.65%\n",
      "\n",
      "For class: 's'\n",
      "Accuracy Score: 82.77%\n",
      "F1 Score: 81.94%\n",
      "\n"
     ]
    },
    {
     "data": {
      "image/png": "[encoded data removed]",
      "text/plain": [
       "<Figure size 720x432 with 8 Axes>"
      ]
     },
     "metadata": {
      "needs_background": "light"
     },
     "output_type": "display_data"
    }
   ],
   "source": [
    "#One-versus-all binary classification with Stocastic Gradient Descent\n",
    "from sklearn.preprocessing import LabelBinarizer\n",
    "from sklearn.linear_model import SGDClassifier\n",
    "from sklearn.metrics import confusion_matrix, accuracy_score, f1_score\n",
    "import seaborn as sns\n",
    "\n",
    "#Using LabelBinarizer to provide binary for to One-Versus-All classification\n",
    "lb = LabelBinarizer()\n",
    "\n",
    "#Training set binarised\n",
    "y_train = train_split[0]\n",
    "X_train = train_array\n",
    "y_train_binary = lb.fit_transform(y_train)\n",
    "print('Binarized classes are ordered:' + str(lb.classes_) + '\\n')\n",
    "\n",
    "#Test set binarised\n",
    "y_test = test_split[0]\n",
    "X_test = test_array\n",
    "y_test_binary = lb.fit_transform(y_test)\n",
    "\n",
    "#Creating plot figure and labels\n",
    "labels=['d','h','o','s']\n",
    "fig = plt.figure(figsize=(10,6))\n",
    "fig.subplots_adjust(hspace = 1, wspace=2)     \n",
    "\n",
    "#for loop to cycle through each class and classify using SGD Classifier\n",
    "for i in range(4):\n",
    "    \n",
    "    #Selecting class to train\n",
    "    y_train_class = y_train_binary[:,i]\n",
    "    y_test_class = y_test_binary[:,i]\n",
    "\n",
    "    #Training in SGDCLassifier\n",
    "    sgd_clf = SGDClassifier(random_state=1)\n",
    "    sgd_clf.fit(X = X_train, y = y_train_class)\n",
    "    prediction = sgd_clf.predict(X_test)\n",
    "    \n",
    "    #Creating confusion matrix \n",
    "    ax = fig.add_subplot(2, 2, i+1) \n",
    "    conf_mx = confusion_matrix(y_test_class, prediction)\n",
    "    sns.heatmap(conf_mx, xticklabels= [labels[i], '0'], yticklabels= [labels[i], '0'], cmap='Blues')\n",
    "    \n",
    "    #Plot labels\n",
    "    plt.title('One-Versus-All SGD Classifier - Class ' +'\\''+ str(labels[i]) +'\\'')\n",
    "    plt.xlabel('Predicted Class');\n",
    "    plt.ylabel('Actual Class');\n",
    "    \n",
    "    #Accuracy Score\n",
    "    print('For class: \\''+ str(labels[i])+ '\\'')\n",
    "    print('Accuracy Score: ' + str(\"%.2f\" % (accuracy_score(y_test_class, prediction)*100)) + '%')\n",
    "    print('F1 Score: '+ str(\"%.2f\" % (f1_score(y_test_class, prediction)*100)) + '%' +'\\n')\n",
    "   "
   ]
  },
  {
   "cell_type": "markdown",
   "metadata": {},
   "source": [
    "### 5.1 Observations of One-Versus-All SGD Classifier\n",
    "\n",
    "To explain F1 Score and Accuracy score, first we will define each and then determine which metric is the most suitable<br>\n",
    "\n",
    "> `accuracy_score` - is the correctly predicted observations divded by the total observations<br\n",
    ">> Gives the percantage of total observations that were predicted correctly. <br>\n",
    ">> However, this is not so useful for imbalanced data sets, as it does not account for false positives and false negatives <br>\n",
    "\n",
    "> `f1_score` - Is the weighted average of Precision and Recall <br>\n",
    ">> 'Precision' - Is the ratio of correctly predicted positive observations to the total predicted positive observations.<br> For example, for all that were classified in class 's', how were actually class 's'.<br>  <br>\n",
    ">> 'Recall' - is the ratio of correctly predicted positive observations to the all observations in the actual class. <br>For example, for all forest the were actually in class 's', how many were identified as class 's'.\n",
    "\n",
    "In this case the classes have been binarised, which creates more of an imbalanced dataset. This renders `accuracy_score` less useful.  <br> F1 score will be much better as it takes into account false positives and false negatives which is a better metric for this situation.\n",
    "\n"
   ]
  },
  {
   "cell_type": "markdown",
   "metadata": {},
   "source": [
    "## 5.2 Hyperparameter Tuning\n",
    "\n",
    "Optimisation of parameters through `GridSearchCV'\n",
    "\n",
    "The following hyperparameters have been chosen with reasoning shown below:\n",
    "> `loss` - The `loss` parameter defines the loss function used, where `hinge` uses a linear SVM and `log` uses a logistic regression classifier. <br>\n",
    "\n",
    "> `alpha` - The learning rate, important to consider to converge to the minima in the loss function. <br>\n",
    "\n",
    "> `tol` - Works in conjunction with the learning rate where `tol` is the stopping criterion. This attempts to identify where the minima point is, where the loss > previous_loss - tol. <br>\n",
    "\n",
    "> `max_iter` - Maximum passes over the training data.<br>\n",
    "\n",
    "Some of the key parameters to consider is how the `alpha`,`tol` and `max_iter` work together to converge towards the optimal result in the loss function."
   ]
  },
  {
   "cell_type": "code",
   "execution_count": 8,
   "metadata": {
    "scrolled": false
   },
   "outputs": [
    {
     "name": "stdout",
     "output_type": "stream",
     "text": [
      "Optimal score and parameters from tuning:\n",
      "0.9593092024587759\n",
      "{'alpha': 0.001, 'l1_ratio': 0.01, 'loss': 'hinge', 'max_iter': 10, 'tol': 1}\n"
     ]
    }
   ],
   "source": [
    "#Hyperparamter tuning\n",
    "from sklearn.metrics import make_scorer\n",
    "from sklearn.model_selection import GridSearchCV\n",
    "\n",
    "#List of parameters used in tuning\n",
    "parameters = {\n",
    "    'loss':('hinge', 'log'),\n",
    "    'alpha':[0.0001, 0.001,0.01],\n",
    "    'l1_ratio': [0.01, 0.05, 0.1, 0.2],\n",
    "    'tol': [1,0.5,0.1,0.01],\n",
    "    'max_iter': [5,10,25, 50, 100]\n",
    "}\n",
    "\n",
    "\n",
    "# Using F1 score as performance metric\n",
    "f1_score_method = make_scorer(f1_score, average = 'macro')\n",
    "\n",
    "#Cross-validation hyperparameter tuning\n",
    "clf = GridSearchCV(sgd_clf, parameters, cv=5, scoring = f1_score_method)\n",
    "clf.fit(X_train, y_train)\n",
    "\n",
    "#Print F1 score and best parameters\n",
    "print('Optimal score and parameters from tuning:')\n",
    "print(clf.best_score_)\n",
    "print(clf.best_params_)"
   ]
  },
  {
   "cell_type": "markdown",
   "metadata": {},
   "source": [
    "## 6. Logistic Regression with Softmax Function\n",
    "\n",
    "The steps for section 5. will now be repeated -  Classifying Forests using Logistic Regression with Softmax function.\n",
    "\n",
    "> Where `softmax` function calculates probabilities over all the possible target classes. This is utilised in the prediction process, taking the class with the highest probability as the prediction - great for multi-class classification."
   ]
  },
  {
   "cell_type": "code",
   "execution_count": 9,
   "metadata": {
    "colab": {
     "base_uri": "https://localhost:8080/",
     "height": 427
    },
    "colab_type": "code",
    "id": "11cbhbP-L8Yh",
    "outputId": "a95101f5-d42d-4695-a1c1-7ae8b764cfee",
    "scrolled": true
   },
   "outputs": [
    {
     "name": "stdout",
     "output_type": "stream",
     "text": [
      "F1 Score: 81.33%\n",
      "\n"
     ]
    },
    {
     "data": {
      "image/png": "[encoded data removed]",
      "text/plain": [
       "<Figure size 432x288 with 2 Axes>"
      ]
     },
     "metadata": {
      "needs_background": "light"
     },
     "output_type": "display_data"
    }
   ],
   "source": [
    "#Logistic Regression with Softmax function\n",
    "from sklearn.linear_model import LogisticRegression\n",
    "\n",
    "#Training set\n",
    "y_train = train_split[0]\n",
    "X_train = train_array\n",
    "\n",
    "#Test set\n",
    "y_test = test_split[0]\n",
    "X_test = test_array\n",
    "\n",
    "#Logistic Regression with Softmax Function (multinomial)\n",
    "#C = regularisation factor, prevents overfitting\n",
    "#solver = lbfgs , an optimissation algorithm that supports in softmax and l2 penalty\n",
    "\n",
    "softmax_reg = LogisticRegression(multi_class=\"multinomial\",solver=\"lbfgs\") \n",
    "softmax_reg.fit(X = X_train, y = y_train)\n",
    "prediction = softmax_reg.predict(X_test)\n",
    "\n",
    "#Creating figure\n",
    "fig = plt.figure()\n",
    "labels=['d','h','o','s']\n",
    "\n",
    "#Creating confusion matrix \n",
    "conf_mx = confusion_matrix(y_test, prediction)\n",
    "sns.heatmap(conf_mx, xticklabels= labels, yticklabels= labels,cmap = 'Blues')\n",
    "    \n",
    "#Plot labels\n",
    "plt.title('Logistic Regression - with Softmax Function')\n",
    "plt.xlabel('Predicted Class');\n",
    "plt.ylabel('Actual Class');\n",
    "    \n",
    "#Score\n",
    "#print('Accuracy Score:' + str(\"%.2f\" % (accuracy_score(y_test, prediction)*100))+'%')\n",
    "print('F1 Score: '+ str(\"%.2f\" % (f1_score(y_test, prediction,average = 'macro')*100)) +'%' +'\\n')"
   ]
  },
  {
   "cell_type": "markdown",
   "metadata": {},
   "source": [
    "# 6.1 Observations \n",
    "\n",
    "An F1 Score of 83.69% is not that great, however this needs to be taken into context once the hyperparameters are tuned"
   ]
  },
  {
   "cell_type": "markdown",
   "metadata": {},
   "source": [
    "## 6.2 Hyperparameter Tuning\n",
    "\n",
    "Some of these parameters have been explained in section 5.2, here it is important to consider `C` which is the regularisation factor.\n",
    "\n",
    ">`C` - Helps to prevent overfitting of the training set through regularisation.\n",
    "\n",
    "The tuned hyperparameters have been investigated below."
   ]
  },
  {
   "cell_type": "code",
   "execution_count": 10,
   "metadata": {},
   "outputs": [
    {
     "name": "stdout",
     "output_type": "stream",
     "text": [
      "Optimal score and parameters from tuning:\n",
      "0.9440841325844355\n",
      "{'C': 5, 'max_iter': 10, 'tol': 0.5}\n"
     ]
    }
   ],
   "source": [
    "#Hyperparameter Tuning\n",
    "\n",
    "parameters = {\n",
    "    'tol':[1,0.5,0.1 , 0.05,0.01],\n",
    "    'C': [2, 5, 10,15,20,30],\n",
    "    'max_iter': [1,2,5,10,15,20,50]\n",
    "}\n",
    "    \n",
    "#Cross Validation of 5 segments using F1 score\n",
    "clf = GridSearchCV(softmax_reg, parameters, cv=5,scoring=f1_score_method)\n",
    "clf.fit(X_train, y_train);\n",
    "\n",
    "#Print F1 score and best parameters\n",
    "print('Optimal score and parameters from tuning:')\n",
    "print(clf.best_score_)    \n",
    "print(clf.best_params_) "
   ]
  },
  {
   "cell_type": "markdown",
   "metadata": {
    "colab_type": "text",
    "id": "nw7FvIGLhGe0"
   },
   "source": [
    "## 7. Conclusion\n",
    "#### Which classifier gave better performance?\n",
    "Using the two classifiers with the F1 score metric, the results are shown below after hyperparameter tuning.<br>\n",
    "\n",
    ">One-Versus-All classifier with Stochastic Gradient Descent: <br>\n",
    ">F1 Score: 95.9%\n",
    "\n",
    ">Multi-class Logistic Regression: <br>\n",
    ">F1 Score: 94.4%\n",
    "\n",
    "Purely from this data set, we can conclude that the One-Versus-All classifier performed better.\n",
    "However, it will be interesting to see the comparison of the two classifiers on different data sets. <br>\n",
    "\n",
    "#### General conclusions\n",
    "This lab was a fantastic introduction into machine learning. In summary of my learning: <br>\n",
    "1. Data manipulation and data visualisation to deal with pre-processing.\n",
    "2. Details of the classifiers utilising metrics and visual diagrams to depict and understand the results.\n",
    "3. Tuning the classifiers through adjusting hyperparameters.\n",
    "4. Lastly, interpretation of data and the resuts.\n",
    "\n",
    "Thanks for reading!\n",
    "\n"
   ]
  },
  {
   "cell_type": "code",
   "execution_count": null,
   "metadata": {},
   "outputs": [],
   "source": []
  }
 ],
 "metadata": {
  "colab": {
   "collapsed_sections": [],
   "name": "lab 2.ipynb",
   "provenance": [],
   "toc_visible": true,
   "version": "0.3.2"
  },
  "kernelspec": {
   "display_name": "Python 3",
   "language": "python",
   "name": "python3"
  },
  "language_info": {
   "codemirror_mode": {
    "name": "ipython",
    "version": 3
   },
   "file_extension": ".py",
   "mimetype": "text/x-python",
   "name": "python",
   "nbconvert_exporter": "python",
   "pygments_lexer": "ipython3",
   "version": "3.6.5"
  }
 },
 "nbformat": 4,
 "nbformat_minor": 1
}
