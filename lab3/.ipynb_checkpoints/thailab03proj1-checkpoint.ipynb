{
 "cells": [
  {
   "cell_type": "markdown",
   "metadata": {
    "colab_type": "text",
    "id": "TThzqbrxSakt"
   },
   "source": [
    "# <center>CITS5508 Lab sheet 3: Project 1</center>\n",
    "\n",
    "**Name: Manh Duy Thai Nguyen**<br>\n",
    "**Student number: 21986407**<br>\n",
    "**Date created:** March 28th 2020<br>\n",
    "**Last modified:** April 16th 2020<br>\n",
    "\n",
    "The data set contains protein localization sites. This notebook will classify the Cellular Localization Sites of Proteins on some E. Coli bacteria data. It will comprise of three individual classifiers: an SVM classifier, a Logistic Regression classifier, and a Gradient Descent classifier.\n",
    "\n",
    "Data provided from: https://archive.ics.uci.edu/ml/datasets/ecoli\n"
   ]
  },
  {
   "cell_type": "markdown",
   "metadata": {
    "colab_type": "text",
    "id": "Kq-eoD87W4x8"
   },
   "source": [
    "# 0. Environment Setup\n",
    "\n",
    "Importing packages"
   ]
  },
  {
   "cell_type": "code",
   "execution_count": 0,
   "metadata": {
    "colab": {},
    "colab_type": "code",
    "id": "HiomITiAW4Sf"
   },
   "outputs": [],
   "source": [
    "# Import packages\n",
    "import os\n",
    "import pandas as pd\n",
    "import numpy as np\n",
    "import matplotlib.pyplot as plt\n",
    "import sklearn as sklearn\n",
    "from sklearn import preprocessing\n",
    "from sklearn.model_selection import train_test_split\n",
    "from sklearn.svm import SVC\n",
    "from sklearn.linear_model import LogisticRegression\n",
    "from sklearn.linear_model import SGDClassifier\n",
    "from sklearn.metrics import confusion_matrix, precision_score, recall_score, f1_score\n",
    "from sklearn.ensemble import RandomForestClassifier, VotingClassifier"
   ]
  },
  {
   "cell_type": "markdown",
   "metadata": {
    "colab_type": "text",
    "id": "zneR-eVSSakw"
   },
   "source": [
    "# 1. Data Loading, Cleaning & Visualisation\n",
    "\n",
    "In this section the data file is read into a pandas dataframe. The first couple of rows are displayed showing all the columns in the data. Data is then cleaned and visualised using histograms."
   ]
  },
  {
   "cell_type": "markdown",
   "metadata": {
    "colab_type": "text",
    "id": "T36I1sDQb75N"
   },
   "source": [
    "## Data Loading\n",
    "\n",
    "The data is read in and we prepend the column names to it as it didn't have that row before."
   ]
  },
  {
   "cell_type": "code",
   "execution_count": 0,
   "metadata": {
    "colab": {},
    "colab_type": "code",
    "id": "He-pmOmBSaky"
   },
   "outputs": [],
   "source": [
    "# Set up global variables for the data\n",
    "dataPath = \"ecoli.data\"\n",
    "\n",
    "# Function for prepend line to file from https://stackoverflow.com/questions/5914627/prepend-line-to-beginning-of-a-file\n",
    "# I made some modifications to make sure it doesn't duplicate print lines when rerunning the code\n",
    "def line_prepender(filename, line):\n",
    "    with open(filename, 'r+') as f:\n",
    "        content = f.read()\n",
    "        f.seek(0, 0)\n",
    "        first = f.readline()\n",
    "        if first != line + '\\n':\n",
    "          f.seek(0, 0)\n",
    "          f.write(line.rstrip('\\r\\n') + '\\n' + content)\n",
    "        f.close()\n",
    "\n",
    "# Add in column names into the file, got from the data file\n",
    "line_prepender(dataPath, \"Sequence_Name mcg gvh lip chg aac alm1 alm2 Class_Label\")\n",
    "\n",
    "# Read csvs into pandas\n",
    "dataTable = pd.read_csv(dataPath, delim_whitespace=True)"
   ]
  },
  {
   "cell_type": "code",
   "execution_count": 3,
   "metadata": {
    "colab": {
     "base_uri": "https://localhost:8080/",
     "height": 204
    },
    "colab_type": "code",
    "id": "5sW2jbZuaNWc",
    "outputId": "fd5201e6-27fa-4a96-eee2-40c923946d72"
   },
   "outputs": [
    {
     "data": {
      "text/html": [
       "<div>\n",
       "<style scoped>\n",
       "    .dataframe tbody tr th:only-of-type {\n",
       "        vertical-align: middle;\n",
       "    }\n",
       "\n",
       "    .dataframe tbody tr th {\n",
       "        vertical-align: top;\n",
       "    }\n",
       "\n",
       "    .dataframe thead th {\n",
       "        text-align: right;\n",
       "    }\n",
       "</style>\n",
       "<table border=\"1\" class=\"dataframe\">\n",
       "  <thead>\n",
       "    <tr style=\"text-align: right;\">\n",
       "      <th></th>\n",
       "      <th>Sequence_Name</th>\n",
       "      <th>mcg</th>\n",
       "      <th>gvh</th>\n",
       "      <th>lip</th>\n",
       "      <th>chg</th>\n",
       "      <th>aac</th>\n",
       "      <th>alm1</th>\n",
       "      <th>alm2</th>\n",
       "      <th>Class_Label</th>\n",
       "    </tr>\n",
       "  </thead>\n",
       "  <tbody>\n",
       "    <tr>\n",
       "      <th>0</th>\n",
       "      <td>AAT_ECOLI</td>\n",
       "      <td>0.49</td>\n",
       "      <td>0.29</td>\n",
       "      <td>0.48</td>\n",
       "      <td>0.5</td>\n",
       "      <td>0.56</td>\n",
       "      <td>0.24</td>\n",
       "      <td>0.35</td>\n",
       "      <td>cp</td>\n",
       "    </tr>\n",
       "    <tr>\n",
       "      <th>1</th>\n",
       "      <td>ACEA_ECOLI</td>\n",
       "      <td>0.07</td>\n",
       "      <td>0.40</td>\n",
       "      <td>0.48</td>\n",
       "      <td>0.5</td>\n",
       "      <td>0.54</td>\n",
       "      <td>0.35</td>\n",
       "      <td>0.44</td>\n",
       "      <td>cp</td>\n",
       "    </tr>\n",
       "    <tr>\n",
       "      <th>2</th>\n",
       "      <td>ACEK_ECOLI</td>\n",
       "      <td>0.56</td>\n",
       "      <td>0.40</td>\n",
       "      <td>0.48</td>\n",
       "      <td>0.5</td>\n",
       "      <td>0.49</td>\n",
       "      <td>0.37</td>\n",
       "      <td>0.46</td>\n",
       "      <td>cp</td>\n",
       "    </tr>\n",
       "    <tr>\n",
       "      <th>3</th>\n",
       "      <td>ACKA_ECOLI</td>\n",
       "      <td>0.59</td>\n",
       "      <td>0.49</td>\n",
       "      <td>0.48</td>\n",
       "      <td>0.5</td>\n",
       "      <td>0.52</td>\n",
       "      <td>0.45</td>\n",
       "      <td>0.36</td>\n",
       "      <td>cp</td>\n",
       "    </tr>\n",
       "    <tr>\n",
       "      <th>4</th>\n",
       "      <td>ADI_ECOLI</td>\n",
       "      <td>0.23</td>\n",
       "      <td>0.32</td>\n",
       "      <td>0.48</td>\n",
       "      <td>0.5</td>\n",
       "      <td>0.55</td>\n",
       "      <td>0.25</td>\n",
       "      <td>0.35</td>\n",
       "      <td>cp</td>\n",
       "    </tr>\n",
       "  </tbody>\n",
       "</table>\n",
       "</div>"
      ],
      "text/plain": [
       "  Sequence_Name   mcg   gvh   lip  chg   aac  alm1  alm2 Class_Label\n",
       "0     AAT_ECOLI  0.49  0.29  0.48  0.5  0.56  0.24  0.35          cp\n",
       "1    ACEA_ECOLI  0.07  0.40  0.48  0.5  0.54  0.35  0.44          cp\n",
       "2    ACEK_ECOLI  0.56  0.40  0.48  0.5  0.49  0.37  0.46          cp\n",
       "3    ACKA_ECOLI  0.59  0.49  0.48  0.5  0.52  0.45  0.36          cp\n",
       "4     ADI_ECOLI  0.23  0.32  0.48  0.5  0.55  0.25  0.35          cp"
      ]
     },
     "execution_count": 3,
     "metadata": {
      "tags": []
     },
     "output_type": "execute_result"
    }
   ],
   "source": [
    "# Print out the table to see what it looks like\n",
    "dataTable.head()"
   ]
  },
  {
   "cell_type": "markdown",
   "metadata": {
    "colab_type": "text",
    "id": "Pv-0_VFldq8R"
   },
   "source": [
    "## Data Cleaning\n",
    "\n",
    "Looking at data there are some classes that have less than 10 instances, since we can't classify them they will be removed.\n",
    "\n",
    "There are 8 classes with their respective counts, this data was taken from the ecoli.names file:\n",
    "* cp  (cytoplasm)                                     143\n",
    "* im  (inner membrane without signal sequence)        77               \n",
    "* pp  (perisplasm)                                    52\n",
    "* imU (inner membrane, uncleavable signal sequence)   35\n",
    "* om  (outer membrane)                                20\n",
    "* omL (outer membrane lipoprotein)                     5\n",
    "* imL (inner membrane lipoprotein)                     2\n",
    "* imS (inner membrane, cleavable signal sequence)      2\n",
    "\n",
    "Judging from this it looks like we need to remove the last 3 classes as they have less than 10 instances."
   ]
  },
  {
   "cell_type": "code",
   "execution_count": 4,
   "metadata": {
    "colab": {
     "base_uri": "https://localhost:8080/",
     "height": 419
    },
    "colab_type": "code",
    "id": "zyEUrM-6iuKp",
    "outputId": "bbd403a2-63a6-4b6b-b074-05c113540872"
   },
   "outputs": [
    {
     "data": {
      "text/html": [
       "<div>\n",
       "<style scoped>\n",
       "    .dataframe tbody tr th:only-of-type {\n",
       "        vertical-align: middle;\n",
       "    }\n",
       "\n",
       "    .dataframe tbody tr th {\n",
       "        vertical-align: top;\n",
       "    }\n",
       "\n",
       "    .dataframe thead th {\n",
       "        text-align: right;\n",
       "    }\n",
       "</style>\n",
       "<table border=\"1\" class=\"dataframe\">\n",
       "  <thead>\n",
       "    <tr style=\"text-align: right;\">\n",
       "      <th></th>\n",
       "      <th>index</th>\n",
       "      <th>Sequence_Name</th>\n",
       "      <th>mcg</th>\n",
       "      <th>gvh</th>\n",
       "      <th>lip</th>\n",
       "      <th>chg</th>\n",
       "      <th>aac</th>\n",
       "      <th>alm1</th>\n",
       "      <th>alm2</th>\n",
       "      <th>Class_Label</th>\n",
       "    </tr>\n",
       "  </thead>\n",
       "  <tbody>\n",
       "    <tr>\n",
       "      <th>0</th>\n",
       "      <td>0</td>\n",
       "      <td>AAT_ECOLI</td>\n",
       "      <td>0.49</td>\n",
       "      <td>0.29</td>\n",
       "      <td>0.48</td>\n",
       "      <td>0.5</td>\n",
       "      <td>0.56</td>\n",
       "      <td>0.24</td>\n",
       "      <td>0.35</td>\n",
       "      <td>cp</td>\n",
       "    </tr>\n",
       "    <tr>\n",
       "      <th>1</th>\n",
       "      <td>1</td>\n",
       "      <td>ACEA_ECOLI</td>\n",
       "      <td>0.07</td>\n",
       "      <td>0.40</td>\n",
       "      <td>0.48</td>\n",
       "      <td>0.5</td>\n",
       "      <td>0.54</td>\n",
       "      <td>0.35</td>\n",
       "      <td>0.44</td>\n",
       "      <td>cp</td>\n",
       "    </tr>\n",
       "    <tr>\n",
       "      <th>2</th>\n",
       "      <td>2</td>\n",
       "      <td>ACEK_ECOLI</td>\n",
       "      <td>0.56</td>\n",
       "      <td>0.40</td>\n",
       "      <td>0.48</td>\n",
       "      <td>0.5</td>\n",
       "      <td>0.49</td>\n",
       "      <td>0.37</td>\n",
       "      <td>0.46</td>\n",
       "      <td>cp</td>\n",
       "    </tr>\n",
       "    <tr>\n",
       "      <th>3</th>\n",
       "      <td>3</td>\n",
       "      <td>ACKA_ECOLI</td>\n",
       "      <td>0.59</td>\n",
       "      <td>0.49</td>\n",
       "      <td>0.48</td>\n",
       "      <td>0.5</td>\n",
       "      <td>0.52</td>\n",
       "      <td>0.45</td>\n",
       "      <td>0.36</td>\n",
       "      <td>cp</td>\n",
       "    </tr>\n",
       "    <tr>\n",
       "      <th>4</th>\n",
       "      <td>4</td>\n",
       "      <td>ADI_ECOLI</td>\n",
       "      <td>0.23</td>\n",
       "      <td>0.32</td>\n",
       "      <td>0.48</td>\n",
       "      <td>0.5</td>\n",
       "      <td>0.55</td>\n",
       "      <td>0.25</td>\n",
       "      <td>0.35</td>\n",
       "      <td>cp</td>\n",
       "    </tr>\n",
       "    <tr>\n",
       "      <th>...</th>\n",
       "      <td>...</td>\n",
       "      <td>...</td>\n",
       "      <td>...</td>\n",
       "      <td>...</td>\n",
       "      <td>...</td>\n",
       "      <td>...</td>\n",
       "      <td>...</td>\n",
       "      <td>...</td>\n",
       "      <td>...</td>\n",
       "      <td>...</td>\n",
       "    </tr>\n",
       "    <tr>\n",
       "      <th>322</th>\n",
       "      <td>331</td>\n",
       "      <td>TREA_ECOLI</td>\n",
       "      <td>0.74</td>\n",
       "      <td>0.56</td>\n",
       "      <td>0.48</td>\n",
       "      <td>0.5</td>\n",
       "      <td>0.47</td>\n",
       "      <td>0.68</td>\n",
       "      <td>0.30</td>\n",
       "      <td>pp</td>\n",
       "    </tr>\n",
       "    <tr>\n",
       "      <th>323</th>\n",
       "      <td>332</td>\n",
       "      <td>UGPB_ECOLI</td>\n",
       "      <td>0.71</td>\n",
       "      <td>0.57</td>\n",
       "      <td>0.48</td>\n",
       "      <td>0.5</td>\n",
       "      <td>0.48</td>\n",
       "      <td>0.35</td>\n",
       "      <td>0.32</td>\n",
       "      <td>pp</td>\n",
       "    </tr>\n",
       "    <tr>\n",
       "      <th>324</th>\n",
       "      <td>333</td>\n",
       "      <td>USHA_ECOLI</td>\n",
       "      <td>0.61</td>\n",
       "      <td>0.60</td>\n",
       "      <td>0.48</td>\n",
       "      <td>0.5</td>\n",
       "      <td>0.44</td>\n",
       "      <td>0.39</td>\n",
       "      <td>0.38</td>\n",
       "      <td>pp</td>\n",
       "    </tr>\n",
       "    <tr>\n",
       "      <th>325</th>\n",
       "      <td>334</td>\n",
       "      <td>XYLF_ECOLI</td>\n",
       "      <td>0.59</td>\n",
       "      <td>0.61</td>\n",
       "      <td>0.48</td>\n",
       "      <td>0.5</td>\n",
       "      <td>0.42</td>\n",
       "      <td>0.42</td>\n",
       "      <td>0.37</td>\n",
       "      <td>pp</td>\n",
       "    </tr>\n",
       "    <tr>\n",
       "      <th>326</th>\n",
       "      <td>335</td>\n",
       "      <td>YTFQ_ECOLI</td>\n",
       "      <td>0.74</td>\n",
       "      <td>0.74</td>\n",
       "      <td>0.48</td>\n",
       "      <td>0.5</td>\n",
       "      <td>0.31</td>\n",
       "      <td>0.53</td>\n",
       "      <td>0.52</td>\n",
       "      <td>pp</td>\n",
       "    </tr>\n",
       "  </tbody>\n",
       "</table>\n",
       "<p>327 rows × 10 columns</p>\n",
       "</div>"
      ],
      "text/plain": [
       "     index Sequence_Name   mcg   gvh   lip  chg   aac  alm1  alm2 Class_Label\n",
       "0        0     AAT_ECOLI  0.49  0.29  0.48  0.5  0.56  0.24  0.35          cp\n",
       "1        1    ACEA_ECOLI  0.07  0.40  0.48  0.5  0.54  0.35  0.44          cp\n",
       "2        2    ACEK_ECOLI  0.56  0.40  0.48  0.5  0.49  0.37  0.46          cp\n",
       "3        3    ACKA_ECOLI  0.59  0.49  0.48  0.5  0.52  0.45  0.36          cp\n",
       "4        4     ADI_ECOLI  0.23  0.32  0.48  0.5  0.55  0.25  0.35          cp\n",
       "..     ...           ...   ...   ...   ...  ...   ...   ...   ...         ...\n",
       "322    331    TREA_ECOLI  0.74  0.56  0.48  0.5  0.47  0.68  0.30          pp\n",
       "323    332    UGPB_ECOLI  0.71  0.57  0.48  0.5  0.48  0.35  0.32          pp\n",
       "324    333    USHA_ECOLI  0.61  0.60  0.48  0.5  0.44  0.39  0.38          pp\n",
       "325    334    XYLF_ECOLI  0.59  0.61  0.48  0.5  0.42  0.42  0.37          pp\n",
       "326    335    YTFQ_ECOLI  0.74  0.74  0.48  0.5  0.31  0.53  0.52          pp\n",
       "\n",
       "[327 rows x 10 columns]"
      ]
     },
     "execution_count": 4,
     "metadata": {
      "tags": []
     },
     "output_type": "execute_result"
    }
   ],
   "source": [
    "# Hardcoded the removal of the columns that had less than 10 instances.\n",
    "\n",
    "dataTable.drop(dataTable.loc[dataTable['Class_Label'] == 'omL'].index, inplace=True)\n",
    "dataTable.drop(dataTable.loc[dataTable['Class_Label'] == 'imL'].index, inplace=True)\n",
    "dataTable.drop(dataTable.loc[dataTable['Class_Label'] == 'imS'].index, inplace=True)\n",
    "dataTable.reset_index()\n"
   ]
  },
  {
   "cell_type": "code",
   "execution_count": 5,
   "metadata": {
    "colab": {
     "base_uri": "https://localhost:8080/",
     "height": 204
    },
    "colab_type": "code",
    "id": "uL9IjVXwiLXJ",
    "outputId": "1b9d2064-d8ef-4d4f-8647-6c15752f3715"
   },
   "outputs": [
    {
     "data": {
      "text/html": [
       "<div>\n",
       "<style scoped>\n",
       "    .dataframe tbody tr th:only-of-type {\n",
       "        vertical-align: middle;\n",
       "    }\n",
       "\n",
       "    .dataframe tbody tr th {\n",
       "        vertical-align: top;\n",
       "    }\n",
       "\n",
       "    .dataframe thead th {\n",
       "        text-align: right;\n",
       "    }\n",
       "</style>\n",
       "<table border=\"1\" class=\"dataframe\">\n",
       "  <thead>\n",
       "    <tr style=\"text-align: right;\">\n",
       "      <th></th>\n",
       "      <th>Sequence_Name</th>\n",
       "      <th>mcg</th>\n",
       "      <th>gvh</th>\n",
       "      <th>lip</th>\n",
       "      <th>chg</th>\n",
       "      <th>aac</th>\n",
       "      <th>alm1</th>\n",
       "      <th>alm2</th>\n",
       "      <th>Class_Label</th>\n",
       "    </tr>\n",
       "  </thead>\n",
       "  <tbody>\n",
       "    <tr>\n",
       "      <th>0</th>\n",
       "      <td>AAT_ECOLI</td>\n",
       "      <td>0.49</td>\n",
       "      <td>0.29</td>\n",
       "      <td>0.48</td>\n",
       "      <td>0.5</td>\n",
       "      <td>0.56</td>\n",
       "      <td>0.24</td>\n",
       "      <td>0.35</td>\n",
       "      <td>cp</td>\n",
       "    </tr>\n",
       "    <tr>\n",
       "      <th>1</th>\n",
       "      <td>ACEA_ECOLI</td>\n",
       "      <td>0.07</td>\n",
       "      <td>0.40</td>\n",
       "      <td>0.48</td>\n",
       "      <td>0.5</td>\n",
       "      <td>0.54</td>\n",
       "      <td>0.35</td>\n",
       "      <td>0.44</td>\n",
       "      <td>cp</td>\n",
       "    </tr>\n",
       "    <tr>\n",
       "      <th>2</th>\n",
       "      <td>ACEK_ECOLI</td>\n",
       "      <td>0.56</td>\n",
       "      <td>0.40</td>\n",
       "      <td>0.48</td>\n",
       "      <td>0.5</td>\n",
       "      <td>0.49</td>\n",
       "      <td>0.37</td>\n",
       "      <td>0.46</td>\n",
       "      <td>cp</td>\n",
       "    </tr>\n",
       "    <tr>\n",
       "      <th>3</th>\n",
       "      <td>ACKA_ECOLI</td>\n",
       "      <td>0.59</td>\n",
       "      <td>0.49</td>\n",
       "      <td>0.48</td>\n",
       "      <td>0.5</td>\n",
       "      <td>0.52</td>\n",
       "      <td>0.45</td>\n",
       "      <td>0.36</td>\n",
       "      <td>cp</td>\n",
       "    </tr>\n",
       "    <tr>\n",
       "      <th>4</th>\n",
       "      <td>ADI_ECOLI</td>\n",
       "      <td>0.23</td>\n",
       "      <td>0.32</td>\n",
       "      <td>0.48</td>\n",
       "      <td>0.5</td>\n",
       "      <td>0.55</td>\n",
       "      <td>0.25</td>\n",
       "      <td>0.35</td>\n",
       "      <td>cp</td>\n",
       "    </tr>\n",
       "  </tbody>\n",
       "</table>\n",
       "</div>"
      ],
      "text/plain": [
       "  Sequence_Name   mcg   gvh   lip  chg   aac  alm1  alm2 Class_Label\n",
       "0     AAT_ECOLI  0.49  0.29  0.48  0.5  0.56  0.24  0.35          cp\n",
       "1    ACEA_ECOLI  0.07  0.40  0.48  0.5  0.54  0.35  0.44          cp\n",
       "2    ACEK_ECOLI  0.56  0.40  0.48  0.5  0.49  0.37  0.46          cp\n",
       "3    ACKA_ECOLI  0.59  0.49  0.48  0.5  0.52  0.45  0.36          cp\n",
       "4     ADI_ECOLI  0.23  0.32  0.48  0.5  0.55  0.25  0.35          cp"
      ]
     },
     "execution_count": 5,
     "metadata": {
      "tags": []
     },
     "output_type": "execute_result"
    }
   ],
   "source": [
    "dataTable.head()"
   ]
  },
  {
   "cell_type": "code",
   "execution_count": 6,
   "metadata": {
    "colab": {
     "base_uri": "https://localhost:8080/",
     "height": 1000
    },
    "colab_type": "code",
    "id": "nnuKK-wiiOwK",
    "outputId": "cc0386b7-ad19-45a0-afe0-9385c639a1e1"
   },
   "outputs": [
    {
     "data": {
      "image/png": "[encoded data removed]",
      "text/plain": [
       "<Figure size 1440x1440 with 9 Axes>"
      ]
     },
     "metadata": {
      "needs_background": "light",
      "tags": []
     },
     "output_type": "display_data"
    }
   ],
   "source": [
    "# Plot histograms with 25 bins\n",
    "dataTable.hist(bins=25, figsize=(20,20))\n",
    "plt.show()"
   ]
  },
  {
   "cell_type": "markdown",
   "metadata": {
    "colab_type": "text",
    "id": "IlKFSfdw4aAj"
   },
   "source": [
    "## Histogram Analysis\n",
    "\n",
    "Look at the histograms for each column its clear that a majority of them don't follow a nice bell curve. 'aac' looks fine while 'chg' and 'lip' looks that way because they are binary as told from the dataset information. There isn't enough information to determine if the data follows a normal distribution so I will not be performing a standisation. \n",
    "\n",
    "However I will be performing a normalisation, even though the scale of the features are all similar normalising will still help with the classification even if its a small difference."
   ]
  },
  {
   "cell_type": "markdown",
   "metadata": {
    "colab_type": "text",
    "id": "Qk4SFZIOEtCa"
   },
   "source": [
    "# 2. Data Split & Normalisation\n",
    "\n",
    "Here we will split the dataset 80/20 for training and testing followed by a min-max normalisation."
   ]
  },
  {
   "cell_type": "code",
   "execution_count": 7,
   "metadata": {
    "colab": {
     "base_uri": "https://localhost:8080/",
     "height": 419
    },
    "colab_type": "code",
    "id": "eaad4_IlSf1h",
    "outputId": "2423c33f-a5fa-40a8-c098-636089e27f6e"
   },
   "outputs": [
    {
     "data": {
      "text/html": [
       "<div>\n",
       "<style scoped>\n",
       "    .dataframe tbody tr th:only-of-type {\n",
       "        vertical-align: middle;\n",
       "    }\n",
       "\n",
       "    .dataframe tbody tr th {\n",
       "        vertical-align: top;\n",
       "    }\n",
       "\n",
       "    .dataframe thead th {\n",
       "        text-align: right;\n",
       "    }\n",
       "</style>\n",
       "<table border=\"1\" class=\"dataframe\">\n",
       "  <thead>\n",
       "    <tr style=\"text-align: right;\">\n",
       "      <th></th>\n",
       "      <th>Sequence_Name</th>\n",
       "      <th>mcg</th>\n",
       "      <th>gvh</th>\n",
       "      <th>lip</th>\n",
       "      <th>chg</th>\n",
       "      <th>aac</th>\n",
       "      <th>alm1</th>\n",
       "      <th>alm2</th>\n",
       "      <th>Class_Label</th>\n",
       "    </tr>\n",
       "  </thead>\n",
       "  <tbody>\n",
       "    <tr>\n",
       "      <th>0</th>\n",
       "      <td>SYK2_ECOLI</td>\n",
       "      <td>0.17</td>\n",
       "      <td>0.39</td>\n",
       "      <td>0.48</td>\n",
       "      <td>0.5</td>\n",
       "      <td>0.53</td>\n",
       "      <td>0.30</td>\n",
       "      <td>0.39</td>\n",
       "      <td>cp</td>\n",
       "    </tr>\n",
       "    <tr>\n",
       "      <th>1</th>\n",
       "      <td>METK_ECOLI</td>\n",
       "      <td>0.25</td>\n",
       "      <td>0.37</td>\n",
       "      <td>0.48</td>\n",
       "      <td>0.5</td>\n",
       "      <td>0.41</td>\n",
       "      <td>0.33</td>\n",
       "      <td>0.42</td>\n",
       "      <td>cp</td>\n",
       "    </tr>\n",
       "    <tr>\n",
       "      <th>2</th>\n",
       "      <td>XYLA_ECOLI</td>\n",
       "      <td>0.16</td>\n",
       "      <td>0.43</td>\n",
       "      <td>0.48</td>\n",
       "      <td>0.5</td>\n",
       "      <td>0.54</td>\n",
       "      <td>0.27</td>\n",
       "      <td>0.37</td>\n",
       "      <td>cp</td>\n",
       "    </tr>\n",
       "    <tr>\n",
       "      <th>3</th>\n",
       "      <td>PNTB_ECOLI</td>\n",
       "      <td>0.81</td>\n",
       "      <td>0.52</td>\n",
       "      <td>0.48</td>\n",
       "      <td>0.5</td>\n",
       "      <td>0.57</td>\n",
       "      <td>0.78</td>\n",
       "      <td>0.80</td>\n",
       "      <td>imU</td>\n",
       "    </tr>\n",
       "    <tr>\n",
       "      <th>4</th>\n",
       "      <td>ARAE_ECOLI</td>\n",
       "      <td>0.23</td>\n",
       "      <td>0.48</td>\n",
       "      <td>0.48</td>\n",
       "      <td>0.5</td>\n",
       "      <td>0.59</td>\n",
       "      <td>0.88</td>\n",
       "      <td>0.89</td>\n",
       "      <td>im</td>\n",
       "    </tr>\n",
       "    <tr>\n",
       "      <th>...</th>\n",
       "      <td>...</td>\n",
       "      <td>...</td>\n",
       "      <td>...</td>\n",
       "      <td>...</td>\n",
       "      <td>...</td>\n",
       "      <td>...</td>\n",
       "      <td>...</td>\n",
       "      <td>...</td>\n",
       "      <td>...</td>\n",
       "    </tr>\n",
       "    <tr>\n",
       "      <th>61</th>\n",
       "      <td>FTSH_ECOLI</td>\n",
       "      <td>0.81</td>\n",
       "      <td>0.44</td>\n",
       "      <td>0.48</td>\n",
       "      <td>0.5</td>\n",
       "      <td>0.42</td>\n",
       "      <td>0.67</td>\n",
       "      <td>0.68</td>\n",
       "      <td>imU</td>\n",
       "    </tr>\n",
       "    <tr>\n",
       "      <th>62</th>\n",
       "      <td>OMPR_ECOLI</td>\n",
       "      <td>0.24</td>\n",
       "      <td>0.43</td>\n",
       "      <td>0.48</td>\n",
       "      <td>0.5</td>\n",
       "      <td>0.37</td>\n",
       "      <td>0.28</td>\n",
       "      <td>0.38</td>\n",
       "      <td>cp</td>\n",
       "    </tr>\n",
       "    <tr>\n",
       "      <th>63</th>\n",
       "      <td>IF2_ECOLI</td>\n",
       "      <td>0.22</td>\n",
       "      <td>0.36</td>\n",
       "      <td>0.48</td>\n",
       "      <td>0.5</td>\n",
       "      <td>0.35</td>\n",
       "      <td>0.39</td>\n",
       "      <td>0.47</td>\n",
       "      <td>cp</td>\n",
       "    </tr>\n",
       "    <tr>\n",
       "      <th>64</th>\n",
       "      <td>GLTS_ECOLI</td>\n",
       "      <td>0.58</td>\n",
       "      <td>0.60</td>\n",
       "      <td>0.48</td>\n",
       "      <td>0.5</td>\n",
       "      <td>0.59</td>\n",
       "      <td>0.73</td>\n",
       "      <td>0.76</td>\n",
       "      <td>imU</td>\n",
       "    </tr>\n",
       "    <tr>\n",
       "      <th>65</th>\n",
       "      <td>FTSN_ECOLI</td>\n",
       "      <td>0.00</td>\n",
       "      <td>0.51</td>\n",
       "      <td>0.48</td>\n",
       "      <td>0.5</td>\n",
       "      <td>0.35</td>\n",
       "      <td>0.67</td>\n",
       "      <td>0.44</td>\n",
       "      <td>im</td>\n",
       "    </tr>\n",
       "  </tbody>\n",
       "</table>\n",
       "<p>66 rows × 9 columns</p>\n",
       "</div>"
      ],
      "text/plain": [
       "   Sequence_Name   mcg   gvh   lip  chg   aac  alm1  alm2 Class_Label\n",
       "0     SYK2_ECOLI  0.17  0.39  0.48  0.5  0.53  0.30  0.39          cp\n",
       "1     METK_ECOLI  0.25  0.37  0.48  0.5  0.41  0.33  0.42          cp\n",
       "2     XYLA_ECOLI  0.16  0.43  0.48  0.5  0.54  0.27  0.37          cp\n",
       "3     PNTB_ECOLI  0.81  0.52  0.48  0.5  0.57  0.78  0.80         imU\n",
       "4     ARAE_ECOLI  0.23  0.48  0.48  0.5  0.59  0.88  0.89          im\n",
       "..           ...   ...   ...   ...  ...   ...   ...   ...         ...\n",
       "61    FTSH_ECOLI  0.81  0.44  0.48  0.5  0.42  0.67  0.68         imU\n",
       "62    OMPR_ECOLI  0.24  0.43  0.48  0.5  0.37  0.28  0.38          cp\n",
       "63     IF2_ECOLI  0.22  0.36  0.48  0.5  0.35  0.39  0.47          cp\n",
       "64    GLTS_ECOLI  0.58  0.60  0.48  0.5  0.59  0.73  0.76         imU\n",
       "65    FTSN_ECOLI  0.00  0.51  0.48  0.5  0.35  0.67  0.44          im\n",
       "\n",
       "[66 rows x 9 columns]"
      ]
     },
     "execution_count": 7,
     "metadata": {
      "tags": []
     },
     "output_type": "execute_result"
    }
   ],
   "source": [
    "trainData, testData = train_test_split(dataTable, test_size=0.2, random_state=0)\n",
    "trainData = trainData.copy()\n",
    "trainData.reset_index(drop = True)\n",
    "testData = testData.copy()\n",
    "testData.reset_index(drop = True)"
   ]
  },
  {
   "cell_type": "markdown",
   "metadata": {
    "colab_type": "text",
    "id": "bvlaA44GZbit"
   },
   "source": [
    "We are going to run a min max scaler on the features to normalise it. I chose min max because it places the data onto the same scale so one feature does not weigh higher than the others. A second reason is that it does not affect the distribution of the data to allow the voting classifier to find the best fit."
   ]
  },
  {
   "cell_type": "code",
   "execution_count": 0,
   "metadata": {
    "colab": {},
    "colab_type": "code",
    "id": "6dZHgtPCEvem"
   },
   "outputs": [],
   "source": [
    "# Function for min max normalisation for preprocessing the data, this is done seperately from the pipeline\n",
    "# because the testing data needs to be transformed by the training data's fit function to keep it relatively the same.\n",
    "def minMaxPreProcess(data):\n",
    "    scaler = preprocessing.MinMaxScaler()\n",
    "    for col in data.columns:\n",
    "        if ('Sequence_Name' not in col) and ('Class_Label' not in col):\n",
    "            data[col] = scaler.fit_transform(data[col].values.reshape(-1, 1))\n",
    "    return data"
   ]
  },
  {
   "cell_type": "code",
   "execution_count": 9,
   "metadata": {
    "colab": {
     "base_uri": "https://localhost:8080/",
     "height": 419
    },
    "colab_type": "code",
    "id": "NJarWljnK1u6",
    "outputId": "d2c799bc-0142-4eec-9fdc-e7b93ab4dbaa"
   },
   "outputs": [
    {
     "data": {
      "text/html": [
       "<div>\n",
       "<style scoped>\n",
       "    .dataframe tbody tr th:only-of-type {\n",
       "        vertical-align: middle;\n",
       "    }\n",
       "\n",
       "    .dataframe tbody tr th {\n",
       "        vertical-align: top;\n",
       "    }\n",
       "\n",
       "    .dataframe thead th {\n",
       "        text-align: right;\n",
       "    }\n",
       "</style>\n",
       "<table border=\"1\" class=\"dataframe\">\n",
       "  <thead>\n",
       "    <tr style=\"text-align: right;\">\n",
       "      <th></th>\n",
       "      <th>Sequence_Name</th>\n",
       "      <th>mcg</th>\n",
       "      <th>gvh</th>\n",
       "      <th>lip</th>\n",
       "      <th>chg</th>\n",
       "      <th>aac</th>\n",
       "      <th>alm1</th>\n",
       "      <th>alm2</th>\n",
       "      <th>Class_Label</th>\n",
       "    </tr>\n",
       "  </thead>\n",
       "  <tbody>\n",
       "    <tr>\n",
       "      <th>1</th>\n",
       "      <td>ACEA_ECOLI</td>\n",
       "      <td>0.078652</td>\n",
       "      <td>0.285714</td>\n",
       "      <td>0.0</td>\n",
       "      <td>0.0</td>\n",
       "      <td>0.613636</td>\n",
       "      <td>0.351648</td>\n",
       "      <td>0.468085</td>\n",
       "      <td>cp</td>\n",
       "    </tr>\n",
       "    <tr>\n",
       "      <th>307</th>\n",
       "      <td>LIVJ_ECOLI</td>\n",
       "      <td>0.797753</td>\n",
       "      <td>0.833333</td>\n",
       "      <td>0.0</td>\n",
       "      <td>0.0</td>\n",
       "      <td>0.454545</td>\n",
       "      <td>0.560440</td>\n",
       "      <td>0.340426</td>\n",
       "      <td>pp</td>\n",
       "    </tr>\n",
       "    <tr>\n",
       "      <th>8</th>\n",
       "      <td>APT_ECOLI</td>\n",
       "      <td>0.224719</td>\n",
       "      <td>0.333333</td>\n",
       "      <td>0.0</td>\n",
       "      <td>0.0</td>\n",
       "      <td>0.522727</td>\n",
       "      <td>0.527473</td>\n",
       "      <td>0.606383</td>\n",
       "      <td>cp</td>\n",
       "    </tr>\n",
       "    <tr>\n",
       "      <th>213</th>\n",
       "      <td>FTSL_ECOLI</td>\n",
       "      <td>0.404494</td>\n",
       "      <td>0.345238</td>\n",
       "      <td>0.0</td>\n",
       "      <td>0.0</td>\n",
       "      <td>0.431818</td>\n",
       "      <td>0.835165</td>\n",
       "      <td>0.180851</td>\n",
       "      <td>im</td>\n",
       "    </tr>\n",
       "    <tr>\n",
       "      <th>101</th>\n",
       "      <td>RIMI_ECOLI</td>\n",
       "      <td>0.269663</td>\n",
       "      <td>0.488095</td>\n",
       "      <td>0.0</td>\n",
       "      <td>0.0</td>\n",
       "      <td>0.715909</td>\n",
       "      <td>0.340659</td>\n",
       "      <td>0.457447</td>\n",
       "      <td>cp</td>\n",
       "    </tr>\n",
       "    <tr>\n",
       "      <th>...</th>\n",
       "      <td>...</td>\n",
       "      <td>...</td>\n",
       "      <td>...</td>\n",
       "      <td>...</td>\n",
       "      <td>...</td>\n",
       "      <td>...</td>\n",
       "      <td>...</td>\n",
       "      <td>...</td>\n",
       "      <td>...</td>\n",
       "    </tr>\n",
       "    <tr>\n",
       "      <th>255</th>\n",
       "      <td>TYRP_ECOLI</td>\n",
       "      <td>0.966292</td>\n",
       "      <td>0.464286</td>\n",
       "      <td>0.0</td>\n",
       "      <td>0.0</td>\n",
       "      <td>0.715909</td>\n",
       "      <td>0.857143</td>\n",
       "      <td>0.882979</td>\n",
       "      <td>imU</td>\n",
       "    </tr>\n",
       "    <tr>\n",
       "      <th>192</th>\n",
       "      <td>PROP_ECOLI</td>\n",
       "      <td>0.460674</td>\n",
       "      <td>0.416667</td>\n",
       "      <td>0.0</td>\n",
       "      <td>0.0</td>\n",
       "      <td>0.602273</td>\n",
       "      <td>0.791209</td>\n",
       "      <td>0.829787</td>\n",
       "      <td>im</td>\n",
       "    </tr>\n",
       "    <tr>\n",
       "      <th>117</th>\n",
       "      <td>SYGA_ECOLI</td>\n",
       "      <td>0.573034</td>\n",
       "      <td>0.392857</td>\n",
       "      <td>0.0</td>\n",
       "      <td>0.0</td>\n",
       "      <td>0.602273</td>\n",
       "      <td>0.120879</td>\n",
       "      <td>0.276596</td>\n",
       "      <td>cp</td>\n",
       "    </tr>\n",
       "    <tr>\n",
       "      <th>47</th>\n",
       "      <td>GT_ECOLI</td>\n",
       "      <td>0.483146</td>\n",
       "      <td>0.285714</td>\n",
       "      <td>0.0</td>\n",
       "      <td>0.0</td>\n",
       "      <td>0.443182</td>\n",
       "      <td>0.274725</td>\n",
       "      <td>0.414894</td>\n",
       "      <td>cp</td>\n",
       "    </tr>\n",
       "    <tr>\n",
       "      <th>172</th>\n",
       "      <td>KDGL_ECOLI</td>\n",
       "      <td>0.370787</td>\n",
       "      <td>0.345238</td>\n",
       "      <td>0.0</td>\n",
       "      <td>0.0</td>\n",
       "      <td>0.511364</td>\n",
       "      <td>0.934066</td>\n",
       "      <td>0.946809</td>\n",
       "      <td>im</td>\n",
       "    </tr>\n",
       "  </tbody>\n",
       "</table>\n",
       "<p>261 rows × 9 columns</p>\n",
       "</div>"
      ],
      "text/plain": [
       "    Sequence_Name       mcg       gvh  ...      alm1      alm2  Class_Label\n",
       "1      ACEA_ECOLI  0.078652  0.285714  ...  0.351648  0.468085           cp\n",
       "307    LIVJ_ECOLI  0.797753  0.833333  ...  0.560440  0.340426           pp\n",
       "8       APT_ECOLI  0.224719  0.333333  ...  0.527473  0.606383           cp\n",
       "213    FTSL_ECOLI  0.404494  0.345238  ...  0.835165  0.180851           im\n",
       "101    RIMI_ECOLI  0.269663  0.488095  ...  0.340659  0.457447           cp\n",
       "..            ...       ...       ...  ...       ...       ...          ...\n",
       "255    TYRP_ECOLI  0.966292  0.464286  ...  0.857143  0.882979          imU\n",
       "192    PROP_ECOLI  0.460674  0.416667  ...  0.791209  0.829787           im\n",
       "117    SYGA_ECOLI  0.573034  0.392857  ...  0.120879  0.276596           cp\n",
       "47       GT_ECOLI  0.483146  0.285714  ...  0.274725  0.414894           cp\n",
       "172    KDGL_ECOLI  0.370787  0.345238  ...  0.934066  0.946809           im\n",
       "\n",
       "[261 rows x 9 columns]"
      ]
     },
     "execution_count": 9,
     "metadata": {
      "tags": []
     },
     "output_type": "execute_result"
    }
   ],
   "source": [
    "# Printing out the normalised training data.\n",
    "minMaxPreProcess(trainData)"
   ]
  },
  {
   "cell_type": "code",
   "execution_count": 10,
   "metadata": {
    "colab": {
     "base_uri": "https://localhost:8080/",
     "height": 419
    },
    "colab_type": "code",
    "id": "FLOwV485UhvI",
    "outputId": "84f25d19-f92c-4943-a42a-3930bde858bb"
   },
   "outputs": [
    {
     "data": {
      "text/html": [
       "<div>\n",
       "<style scoped>\n",
       "    .dataframe tbody tr th:only-of-type {\n",
       "        vertical-align: middle;\n",
       "    }\n",
       "\n",
       "    .dataframe tbody tr th {\n",
       "        vertical-align: top;\n",
       "    }\n",
       "\n",
       "    .dataframe thead th {\n",
       "        text-align: right;\n",
       "    }\n",
       "</style>\n",
       "<table border=\"1\" class=\"dataframe\">\n",
       "  <thead>\n",
       "    <tr style=\"text-align: right;\">\n",
       "      <th></th>\n",
       "      <th>Sequence_Name</th>\n",
       "      <th>mcg</th>\n",
       "      <th>gvh</th>\n",
       "      <th>lip</th>\n",
       "      <th>chg</th>\n",
       "      <th>aac</th>\n",
       "      <th>alm1</th>\n",
       "      <th>alm2</th>\n",
       "      <th>Class_Label</th>\n",
       "    </tr>\n",
       "  </thead>\n",
       "  <tbody>\n",
       "    <tr>\n",
       "      <th>122</th>\n",
       "      <td>SYK2_ECOLI</td>\n",
       "      <td>0.197674</td>\n",
       "      <td>0.253968</td>\n",
       "      <td>0.0</td>\n",
       "      <td>0.0</td>\n",
       "      <td>0.431034</td>\n",
       "      <td>0.263158</td>\n",
       "      <td>0.294118</td>\n",
       "      <td>cp</td>\n",
       "    </tr>\n",
       "    <tr>\n",
       "      <th>66</th>\n",
       "      <td>METK_ECOLI</td>\n",
       "      <td>0.290698</td>\n",
       "      <td>0.222222</td>\n",
       "      <td>0.0</td>\n",
       "      <td>0.0</td>\n",
       "      <td>0.224138</td>\n",
       "      <td>0.294737</td>\n",
       "      <td>0.329412</td>\n",
       "      <td>cp</td>\n",
       "    </tr>\n",
       "    <tr>\n",
       "      <th>142</th>\n",
       "      <td>XYLA_ECOLI</td>\n",
       "      <td>0.186047</td>\n",
       "      <td>0.317460</td>\n",
       "      <td>0.0</td>\n",
       "      <td>0.0</td>\n",
       "      <td>0.448276</td>\n",
       "      <td>0.231579</td>\n",
       "      <td>0.270588</td>\n",
       "      <td>cp</td>\n",
       "    </tr>\n",
       "    <tr>\n",
       "      <th>249</th>\n",
       "      <td>PNTB_ECOLI</td>\n",
       "      <td>0.941860</td>\n",
       "      <td>0.460317</td>\n",
       "      <td>0.0</td>\n",
       "      <td>0.0</td>\n",
       "      <td>0.500000</td>\n",
       "      <td>0.768421</td>\n",
       "      <td>0.776471</td>\n",
       "      <td>imU</td>\n",
       "    </tr>\n",
       "    <tr>\n",
       "      <th>146</th>\n",
       "      <td>ARAE_ECOLI</td>\n",
       "      <td>0.267442</td>\n",
       "      <td>0.396825</td>\n",
       "      <td>0.0</td>\n",
       "      <td>0.0</td>\n",
       "      <td>0.534483</td>\n",
       "      <td>0.873684</td>\n",
       "      <td>0.882353</td>\n",
       "      <td>im</td>\n",
       "    </tr>\n",
       "    <tr>\n",
       "      <th>...</th>\n",
       "      <td>...</td>\n",
       "      <td>...</td>\n",
       "      <td>...</td>\n",
       "      <td>...</td>\n",
       "      <td>...</td>\n",
       "      <td>...</td>\n",
       "      <td>...</td>\n",
       "      <td>...</td>\n",
       "      <td>...</td>\n",
       "    </tr>\n",
       "    <tr>\n",
       "      <th>238</th>\n",
       "      <td>FTSH_ECOLI</td>\n",
       "      <td>0.941860</td>\n",
       "      <td>0.333333</td>\n",
       "      <td>0.0</td>\n",
       "      <td>0.0</td>\n",
       "      <td>0.241379</td>\n",
       "      <td>0.652632</td>\n",
       "      <td>0.635294</td>\n",
       "      <td>imU</td>\n",
       "    </tr>\n",
       "    <tr>\n",
       "      <th>74</th>\n",
       "      <td>OMPR_ECOLI</td>\n",
       "      <td>0.279070</td>\n",
       "      <td>0.317460</td>\n",
       "      <td>0.0</td>\n",
       "      <td>0.0</td>\n",
       "      <td>0.155172</td>\n",
       "      <td>0.242105</td>\n",
       "      <td>0.282353</td>\n",
       "      <td>cp</td>\n",
       "    </tr>\n",
       "    <tr>\n",
       "      <th>52</th>\n",
       "      <td>IF2_ECOLI</td>\n",
       "      <td>0.255814</td>\n",
       "      <td>0.206349</td>\n",
       "      <td>0.0</td>\n",
       "      <td>0.0</td>\n",
       "      <td>0.120690</td>\n",
       "      <td>0.357895</td>\n",
       "      <td>0.388235</td>\n",
       "      <td>cp</td>\n",
       "    </tr>\n",
       "    <tr>\n",
       "      <th>239</th>\n",
       "      <td>GLTS_ECOLI</td>\n",
       "      <td>0.674419</td>\n",
       "      <td>0.587302</td>\n",
       "      <td>0.0</td>\n",
       "      <td>0.0</td>\n",
       "      <td>0.534483</td>\n",
       "      <td>0.715789</td>\n",
       "      <td>0.729412</td>\n",
       "      <td>imU</td>\n",
       "    </tr>\n",
       "    <tr>\n",
       "      <th>214</th>\n",
       "      <td>FTSN_ECOLI</td>\n",
       "      <td>0.000000</td>\n",
       "      <td>0.444444</td>\n",
       "      <td>0.0</td>\n",
       "      <td>0.0</td>\n",
       "      <td>0.120690</td>\n",
       "      <td>0.652632</td>\n",
       "      <td>0.352941</td>\n",
       "      <td>im</td>\n",
       "    </tr>\n",
       "  </tbody>\n",
       "</table>\n",
       "<p>66 rows × 9 columns</p>\n",
       "</div>"
      ],
      "text/plain": [
       "    Sequence_Name       mcg       gvh  ...      alm1      alm2  Class_Label\n",
       "122    SYK2_ECOLI  0.197674  0.253968  ...  0.263158  0.294118           cp\n",
       "66     METK_ECOLI  0.290698  0.222222  ...  0.294737  0.329412           cp\n",
       "142    XYLA_ECOLI  0.186047  0.317460  ...  0.231579  0.270588           cp\n",
       "249    PNTB_ECOLI  0.941860  0.460317  ...  0.768421  0.776471          imU\n",
       "146    ARAE_ECOLI  0.267442  0.396825  ...  0.873684  0.882353           im\n",
       "..            ...       ...       ...  ...       ...       ...          ...\n",
       "238    FTSH_ECOLI  0.941860  0.333333  ...  0.652632  0.635294          imU\n",
       "74     OMPR_ECOLI  0.279070  0.317460  ...  0.242105  0.282353           cp\n",
       "52      IF2_ECOLI  0.255814  0.206349  ...  0.357895  0.388235           cp\n",
       "239    GLTS_ECOLI  0.674419  0.587302  ...  0.715789  0.729412          imU\n",
       "214    FTSN_ECOLI  0.000000  0.444444  ...  0.652632  0.352941           im\n",
       "\n",
       "[66 rows x 9 columns]"
      ]
     },
     "execution_count": 10,
     "metadata": {
      "tags": []
     },
     "output_type": "execute_result"
    }
   ],
   "source": [
    "# Printing out the normalised testing data.\n",
    "minMaxPreProcess(testData)"
   ]
  },
  {
   "cell_type": "markdown",
   "metadata": {
    "colab_type": "text",
    "id": "nzC4jMGQ_AvU"
   },
   "source": [
    "# 3. Support Vector Classifier\n",
    "\n",
    "Using a support vector classifier to classify the data and predict the classes of the test dataset. This was all done with setting a random state to ensure the results are deterministic and reproducible."
   ]
  },
  {
   "cell_type": "code",
   "execution_count": 11,
   "metadata": {
    "colab": {
     "base_uri": "https://localhost:8080/",
     "height": 85
    },
    "colab_type": "code",
    "id": "KpawBcraIweE",
    "outputId": "92db8ea6-1f61-4681-f942-91a9cce096ff"
   },
   "outputs": [
    {
     "name": "stdout",
     "output_type": "stream",
     "text": [
      "SVC(C=1.0, break_ties=False, cache_size=200, class_weight=None, coef0=0.0,\n",
      "    decision_function_shape='ovr', degree=3, gamma='scale', kernel='rbf',\n",
      "    max_iter=-1, probability=False, random_state=0, shrinking=True, tol=0.001,\n",
      "    verbose=False)\n"
     ]
    }
   ],
   "source": [
    "# Setting up the machine learning data and fitting it.\n",
    "trainX = trainData[trainData.columns[1:7]]\n",
    "trainY = trainData['Class_Label'].tolist()\n",
    "mlSVC = SVC(random_state=0).fit(trainX, trainY)\n",
    "print(mlSVC)"
   ]
  },
  {
   "cell_type": "code",
   "execution_count": 12,
   "metadata": {
    "colab": {
     "base_uri": "https://localhost:8080/",
     "height": 34
    },
    "colab_type": "code",
    "id": "g2JoHM3wMHSK",
    "outputId": "f73db7d0-a2d6-425c-b6c7-7e2f33c8489d"
   },
   "outputs": [
    {
     "name": "stdout",
     "output_type": "stream",
     "text": [
      "The accuracy of the model is 0.8636363636363636\n"
     ]
    }
   ],
   "source": [
    "# Testing the model with the testing data, it has about 86% accuracy.\n",
    "testX = testData[testData.columns[1:7]]\n",
    "testY = testData['Class_Label'].tolist()\n",
    "testYPredSVC = mlSVC.predict(testX)\n",
    "print(\"The accuracy of the model is\", mlSVC.score(testX,testY))"
   ]
  },
  {
   "cell_type": "markdown",
   "metadata": {
    "colab_type": "text",
    "id": "eJgAPMdwXtke"
   },
   "source": [
    "### Confusion Matrix\n",
    "\n",
    "The first thing to note is that the data is very unbalanced which means its harder to determine if the classifier accurate.\n",
    "\n",
    "A confusion matrix was generated from the results of validating the model against the testing set. The confusion matrix for our model shows that the model did pretty well as the numbers are highest on the diagonals. \n",
    "\n",
    "This intersection of the same class from the row and column shows the number of predictions of that class were actually that class, also known as true positives. There is a majority of true positives from the model which shows that the model was very good at prediciting the correct class. \n",
    "\n",
    "This is supported by the high precision score of 0.86. On top of this, using the f1-score of 0.86 it shows a good balance between the precision and recall score along with f1 scores being a good measure for unbalanced datasets.\n",
    "\n"
   ]
  },
  {
   "cell_type": "code",
   "execution_count": 13,
   "metadata": {
    "colab": {
     "base_uri": "https://localhost:8080/",
     "height": 417
    },
    "colab_type": "code",
    "id": "r75pJ6Tf_0SG",
    "outputId": "563d0cfe-cb14-47da-e4a9-7ab246690856"
   },
   "outputs": [
    {
     "name": "stdout",
     "output_type": "stream",
     "text": [
      "[[31  0  0  0  0]\n",
      " [ 2 10  1  2  0]\n",
      " [ 1  0  6  0  0]\n",
      " [ 0  2  0  7  0]\n",
      " [ 0  1  0  0  3]]\n",
      "The F1 score is 0.8592740592740593\n",
      "The precision score is 0.8606540518305225\n",
      "The recall score is 0.8636363636363636\n"
     ]
    },
    {
     "data": {
      "image/png": "[encoded data removed]",
      "text/plain": [
       "<Figure size 432x288 with 2 Axes>"
      ]
     },
     "metadata": {
      "needs_background": "light",
      "tags": []
     },
     "output_type": "display_data"
    }
   ],
   "source": [
    "# Set up confusion matrix with test data and labels\n",
    "svcConfMat = confusion_matrix(testY, testYPredSVC, labels=['cp', 'im', 'pp', 'imU', 'om'])\n",
    "print(svcConfMat)\n",
    "\n",
    "# Confusion matrix with heatmap\n",
    "data = svcConfMat\n",
    "classes = ['cp', 'im', 'pp', 'imU', 'om']\n",
    "fig = plt.figure()\n",
    "ax = fig.add_subplot(111)\n",
    "cax = ax.matshow(data, interpolation='nearest')\n",
    "fig.colorbar(cax)\n",
    "ax.set_xticklabels(['']+classes)\n",
    "ax.set_yticklabels(['']+classes)\n",
    "ax.set_title(\"Predicted test dataset labels vs actuals labels\")\n",
    "plt.show\n",
    "\n",
    "# Get the precision and recall\n",
    "f1Score = f1_score(testY, testYPredSVC, average='weighted') \n",
    "print(\"The F1 score is\", f1Score)\n",
    "pScore = precision_score(testY, testYPredSVC, average='weighted') \n",
    "print(\"The precision score is\", pScore)\n",
    "rScore = recall_score(testY, testYPredSVC, average='weighted')\n",
    "print(\"The recall score is\", rScore)"
   ]
  },
  {
   "cell_type": "markdown",
   "metadata": {
    "colab_type": "text",
    "id": "8TrARxdB0yG3"
   },
   "source": [
    "# 4. Logistic Regression Classifier\n",
    "\n",
    "Using a logistic regression classifier to classify the data and predict the classes of the test dataset. This was all done with setting a random state to ensure the results are deterministic and reproducible."
   ]
  },
  {
   "cell_type": "code",
   "execution_count": 14,
   "metadata": {
    "colab": {
     "base_uri": "https://localhost:8080/",
     "height": 102
    },
    "colab_type": "code",
    "id": "4yTuOxEm0yG5",
    "outputId": "1d2d8187-8574-40f1-9552-d86af3e47139"
   },
   "outputs": [
    {
     "name": "stdout",
     "output_type": "stream",
     "text": [
      "LogisticRegression(C=1.0, class_weight=None, dual=False, fit_intercept=True,\n",
      "                   intercept_scaling=1, l1_ratio=None, max_iter=100,\n",
      "                   multi_class='auto', n_jobs=None, penalty='l2',\n",
      "                   random_state=0, solver='lbfgs', tol=0.0001, verbose=0,\n",
      "                   warm_start=False)\n"
     ]
    }
   ],
   "source": [
    "# Using the previous data to train.\n",
    "mlLogRegClassifier = LogisticRegression(random_state=0).fit(trainX, trainY)\n",
    "print(mlLogRegClassifier)"
   ]
  },
  {
   "cell_type": "code",
   "execution_count": 15,
   "metadata": {
    "colab": {
     "base_uri": "https://localhost:8080/",
     "height": 34
    },
    "colab_type": "code",
    "id": "xM-0XXS60yG9",
    "outputId": "04e7e163-c317-4d09-f6fd-15564c39d670"
   },
   "outputs": [
    {
     "name": "stdout",
     "output_type": "stream",
     "text": [
      "The accuracy of the model is 0.803030303030303\n"
     ]
    }
   ],
   "source": [
    "# Testing the model with the testing data, it has about 80% accuracy.\n",
    "testYPredLogReg = mlLogRegClassifier.predict(testX)\n",
    "print(\"The accuracy of the model is\", mlLogRegClassifier.score(testX,testY))"
   ]
  },
  {
   "cell_type": "markdown",
   "metadata": {
    "colab_type": "text",
    "id": "eom009Lv0yHB"
   },
   "source": [
    "### Confusion Matrix\n",
    "\n",
    "The results are similar to the previous classifier with the scores being slightly lower. The class 'om' is unable to be predicted correctly at all but with it being an unbalanced dataset I predict that the classifier is less weighted towards picking that class since it has a small amount of instances."
   ]
  },
  {
   "cell_type": "code",
   "execution_count": 16,
   "metadata": {
    "colab": {
     "base_uri": "https://localhost:8080/",
     "height": 417
    },
    "colab_type": "code",
    "id": "iN-XyP-10yHB",
    "outputId": "02e6d79d-13ae-4746-c335-a33d59a057a2"
   },
   "outputs": [
    {
     "name": "stdout",
     "output_type": "stream",
     "text": [
      "[[31  0  0  0  0]\n",
      " [ 3 10  1  1  0]\n",
      " [ 1  0  6  0  0]\n",
      " [ 0  3  1  5  0]\n",
      " [ 1  0  2  0  1]]\n",
      "The F1 score is 0.787000444682622\n",
      "The precision score is 0.8171652421652422\n",
      "The recall score is 0.803030303030303\n"
     ]
    },
    {
     "data": {
      "image/png": "[encoded data removed]",
      "text/plain": [
       "<Figure size 432x288 with 2 Axes>"
      ]
     },
     "metadata": {
      "needs_background": "light",
      "tags": []
     },
     "output_type": "display_data"
    }
   ],
   "source": [
    "# Set up confusion matrix with test data and labels\n",
    "logRegConfMat = confusion_matrix(testY, testYPredLogReg, labels=['cp', 'im', 'pp', 'imU', 'om'])\n",
    "print(logRegConfMat)\n",
    "\n",
    "# Confusion matrix with heatmap\n",
    "data = logRegConfMat\n",
    "classes = ['cp', 'im', 'pp', 'imU', 'om']\n",
    "fig = plt.figure()\n",
    "ax = fig.add_subplot(111)\n",
    "cax = ax.matshow(data, interpolation='nearest')\n",
    "fig.colorbar(cax)\n",
    "ax.set_xticklabels(['']+classes)\n",
    "ax.set_yticklabels(['']+classes)\n",
    "ax.set_title(\"Predicted test dataset labels vs actuals labels\")\n",
    "plt.show\n",
    "\n",
    "# Get the precision and recall\n",
    "f1Score = f1_score(testY, testYPredLogReg, average='weighted') \n",
    "print(\"The F1 score is\", f1Score)\n",
    "pScore = precision_score(testY, testYPredLogReg, average='weighted') \n",
    "print(\"The precision score is\", pScore)\n",
    "rScore = recall_score(testY, testYPredLogReg, average='weighted')\n",
    "print(\"The recall score is\", rScore)"
   ]
  },
  {
   "cell_type": "markdown",
   "metadata": {
    "colab_type": "text",
    "id": "9htlMI836L3s"
   },
   "source": [
    "# 5. Stochastic Gradient Descent Classifier\n",
    "\n",
    "Using a lstochastic gradient descent classifier to classify the data and predict the classes of the test dataset. This was all done with setting a random state to ensure the results are deterministic and reproducible."
   ]
  },
  {
   "cell_type": "code",
   "execution_count": 17,
   "metadata": {
    "colab": {
     "base_uri": "https://localhost:8080/",
     "height": 119
    },
    "colab_type": "code",
    "id": "5xiMllJLhiNY",
    "outputId": "e1855016-ee46-40ec-b2de-4c1c6e52f495"
   },
   "outputs": [
    {
     "name": "stdout",
     "output_type": "stream",
     "text": [
      "SGDClassifier(alpha=0.0001, average=False, class_weight=None,\n",
      "              early_stopping=False, epsilon=0.1, eta0=0.0, fit_intercept=True,\n",
      "              l1_ratio=0.15, learning_rate='optimal', loss='hinge',\n",
      "              max_iter=1000, n_iter_no_change=5, n_jobs=None, penalty='l2',\n",
      "              power_t=0.5, random_state=0, shuffle=True, tol=0.001,\n",
      "              validation_fraction=0.1, verbose=0, warm_start=False)\n"
     ]
    }
   ],
   "source": [
    "# Using the previous data to train.\n",
    "mlSGDClassifier = SGDClassifier(random_state=0).fit(trainX, trainY)\n",
    "print(mlSGDClassifier)"
   ]
  },
  {
   "cell_type": "code",
   "execution_count": 18,
   "metadata": {
    "colab": {
     "base_uri": "https://localhost:8080/",
     "height": 34
    },
    "colab_type": "code",
    "id": "ACpNAL7bhiNi",
    "outputId": "1128533b-2731-48bd-d11f-2ad3a6ba8893"
   },
   "outputs": [
    {
     "name": "stdout",
     "output_type": "stream",
     "text": [
      "The accuracy of the model is 0.8181818181818182\n"
     ]
    }
   ],
   "source": [
    "# Testing the model with the testing data, it has about 81% accuracy.\n",
    "testYPredSGDC = mlSGDClassifier.predict(testX)\n",
    "print(\"The accuracy of the model is\", mlSGDClassifier.score(testX,testY))"
   ]
  },
  {
   "cell_type": "markdown",
   "metadata": {
    "colab_type": "text",
    "id": "dNJjzbT5hiNk"
   },
   "source": [
    "### Confusion Matrix\n",
    "\n",
    "The results for this classifier is similar to the previous one with a similar accuracy score however the F1 score is slightly higher. The confusion matrix results is also worse but the diagonal still contains the highest numbers in the rows/columns."
   ]
  },
  {
   "cell_type": "code",
   "execution_count": 19,
   "metadata": {
    "colab": {
     "base_uri": "https://localhost:8080/",
     "height": 417
    },
    "colab_type": "code",
    "id": "7yld1pYlhiNm",
    "outputId": "2f866368-3b59-4d0e-9af8-c40666ec4d95"
   },
   "outputs": [
    {
     "name": "stdout",
     "output_type": "stream",
     "text": [
      "[[28  0  3  0  0]\n",
      " [ 0  9  3  3  0]\n",
      " [ 1  0  6  0  0]\n",
      " [ 0  1  1  7  0]\n",
      " [ 0  0  0  0  4]]\n",
      "The F1 score is 0.8267410951621478\n",
      "The precision score is 0.8630576320231492\n",
      "The recall score is 0.8181818181818182\n"
     ]
    },
    {
     "data": {
      "image/png": "[encoded data removed]",
      "text/plain": [
       "<Figure size 432x288 with 2 Axes>"
      ]
     },
     "metadata": {
      "needs_background": "light",
      "tags": []
     },
     "output_type": "display_data"
    }
   ],
   "source": [
    "# Set up confusion matrix with test data and labels\n",
    "SGDCConfMat = confusion_matrix(testY, testYPredSGDC, labels=['cp', 'im', 'pp', 'imU', 'om'])\n",
    "print(SGDCConfMat)\n",
    "\n",
    "# Confusion matrix with heatmap\n",
    "data = SGDCConfMat\n",
    "classes = ['cp', 'im', 'pp', 'imU', 'om']\n",
    "fig = plt.figure()\n",
    "ax = fig.add_subplot(111)\n",
    "cax = ax.matshow(data, interpolation='nearest')\n",
    "fig.colorbar(cax)\n",
    "ax.set_xticklabels(['']+classes)\n",
    "ax.set_yticklabels(['']+classes)\n",
    "ax.set_title(\"Predicted test dataset labels vs actuals labels\")\n",
    "plt.show\n",
    "\n",
    "# Get the precision and recall\n",
    "f1Score = f1_score(testY, testYPredSGDC, average='weighted') \n",
    "print(\"The F1 score is\", f1Score)\n",
    "pScore = precision_score(testY, testYPredSGDC, average='weighted') \n",
    "print(\"The precision score is\", pScore)\n",
    "rScore = recall_score(testY, testYPredSGDC, average='weighted')\n",
    "print(\"The recall score is\", rScore)"
   ]
  },
  {
   "cell_type": "markdown",
   "metadata": {
    "colab_type": "text",
    "id": "-ASbeq-CQ8zp"
   },
   "source": [
    "# 6. Voting Classifier\n",
    "\n",
    "Using a voting classifier to classify the data and predict the classes of the test dataset. This was all done with setting a random state to ensure the results are deterministic and reproducible."
   ]
  },
  {
   "cell_type": "code",
   "execution_count": 20,
   "metadata": {
    "colab": {
     "base_uri": "https://localhost:8080/",
     "height": 442
    },
    "colab_type": "code",
    "id": "IUGS5hEXQ8zr",
    "outputId": "4e157858-bcce-418d-d46c-e54e5d93b64e"
   },
   "outputs": [
    {
     "data": {
      "text/plain": [
       "VotingClassifier(estimators=[('lrc',\n",
       "                              LogisticRegression(C=1.0, class_weight=None,\n",
       "                                                 dual=False, fit_intercept=True,\n",
       "                                                 intercept_scaling=1,\n",
       "                                                 l1_ratio=None, max_iter=100,\n",
       "                                                 multi_class='auto',\n",
       "                                                 n_jobs=None, penalty='l2',\n",
       "                                                 random_state=0, solver='lbfgs',\n",
       "                                                 tol=0.0001, verbose=0,\n",
       "                                                 warm_start=False)),\n",
       "                             ('sgdc',\n",
       "                              SGDClassifier(alpha=0.0001, average=False,\n",
       "                                            class_weight=None,\n",
       "                                            early_stoppin...\n",
       "                                            tol=0.001, validation_fraction=0.1,\n",
       "                                            verbose=0, warm_start=False)),\n",
       "                             ('svc',\n",
       "                              SVC(C=1.0, break_ties=False, cache_size=200,\n",
       "                                  class_weight=None, coef0=0.0,\n",
       "                                  decision_function_shape='ovr', degree=3,\n",
       "                                  gamma='scale', kernel='rbf', max_iter=-1,\n",
       "                                  probability=False, random_state=0,\n",
       "                                  shrinking=True, tol=0.001, verbose=False))],\n",
       "                 flatten_transform=True, n_jobs=None, voting='hard',\n",
       "                 weights=None)"
      ]
     },
     "execution_count": 20,
     "metadata": {
      "tags": []
     },
     "output_type": "execute_result"
    }
   ],
   "source": [
    "# Setting up the machine learning data and fitting it.\n",
    "voting_clf = VotingClassifier(estimators= [('lrc',mlLogRegClassifier),('sgdc',mlSGDClassifier),('svc',mlSVC)],voting='hard')\n",
    "voting_clf.fit(trainX, trainY)"
   ]
  },
  {
   "cell_type": "code",
   "execution_count": 21,
   "metadata": {
    "colab": {
     "base_uri": "https://localhost:8080/",
     "height": 34
    },
    "colab_type": "code",
    "id": "PfTQHFuCQ8zw",
    "outputId": "f21398db-f47a-47ad-f820-f13745b04279"
   },
   "outputs": [
    {
     "name": "stdout",
     "output_type": "stream",
     "text": [
      "The accuracy of the model is 0.8636363636363636\n"
     ]
    }
   ],
   "source": [
    "# Testing the model with the testing data, it has about 86% accuracy.\n",
    "testYPredCLF = voting_clf.predict(testX)\n",
    "print(\"The accuracy of the model is\", voting_clf.score(testX,testY))"
   ]
  },
  {
   "cell_type": "markdown",
   "metadata": {
    "colab_type": "text",
    "id": "L-GQsaQpQ8zy"
   },
   "source": [
    "### Confusion Matrix\n",
    "\n",
    "Looking at the results of the voting classifier we can see that it is exactly the same as the support vector classifier. This is probably because the results of the SVC outclassed the other classifiers that in the ending the voting just picked the SVC. Hence the analysis of the SVC results also applies to the voting classifier.\n"
   ]
  },
  {
   "cell_type": "code",
   "execution_count": 22,
   "metadata": {
    "colab": {
     "base_uri": "https://localhost:8080/",
     "height": 417
    },
    "colab_type": "code",
    "id": "EVqKYggrQ8zz",
    "outputId": "9789ed2e-6c44-4ad4-c58f-c23c346902d6"
   },
   "outputs": [
    {
     "name": "stdout",
     "output_type": "stream",
     "text": [
      "[[31  0  0  0  0]\n",
      " [ 2 10  1  2  0]\n",
      " [ 1  0  6  0  0]\n",
      " [ 0  2  0  7  0]\n",
      " [ 0  1  0  0  3]]\n",
      "The F1 score is 0.8592740592740593\n",
      "The precision score is 0.8606540518305225\n",
      "The recall score is 0.8636363636363636\n"
     ]
    },
    {
     "data": {
      "image/png": "[encoded data removed]",
      "text/plain": [
       "<Figure size 432x288 with 2 Axes>"
      ]
     },
     "metadata": {
      "needs_background": "light",
      "tags": []
     },
     "output_type": "display_data"
    }
   ],
   "source": [
    "# Set up confusion matrix with test data and labels\n",
    "votingclfConfMat = confusion_matrix(testY, testYPredCLF, labels=['cp', 'im', 'pp', 'imU', 'om'])\n",
    "print(votingclfConfMat)\n",
    "\n",
    "# Confusion matrix with heatmap\n",
    "data = votingclfConfMat\n",
    "classes = ['cp', 'im', 'pp', 'imU', 'om']\n",
    "fig = plt.figure()\n",
    "ax = fig.add_subplot(111)\n",
    "cax = ax.matshow(data, interpolation='nearest')\n",
    "fig.colorbar(cax)\n",
    "ax.set_xticklabels(['']+classes)\n",
    "ax.set_yticklabels(['']+classes)\n",
    "ax.set_title(\"Predicted test dataset labels vs actuals labels\")\n",
    "plt.show\n",
    "\n",
    "# Get the precision and recall\n",
    "f1Score = f1_score(testY, testYPredCLF, average='weighted') \n",
    "print(\"The F1 score is\", f1Score)\n",
    "pScore = precision_score(testY, testYPredCLF, average='weighted') \n",
    "print(\"The precision score is\", pScore)\n",
    "rScore = recall_score(testY, testYPredCLF, average='weighted')\n",
    "print(\"The recall score is\", rScore)"
   ]
  },
  {
   "cell_type": "markdown",
   "metadata": {
    "colab_type": "text",
    "id": "N8ztLcFT1V9D"
   },
   "source": [
    "# 7. Conclusion\n",
    "\n",
    "Looking at the final results we can see that the support vector classifier performed the best out of the classifiers used however the other classifiers also did perform fine. The main things I believe that can be changed to improve the results can be to balance the dataset and to change the hyperparameters. With these techniques I believe getting 90% accuracy or above to be an achievable task."
   ]
  }
 ],
 "metadata": {
  "accelerator": "GPU",
  "colab": {
   "collapsed_sections": [],
   "name": "lab03proj1.ipynb",
   "provenance": []
  },
  "kernelspec": {
   "display_name": "Python 3",
   "language": "python",
   "name": "python3"
  },
  "language_info": {
   "codemirror_mode": {
    "name": "ipython",
    "version": 3
   },
   "file_extension": ".py",
   "mimetype": "text/x-python",
   "name": "python",
   "nbconvert_exporter": "python",
   "pygments_lexer": "ipython3",
   "version": "3.7.6"
  }
 },
 "nbformat": 4,
 "nbformat_minor": 1
}
