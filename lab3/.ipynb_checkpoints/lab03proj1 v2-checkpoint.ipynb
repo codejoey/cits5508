{
 "cells": [
  {
   "cell_type": "markdown",
   "metadata": {},
   "source": [
    "# CITS5508 Lab 3: Classification on Forest Type\n",
    "\n",
    "Name: Joey Koh<br>\n",
    "Student number: 21506379  \n",
    "Date created: 13 April 2020  \n",
    "Last modified: 20 April 2020  \n",
    "\n",
    "This notebook goes through the steps of a typical ensemble classifier (voting classifier) project. It is addressing a multi-class classification task on predicting protein localisation sites using various attributes for E.coli.<br>\n",
    "\n",
    "A Support Vector Machine Classifier, Logistic Regression, and Gradient Descent Classifier are used in ensemble and judged in performance.\n",
    "\n",
    "- [ ] fix notes"
   ]
  },
  {
   "cell_type": "markdown",
   "metadata": {},
   "source": [
    "## 1. Setup, Data Loading and Visualisation\n",
    "Import libraries to be used and bring the data in.<br>\n",
    "Perform basic visualisations to have a feel of data. <br>"
   ]
  },
  {
   "cell_type": "code",
   "execution_count": 47,
   "metadata": {},
   "outputs": [
    {
     "data": {
      "text/html": [
       "<div>\n",
       "<style scoped>\n",
       "    .dataframe tbody tr th:only-of-type {\n",
       "        vertical-align: middle;\n",
       "    }\n",
       "\n",
       "    .dataframe tbody tr th {\n",
       "        vertical-align: top;\n",
       "    }\n",
       "\n",
       "    .dataframe thead th {\n",
       "        text-align: right;\n",
       "    }\n",
       "</style>\n",
       "<table border=\"1\" class=\"dataframe\">\n",
       "  <thead>\n",
       "    <tr style=\"text-align: right;\">\n",
       "      <th></th>\n",
       "      <th>sequence name</th>\n",
       "      <th>mcg</th>\n",
       "      <th>gvh</th>\n",
       "      <th>lip</th>\n",
       "      <th>chg</th>\n",
       "      <th>aac</th>\n",
       "      <th>alm1</th>\n",
       "      <th>alm2</th>\n",
       "      <th>class</th>\n",
       "    </tr>\n",
       "  </thead>\n",
       "  <tbody>\n",
       "    <tr>\n",
       "      <th>0</th>\n",
       "      <td>AAT_ECOLI</td>\n",
       "      <td>0.49</td>\n",
       "      <td>0.29</td>\n",
       "      <td>0.48</td>\n",
       "      <td>0.5</td>\n",
       "      <td>0.56</td>\n",
       "      <td>0.24</td>\n",
       "      <td>0.35</td>\n",
       "      <td>cp</td>\n",
       "    </tr>\n",
       "    <tr>\n",
       "      <th>1</th>\n",
       "      <td>ACEA_ECOLI</td>\n",
       "      <td>0.07</td>\n",
       "      <td>0.40</td>\n",
       "      <td>0.48</td>\n",
       "      <td>0.5</td>\n",
       "      <td>0.54</td>\n",
       "      <td>0.35</td>\n",
       "      <td>0.44</td>\n",
       "      <td>cp</td>\n",
       "    </tr>\n",
       "    <tr>\n",
       "      <th>2</th>\n",
       "      <td>ACEK_ECOLI</td>\n",
       "      <td>0.56</td>\n",
       "      <td>0.40</td>\n",
       "      <td>0.48</td>\n",
       "      <td>0.5</td>\n",
       "      <td>0.49</td>\n",
       "      <td>0.37</td>\n",
       "      <td>0.46</td>\n",
       "      <td>cp</td>\n",
       "    </tr>\n",
       "    <tr>\n",
       "      <th>3</th>\n",
       "      <td>ACKA_ECOLI</td>\n",
       "      <td>0.59</td>\n",
       "      <td>0.49</td>\n",
       "      <td>0.48</td>\n",
       "      <td>0.5</td>\n",
       "      <td>0.52</td>\n",
       "      <td>0.45</td>\n",
       "      <td>0.36</td>\n",
       "      <td>cp</td>\n",
       "    </tr>\n",
       "    <tr>\n",
       "      <th>4</th>\n",
       "      <td>ADI_ECOLI</td>\n",
       "      <td>0.23</td>\n",
       "      <td>0.32</td>\n",
       "      <td>0.48</td>\n",
       "      <td>0.5</td>\n",
       "      <td>0.55</td>\n",
       "      <td>0.25</td>\n",
       "      <td>0.35</td>\n",
       "      <td>cp</td>\n",
       "    </tr>\n",
       "  </tbody>\n",
       "</table>\n",
       "</div>"
      ],
      "text/plain": [
       "  sequence name   mcg   gvh   lip  chg   aac  alm1  alm2 class\n",
       "0     AAT_ECOLI  0.49  0.29  0.48  0.5  0.56  0.24  0.35    cp\n",
       "1    ACEA_ECOLI  0.07  0.40  0.48  0.5  0.54  0.35  0.44    cp\n",
       "2    ACEK_ECOLI  0.56  0.40  0.48  0.5  0.49  0.37  0.46    cp\n",
       "3    ACKA_ECOLI  0.59  0.49  0.48  0.5  0.52  0.45  0.36    cp\n",
       "4     ADI_ECOLI  0.23  0.32  0.48  0.5  0.55  0.25  0.35    cp"
      ]
     },
     "execution_count": 47,
     "metadata": {},
     "output_type": "execute_result"
    }
   ],
   "source": [
    "import pandas as pd\n",
    "import numpy as np\n",
    "import sklearn as sk\n",
    "#Use jupyter's backend to render plots\n",
    "%matplotlib inline\n",
    "import matplotlib.pyplot as plt\n",
    "import matplotlib.lines as mlines\n",
    "\n",
    "from pandas.plotting import scatter_matrix\n",
    "from sklearn.pipeline import Pipeline\n",
    "from sklearn.preprocessing import StandardScaler\n",
    "from sklearn.svm import SVC\n",
    "from sklearn.linear_model import SGDClassifier\n",
    "from sklearn.model_selection import GridSearchCV\n",
    "from sklearn.metrics import confusion_matrix\n",
    "from sklearn import metrics\n",
    "\n",
    "#Prepare the data, separate cols by whitespace, give col names\n",
    "raw_data = pd.read_csv(\"ecoli.data\", delim_whitespace = True, header=None, names=['sequence name','mcg','gvh','lip','chg','aac','alm1','alm2','class'])\n",
    "\n",
    "#View first few lines and inspect columns\n",
    "raw_data.head()"
   ]
  },
  {
   "cell_type": "markdown",
   "metadata": {},
   "source": [
    "These are the first **few lines of data.** Note the **new** column headings.<br>\n",
    "Looks good, columns are named. We know the first 8 columns are features with the 9th being the class label."
   ]
  },
  {
   "cell_type": "code",
   "execution_count": 86,
   "metadata": {},
   "outputs": [
    {
     "data": {
      "text/plain": [
       "cp     143\n",
       "im      77\n",
       "pp      52\n",
       "imU     35\n",
       "om      20\n",
       "omL      5\n",
       "imS      2\n",
       "imL      2\n",
       "Name: class, dtype: int64"
      ]
     },
     "execution_count": 86,
     "metadata": {},
     "output_type": "execute_result"
    }
   ],
   "source": [
    "#Look at class distribution\n",
    "raw_data[\"class\"].value_counts()   #Count instances for class labels"
   ]
  },
  {
   "cell_type": "code",
   "execution_count": 83,
   "metadata": {},
   "outputs": [
    {
     "name": "stdout",
     "output_type": "stream",
     "text": [
      "are there any NaN values created? \n",
      "\n",
      "False\n"
     ]
    },
    {
     "data": {
      "text/html": [
       "<div>\n",
       "<style scoped>\n",
       "    .dataframe tbody tr th:only-of-type {\n",
       "        vertical-align: middle;\n",
       "    }\n",
       "\n",
       "    .dataframe tbody tr th {\n",
       "        vertical-align: top;\n",
       "    }\n",
       "\n",
       "    .dataframe thead th {\n",
       "        text-align: right;\n",
       "    }\n",
       "</style>\n",
       "<table border=\"1\" class=\"dataframe\">\n",
       "  <thead>\n",
       "    <tr style=\"text-align: right;\">\n",
       "      <th></th>\n",
       "      <th>mcg</th>\n",
       "      <th>gvh</th>\n",
       "      <th>lip</th>\n",
       "      <th>chg</th>\n",
       "      <th>aac</th>\n",
       "      <th>alm1</th>\n",
       "      <th>alm2</th>\n",
       "    </tr>\n",
       "  </thead>\n",
       "  <tbody>\n",
       "    <tr>\n",
       "      <th>count</th>\n",
       "      <td>327.000000</td>\n",
       "      <td>327.000000</td>\n",
       "      <td>327.000000</td>\n",
       "      <td>327.0</td>\n",
       "      <td>327.000000</td>\n",
       "      <td>327.000000</td>\n",
       "      <td>327.000000</td>\n",
       "    </tr>\n",
       "    <tr>\n",
       "      <th>mean</th>\n",
       "      <td>0.494190</td>\n",
       "      <td>0.499939</td>\n",
       "      <td>0.484771</td>\n",
       "      <td>0.5</td>\n",
       "      <td>0.499450</td>\n",
       "      <td>0.497462</td>\n",
       "      <td>0.503119</td>\n",
       "    </tr>\n",
       "    <tr>\n",
       "      <th>std</th>\n",
       "      <td>0.193719</td>\n",
       "      <td>0.149935</td>\n",
       "      <td>0.049654</td>\n",
       "      <td>0.0</td>\n",
       "      <td>0.123165</td>\n",
       "      <td>0.217333</td>\n",
       "      <td>0.206947</td>\n",
       "    </tr>\n",
       "    <tr>\n",
       "      <th>min</th>\n",
       "      <td>0.000000</td>\n",
       "      <td>0.160000</td>\n",
       "      <td>0.480000</td>\n",
       "      <td>0.5</td>\n",
       "      <td>0.000000</td>\n",
       "      <td>0.030000</td>\n",
       "      <td>0.000000</td>\n",
       "    </tr>\n",
       "    <tr>\n",
       "      <th>25%</th>\n",
       "      <td>0.340000</td>\n",
       "      <td>0.400000</td>\n",
       "      <td>0.480000</td>\n",
       "      <td>0.5</td>\n",
       "      <td>0.420000</td>\n",
       "      <td>0.330000</td>\n",
       "      <td>0.350000</td>\n",
       "    </tr>\n",
       "    <tr>\n",
       "      <th>50%</th>\n",
       "      <td>0.490000</td>\n",
       "      <td>0.470000</td>\n",
       "      <td>0.480000</td>\n",
       "      <td>0.5</td>\n",
       "      <td>0.490000</td>\n",
       "      <td>0.450000</td>\n",
       "      <td>0.430000</td>\n",
       "    </tr>\n",
       "    <tr>\n",
       "      <th>75%</th>\n",
       "      <td>0.655000</td>\n",
       "      <td>0.570000</td>\n",
       "      <td>0.480000</td>\n",
       "      <td>0.5</td>\n",
       "      <td>0.570000</td>\n",
       "      <td>0.710000</td>\n",
       "      <td>0.710000</td>\n",
       "    </tr>\n",
       "    <tr>\n",
       "      <th>max</th>\n",
       "      <td>0.890000</td>\n",
       "      <td>1.000000</td>\n",
       "      <td>1.000000</td>\n",
       "      <td>0.5</td>\n",
       "      <td>0.880000</td>\n",
       "      <td>1.000000</td>\n",
       "      <td>0.990000</td>\n",
       "    </tr>\n",
       "  </tbody>\n",
       "</table>\n",
       "</div>"
      ],
      "text/plain": [
       "              mcg         gvh         lip    chg         aac        alm1  \\\n",
       "count  327.000000  327.000000  327.000000  327.0  327.000000  327.000000   \n",
       "mean     0.494190    0.499939    0.484771    0.5    0.499450    0.497462   \n",
       "std      0.193719    0.149935    0.049654    0.0    0.123165    0.217333   \n",
       "min      0.000000    0.160000    0.480000    0.5    0.000000    0.030000   \n",
       "25%      0.340000    0.400000    0.480000    0.5    0.420000    0.330000   \n",
       "50%      0.490000    0.470000    0.480000    0.5    0.490000    0.450000   \n",
       "75%      0.655000    0.570000    0.480000    0.5    0.570000    0.710000   \n",
       "max      0.890000    1.000000    1.000000    0.5    0.880000    1.000000   \n",
       "\n",
       "             alm2  \n",
       "count  327.000000  \n",
       "mean     0.503119  \n",
       "std      0.206947  \n",
       "min      0.000000  \n",
       "25%      0.350000  \n",
       "50%      0.430000  \n",
       "75%      0.710000  \n",
       "max      0.990000  "
      ]
     },
     "execution_count": 83,
     "metadata": {},
     "output_type": "execute_result"
    }
   ],
   "source": [
    "#Let's remove class labels with less than 10 instances as it is impossible to classify them\n",
    "#i.e. remove all rows with class= [\"imS\",\"imL\",\"omL\"]\n",
    "def clean_data(df): #remove low class instances\n",
    "    c_df = df[ (df[\"class\"]!=\"imS\") & (df[\"class\"]!=\"imL\") & (df[\"class\"]!=\"omL\") ] \n",
    "    print(\"are there any NaN values created?\",'\\n')\n",
    "    print(new.isnull().values.any()) #ensure no undefined values due to removal\n",
    "    return c_df\n",
    "\n",
    "data = clean_data(raw_data)\n",
    "data.describe() #get an idea of data distribution\n"
   ]
  },
  {
   "cell_type": "code",
   "execution_count": 49,
   "metadata": {},
   "outputs": [
    {
     "name": "stdout",
     "output_type": "stream",
     "text": [
      "For this dataset, these are the number of instances for each class label\n",
      "cp     143\n",
      "im      77\n",
      "pp      52\n",
      "imU     35\n",
      "om      20\n",
      "omL      5\n",
      "imS      2\n",
      "imL      2\n",
      "Name: class, dtype: int64 \n",
      "\n",
      "              mcg         gvh         lip         chg         aac        alm1  \\\n",
      "count  336.000000  336.000000  336.000000  336.000000  336.000000  336.000000   \n",
      "mean     0.500060    0.500000    0.495476    0.501488    0.500030    0.500179   \n",
      "std      0.194634    0.148157    0.088495    0.027277    0.122376    0.215751   \n",
      "min      0.000000    0.160000    0.480000    0.500000    0.000000    0.030000   \n",
      "25%      0.340000    0.400000    0.480000    0.500000    0.420000    0.330000   \n",
      "50%      0.500000    0.470000    0.480000    0.500000    0.495000    0.455000   \n",
      "75%      0.662500    0.570000    0.480000    0.500000    0.570000    0.710000   \n",
      "max      0.890000    1.000000    1.000000    1.000000    0.880000    1.000000   \n",
      "\n",
      "             alm2  \n",
      "count  336.000000  \n",
      "mean     0.499732  \n",
      "std      0.209411  \n",
      "min      0.000000  \n",
      "25%      0.350000  \n",
      "50%      0.430000  \n",
      "75%      0.710000  \n",
      "max      0.990000   \n",
      "\n"
     ]
    }
   ],
   "source": [
    "#Separate labels and features\n",
    "x_data = raw_data[\"class\"]\n",
    "x_data.value_counts()\n",
    "\n",
    "#Look at class label distribution\n",
    "\n",
    "def separate_pipeline(df): #separate data into labels and predictors\n",
    "    df_y = df[\"class\"]  #Extract class labels\n",
    "    print(\"For this dataset, these are the number of instances for each class label\")\n",
    "    print(df_y.value_counts(),\"\\n\")   #Count instances for class labels in training set\n",
    "    df_x = df.drop(\"class\", axis=1) #separate predictors from labels\n",
    "    print(df_x.describe(),'\\n')  #get an idea of the data distribution\n",
    "    \n",
    "    #We know the \"sequence name\" column is text. View distribution\n",
    "    #print(df[\"sequence name\"].value_counts(),\"\\n\")\n",
    "    #print(df[\"sequence name\"].nunique(),\"\\n\")\n",
    "    return df_y, df_x\n",
    "\n",
    "y_data, x_data = separate_pipeline(raw_data)"
   ]
  },
  {
   "cell_type": "code",
   "execution_count": null,
   "metadata": {},
   "outputs": [],
   "source": [
    "\n",
    "#Look at class label distribution\n",
    "\n",
    "def separate_pipeline(df): #separate data into labels and predictors\n",
    "    df_y = df[\"class\"]  #Extract class labels\n",
    "    print(\"For this dataset, these are the number of instances for each class label\")\n",
    "    print(df_y.value_counts(),\"\\n\")   #Count instances for class labels in training set\n",
    "    df_x = df.drop(\"class\", axis=1) #separate predictors from labels\n",
    "    print(df_x.describe(),'\\n')  #get an idea of the data distribution\n",
    "    return df_y, df_x\n",
    "\n",
    "def scaler_pipeline(df,df_train_x): #for data normalisation\n",
    "    std_scaler = StandardScaler()\n",
    "    std_scaler.fit(df_train_x)\n",
    "    return std_scaler.transform(df)\n",
    "    \n",
    "def main_pipeline(train_dataset, test_dataset):\n",
    "    print(\"For the training dataset:\\n\")\n",
    "    train_y, train_x, train_dataset = separate_pipeline(train_dataset)\n",
    "    print(\"For the testing dataset:\\n\")\n",
    "    test_y, test_x, test_dataset = separate_pipeline(test_dataset)\n",
    "    train_x_tr = scaler_pipeline(train_x, train_x)\n",
    "    test_x_tr = scaler_pipeline(test_x, train_x)\n",
    "    return train_y, train_x, test_y, test_x, train_x_tr, test_x_tr, train_dataset, test_dataset\n",
    "\n",
    "train_y, train_x, test_y, test_x, train_x_tr, test_x_tr, training_data, test_data = main_pipeline(training_data, test_data)\n"
   ]
  },
  {
   "cell_type": "markdown",
   "metadata": {},
   "source": [
    "### 1.1 Visualisations"
   ]
  },
  {
   "cell_type": "code",
   "execution_count": 32,
   "metadata": {},
   "outputs": [
    {
     "data": {
      "image/png": "[encoded data removed]",
      "text/plain": [
       "<Figure size 1440x1080 with 9 Axes>"
      ]
     },
     "metadata": {
      "needs_background": "light"
     },
     "output_type": "display_data"
    }
   ],
   "source": [
    "#Generate histograms\n",
    "raw_data.hist(bins=50, figsize=(20,15))\n",
    "plt.show()"
   ]
  },
  {
   "cell_type": "markdown",
   "metadata": {},
   "source": [
    "From these histograms of the training data, it can be observed that:<br>\n",
    "* Most attributes are normally distributed\n",
    "* The attributes have different scales, hence we would likely need feature scaling\n",
    "* Most b1-b9 attributes are tail-heavy. They extend much further to the right of the median than left.\n",
    "* Most pred_minus_obs_H b1 to b9 attributes are head-heavy. They extend much further to the left of median than right.\n",
    "* Most pred_minus_obs_S b1 to b9 attributes are normally distributed around the middle of its range\n",
    "* Approximating the median for each attribute to be around the middle of the normal distribution hump, the far tails/heads values could potentially be outliers. It might be better to use StandardScaler rather than MinMaxScaler in data normalisation due to outliers."
   ]
  },
  {
   "cell_type": "code",
   "execution_count": 34,
   "metadata": {},
   "outputs": [
    {
     "data": {
      "text/plain": [
       "array([<matplotlib.axes._subplots.AxesSubplot object at 0x12082b510>,\n",
       "       <matplotlib.axes._subplots.AxesSubplot object at 0x120846a50>,\n",
       "       <matplotlib.axes._subplots.AxesSubplot object at 0x120c9b910>,\n",
       "       <matplotlib.axes._subplots.AxesSubplot object at 0x120cc2f50>,\n",
       "       <matplotlib.axes._subplots.AxesSubplot object at 0x120d04610>,\n",
       "       <matplotlib.axes._subplots.AxesSubplot object at 0x120d3ac90>,\n",
       "       <matplotlib.axes._subplots.AxesSubplot object at 0x120d79f50>,\n",
       "       <matplotlib.axes._subplots.AxesSubplot object at 0x120db09d0>,\n",
       "       <matplotlib.axes._subplots.AxesSubplot object at 0x120dbb510>],\n",
       "      dtype=object)"
      ]
     },
     "execution_count": 34,
     "metadata": {},
     "output_type": "execute_result"
    },
    {
     "data": {
      "image/png": "[encoded data removed]",
      "text/plain": [
       "<Figure size 432x288 with 9 Axes>"
      ]
     },
     "metadata": {
      "needs_background": "light"
     },
     "output_type": "display_data"
    }
   ],
   "source": [
    "raw_data.apply(pd.value_counts).plot(kind='bar', subplots=True)\n"
   ]
  },
  {
   "cell_type": "code",
   "execution_count": null,
   "metadata": {},
   "outputs": [],
   "source": []
  },
  {
   "cell_type": "markdown",
   "metadata": {},
   "source": [
    "## 2. Pipeline: Data Cleaning, Checking and Normalisation\n",
    "Remove unneeded columns, extract labels, check for training set balance, perform feature scaling, and create pipeline."
   ]
  },
  {
   "cell_type": "code",
   "execution_count": 5,
   "metadata": {},
   "outputs": [
    {
     "name": "stdout",
     "output_type": "stream",
     "text": [
      "For the training dataset:\n",
      "\n",
      "For this dataset, these are the number of instances for each class label\n",
      "s     136\n",
      "d     105\n",
      "o      46\n",
      "h      38\n",
      "Name: class, dtype: int64 \n",
      "\n",
      "               b1          b2          b3          b4          b5          b6  \\\n",
      "count  325.000000  325.000000  325.000000  325.000000  325.000000  325.000000   \n",
      "mean    58.021538   38.381538   61.467692   96.175385   58.098462   99.196923   \n",
      "std     11.705076   14.589516   15.003385   11.120136   10.654920    9.438789   \n",
      "min     31.000000   23.000000   47.000000   69.000000   43.000000   83.000000   \n",
      "25%     50.000000   28.000000   52.000000   89.000000   51.000000   93.000000   \n",
      "50%     57.000000   32.000000   55.000000   95.000000   54.000000   96.000000   \n",
      "75%     65.000000   43.000000   65.000000  103.000000   63.000000  103.000000   \n",
      "max    107.000000   91.000000  124.000000  141.000000  100.000000  138.000000   \n",
      "\n",
      "               b7          b8          b9  \n",
      "count  325.000000  325.000000  325.000000  \n",
      "mean    85.864615   27.375385   58.880000  \n",
      "std     16.642765    7.445316    8.884777  \n",
      "min     42.000000   19.000000   45.000000  \n",
      "25%     73.000000   24.000000   54.000000  \n",
      "50%     85.000000   25.000000   57.000000  \n",
      "75%     98.000000   27.000000   60.000000  \n",
      "max    136.000000   84.000000  114.000000   \n",
      "\n",
      "For the testing dataset:\n",
      "\n",
      "For this dataset, these are the number of instances for each class label\n",
      "s     59\n",
      "d     54\n",
      "h     48\n",
      "o     37\n",
      "Name: class, dtype: int64 \n",
      "\n",
      "               b1          b2          b3          b4          b5          b6  \\\n",
      "count  198.000000  198.000000  198.000000  198.000000  198.000000  198.000000   \n",
      "mean    62.949495   41.020202   63.676768  101.409091   58.732323  100.651515   \n",
      "std     12.779563   17.832543   17.314545   14.804627   12.392648   11.190314   \n",
      "min     34.000000   25.000000   47.000000   54.000000   44.000000   84.000000   \n",
      "25%     54.000000   28.000000   52.000000   92.250000   49.000000   92.000000   \n",
      "50%     60.000000   31.500000   57.000000   99.500000   55.000000   98.000000   \n",
      "75%     70.750000   50.750000   69.000000  111.750000   65.000000  107.000000   \n",
      "max    105.000000  160.000000  196.000000  172.000000   98.000000  136.000000   \n",
      "\n",
      "               b7          b8          b9  \n",
      "count  198.000000  198.000000  198.000000  \n",
      "mean    90.601010   28.691919   61.116162  \n",
      "std     15.588861    8.977752    9.787158  \n",
      "min     54.000000   21.000000   50.000000  \n",
      "25%     80.000000   24.000000   55.000000  \n",
      "50%     91.000000   25.000000   58.000000  \n",
      "75%    101.000000   27.000000   63.000000  \n",
      "max    139.000000   82.000000  109.000000   \n",
      "\n"
     ]
    }
   ],
   "source": [
    "def drop_columns(df): #function to remove all columns starting with \"pred_minus_obs\"\n",
    "    df = df[df.columns.drop(list(df.filter(regex=\"pred_minus_obs\")))]\n",
    "    return df\n",
    "\n",
    "def separate_pipeline(df): #separate data into labels and predictors\n",
    "    df = drop_columns(df) #Remove all columns starting with \"pred_minus_obs\"\n",
    "    df_y = df[\"class\"]  #Extract class labels\n",
    "    print(\"For this dataset, these are the number of instances for each class label\")\n",
    "    print(df_y.value_counts(),\"\\n\")   #Count instances for class labels in training set\n",
    "    df_x = df.drop(\"class\", axis=1) #separate predictors from labels\n",
    "    print(df_x.describe(),'\\n')  #get an idea of the data distribution\n",
    "    return df_y, df_x, df\n",
    "\n",
    "def scaler_pipeline(df,df_train_x): #for data normalisation\n",
    "    std_scaler = StandardScaler()\n",
    "    std_scaler.fit(df_train_x)\n",
    "    return std_scaler.transform(df)\n",
    "    \n",
    "def main_pipeline(train_dataset, test_dataset):\n",
    "    print(\"For the training dataset:\\n\")\n",
    "    train_y, train_x, train_dataset = separate_pipeline(train_dataset)\n",
    "    print(\"For the testing dataset:\\n\")\n",
    "    test_y, test_x, test_dataset = separate_pipeline(test_dataset)\n",
    "    train_x_tr = scaler_pipeline(train_x, train_x)\n",
    "    test_x_tr = scaler_pipeline(test_x, train_x)\n",
    "    return train_y, train_x, test_y, test_x, train_x_tr, test_x_tr, train_dataset, test_dataset\n",
    "\n",
    "train_y, train_x, test_y, test_x, train_x_tr, test_x_tr, training_data, test_data = main_pipeline(training_data, test_data)"
   ]
  },
  {
   "cell_type": "markdown",
   "metadata": {},
   "source": [
    "<p>From looking at the count of class instances of training data, <b>we clearly have an imbalanced training dataset.</b> With 's' and 'd' classes having the most instances of 136 and 105 respectively, relative to 'o' and 'h' classes of 46 and 38 respectively.</p>\n",
    "\n",
    "<p>(Class: 's' ('Sugi' forest), 'h' ('Hinoki' forest), 'd' ('Mixed deciduous' forest), 'o' ('Other' non-forest land) </p>\n",
    "<p>Looking at the distribution of the values at min, 25%, 50%, 75% and max – in combination to the observations from the histograms in Section 1.1, there are likely <b>outliers in training predictors</b> which a <b>StandardScaler</b> would deal better with compared to a MinMaxScaler. For this reason, standardization was used in the pipeline to normalise the data. In this, firstly the column's mean value is subtracted from every value in the column, then divided by the standard deviation. The resulting distribution has unit variance. Thus, the outliers has less of an impact compared to MinMax scaling.</p>"
   ]
  },
  {
   "cell_type": "markdown",
   "metadata": {},
   "source": [
    "### 2.1 Check for unwanted columns dropped"
   ]
  },
  {
   "cell_type": "code",
   "execution_count": 6,
   "metadata": {},
   "outputs": [
    {
     "data": {
      "text/html": [
       "<div>\n",
       "<style scoped>\n",
       "    .dataframe tbody tr th:only-of-type {\n",
       "        vertical-align: middle;\n",
       "    }\n",
       "\n",
       "    .dataframe tbody tr th {\n",
       "        vertical-align: top;\n",
       "    }\n",
       "\n",
       "    .dataframe thead th {\n",
       "        text-align: right;\n",
       "    }\n",
       "</style>\n",
       "<table border=\"1\" class=\"dataframe\">\n",
       "  <thead>\n",
       "    <tr style=\"text-align: right;\">\n",
       "      <th></th>\n",
       "      <th>b1</th>\n",
       "      <th>b2</th>\n",
       "      <th>b3</th>\n",
       "      <th>b4</th>\n",
       "      <th>b5</th>\n",
       "      <th>b6</th>\n",
       "      <th>b7</th>\n",
       "      <th>b8</th>\n",
       "      <th>b9</th>\n",
       "    </tr>\n",
       "  </thead>\n",
       "  <tbody>\n",
       "    <tr>\n",
       "      <th>count</th>\n",
       "      <td>325.000000</td>\n",
       "      <td>325.000000</td>\n",
       "      <td>325.000000</td>\n",
       "      <td>325.000000</td>\n",
       "      <td>325.000000</td>\n",
       "      <td>325.000000</td>\n",
       "      <td>325.000000</td>\n",
       "      <td>325.000000</td>\n",
       "      <td>325.000000</td>\n",
       "    </tr>\n",
       "    <tr>\n",
       "      <th>mean</th>\n",
       "      <td>58.021538</td>\n",
       "      <td>38.381538</td>\n",
       "      <td>61.467692</td>\n",
       "      <td>96.175385</td>\n",
       "      <td>58.098462</td>\n",
       "      <td>99.196923</td>\n",
       "      <td>85.864615</td>\n",
       "      <td>27.375385</td>\n",
       "      <td>58.880000</td>\n",
       "    </tr>\n",
       "    <tr>\n",
       "      <th>std</th>\n",
       "      <td>11.705076</td>\n",
       "      <td>14.589516</td>\n",
       "      <td>15.003385</td>\n",
       "      <td>11.120136</td>\n",
       "      <td>10.654920</td>\n",
       "      <td>9.438789</td>\n",
       "      <td>16.642765</td>\n",
       "      <td>7.445316</td>\n",
       "      <td>8.884777</td>\n",
       "    </tr>\n",
       "    <tr>\n",
       "      <th>min</th>\n",
       "      <td>31.000000</td>\n",
       "      <td>23.000000</td>\n",
       "      <td>47.000000</td>\n",
       "      <td>69.000000</td>\n",
       "      <td>43.000000</td>\n",
       "      <td>83.000000</td>\n",
       "      <td>42.000000</td>\n",
       "      <td>19.000000</td>\n",
       "      <td>45.000000</td>\n",
       "    </tr>\n",
       "    <tr>\n",
       "      <th>25%</th>\n",
       "      <td>50.000000</td>\n",
       "      <td>28.000000</td>\n",
       "      <td>52.000000</td>\n",
       "      <td>89.000000</td>\n",
       "      <td>51.000000</td>\n",
       "      <td>93.000000</td>\n",
       "      <td>73.000000</td>\n",
       "      <td>24.000000</td>\n",
       "      <td>54.000000</td>\n",
       "    </tr>\n",
       "    <tr>\n",
       "      <th>50%</th>\n",
       "      <td>57.000000</td>\n",
       "      <td>32.000000</td>\n",
       "      <td>55.000000</td>\n",
       "      <td>95.000000</td>\n",
       "      <td>54.000000</td>\n",
       "      <td>96.000000</td>\n",
       "      <td>85.000000</td>\n",
       "      <td>25.000000</td>\n",
       "      <td>57.000000</td>\n",
       "    </tr>\n",
       "    <tr>\n",
       "      <th>75%</th>\n",
       "      <td>65.000000</td>\n",
       "      <td>43.000000</td>\n",
       "      <td>65.000000</td>\n",
       "      <td>103.000000</td>\n",
       "      <td>63.000000</td>\n",
       "      <td>103.000000</td>\n",
       "      <td>98.000000</td>\n",
       "      <td>27.000000</td>\n",
       "      <td>60.000000</td>\n",
       "    </tr>\n",
       "    <tr>\n",
       "      <th>max</th>\n",
       "      <td>107.000000</td>\n",
       "      <td>91.000000</td>\n",
       "      <td>124.000000</td>\n",
       "      <td>141.000000</td>\n",
       "      <td>100.000000</td>\n",
       "      <td>138.000000</td>\n",
       "      <td>136.000000</td>\n",
       "      <td>84.000000</td>\n",
       "      <td>114.000000</td>\n",
       "    </tr>\n",
       "  </tbody>\n",
       "</table>\n",
       "</div>"
      ],
      "text/plain": [
       "               b1          b2          b3          b4          b5          b6  \\\n",
       "count  325.000000  325.000000  325.000000  325.000000  325.000000  325.000000   \n",
       "mean    58.021538   38.381538   61.467692   96.175385   58.098462   99.196923   \n",
       "std     11.705076   14.589516   15.003385   11.120136   10.654920    9.438789   \n",
       "min     31.000000   23.000000   47.000000   69.000000   43.000000   83.000000   \n",
       "25%     50.000000   28.000000   52.000000   89.000000   51.000000   93.000000   \n",
       "50%     57.000000   32.000000   55.000000   95.000000   54.000000   96.000000   \n",
       "75%     65.000000   43.000000   65.000000  103.000000   63.000000  103.000000   \n",
       "max    107.000000   91.000000  124.000000  141.000000  100.000000  138.000000   \n",
       "\n",
       "               b7          b8          b9  \n",
       "count  325.000000  325.000000  325.000000  \n",
       "mean    85.864615   27.375385   58.880000  \n",
       "std     16.642765    7.445316    8.884777  \n",
       "min     42.000000   19.000000   45.000000  \n",
       "25%     73.000000   24.000000   54.000000  \n",
       "50%     85.000000   25.000000   57.000000  \n",
       "75%     98.000000   27.000000   60.000000  \n",
       "max    136.000000   84.000000  114.000000  "
      ]
     },
     "execution_count": 6,
     "metadata": {},
     "output_type": "execute_result"
    }
   ],
   "source": [
    "training_data.describe()"
   ]
  },
  {
   "cell_type": "code",
   "execution_count": 7,
   "metadata": {},
   "outputs": [
    {
     "data": {
      "text/html": [
       "<div>\n",
       "<style scoped>\n",
       "    .dataframe tbody tr th:only-of-type {\n",
       "        vertical-align: middle;\n",
       "    }\n",
       "\n",
       "    .dataframe tbody tr th {\n",
       "        vertical-align: top;\n",
       "    }\n",
       "\n",
       "    .dataframe thead th {\n",
       "        text-align: right;\n",
       "    }\n",
       "</style>\n",
       "<table border=\"1\" class=\"dataframe\">\n",
       "  <thead>\n",
       "    <tr style=\"text-align: right;\">\n",
       "      <th></th>\n",
       "      <th>b1</th>\n",
       "      <th>b2</th>\n",
       "      <th>b3</th>\n",
       "      <th>b4</th>\n",
       "      <th>b5</th>\n",
       "      <th>b6</th>\n",
       "      <th>b7</th>\n",
       "      <th>b8</th>\n",
       "      <th>b9</th>\n",
       "    </tr>\n",
       "  </thead>\n",
       "  <tbody>\n",
       "    <tr>\n",
       "      <th>count</th>\n",
       "      <td>198.000000</td>\n",
       "      <td>198.000000</td>\n",
       "      <td>198.000000</td>\n",
       "      <td>198.000000</td>\n",
       "      <td>198.000000</td>\n",
       "      <td>198.000000</td>\n",
       "      <td>198.000000</td>\n",
       "      <td>198.000000</td>\n",
       "      <td>198.000000</td>\n",
       "    </tr>\n",
       "    <tr>\n",
       "      <th>mean</th>\n",
       "      <td>62.949495</td>\n",
       "      <td>41.020202</td>\n",
       "      <td>63.676768</td>\n",
       "      <td>101.409091</td>\n",
       "      <td>58.732323</td>\n",
       "      <td>100.651515</td>\n",
       "      <td>90.601010</td>\n",
       "      <td>28.691919</td>\n",
       "      <td>61.116162</td>\n",
       "    </tr>\n",
       "    <tr>\n",
       "      <th>std</th>\n",
       "      <td>12.779563</td>\n",
       "      <td>17.832543</td>\n",
       "      <td>17.314545</td>\n",
       "      <td>14.804627</td>\n",
       "      <td>12.392648</td>\n",
       "      <td>11.190314</td>\n",
       "      <td>15.588861</td>\n",
       "      <td>8.977752</td>\n",
       "      <td>9.787158</td>\n",
       "    </tr>\n",
       "    <tr>\n",
       "      <th>min</th>\n",
       "      <td>34.000000</td>\n",
       "      <td>25.000000</td>\n",
       "      <td>47.000000</td>\n",
       "      <td>54.000000</td>\n",
       "      <td>44.000000</td>\n",
       "      <td>84.000000</td>\n",
       "      <td>54.000000</td>\n",
       "      <td>21.000000</td>\n",
       "      <td>50.000000</td>\n",
       "    </tr>\n",
       "    <tr>\n",
       "      <th>25%</th>\n",
       "      <td>54.000000</td>\n",
       "      <td>28.000000</td>\n",
       "      <td>52.000000</td>\n",
       "      <td>92.250000</td>\n",
       "      <td>49.000000</td>\n",
       "      <td>92.000000</td>\n",
       "      <td>80.000000</td>\n",
       "      <td>24.000000</td>\n",
       "      <td>55.000000</td>\n",
       "    </tr>\n",
       "    <tr>\n",
       "      <th>50%</th>\n",
       "      <td>60.000000</td>\n",
       "      <td>31.500000</td>\n",
       "      <td>57.000000</td>\n",
       "      <td>99.500000</td>\n",
       "      <td>55.000000</td>\n",
       "      <td>98.000000</td>\n",
       "      <td>91.000000</td>\n",
       "      <td>25.000000</td>\n",
       "      <td>58.000000</td>\n",
       "    </tr>\n",
       "    <tr>\n",
       "      <th>75%</th>\n",
       "      <td>70.750000</td>\n",
       "      <td>50.750000</td>\n",
       "      <td>69.000000</td>\n",
       "      <td>111.750000</td>\n",
       "      <td>65.000000</td>\n",
       "      <td>107.000000</td>\n",
       "      <td>101.000000</td>\n",
       "      <td>27.000000</td>\n",
       "      <td>63.000000</td>\n",
       "    </tr>\n",
       "    <tr>\n",
       "      <th>max</th>\n",
       "      <td>105.000000</td>\n",
       "      <td>160.000000</td>\n",
       "      <td>196.000000</td>\n",
       "      <td>172.000000</td>\n",
       "      <td>98.000000</td>\n",
       "      <td>136.000000</td>\n",
       "      <td>139.000000</td>\n",
       "      <td>82.000000</td>\n",
       "      <td>109.000000</td>\n",
       "    </tr>\n",
       "  </tbody>\n",
       "</table>\n",
       "</div>"
      ],
      "text/plain": [
       "               b1          b2          b3          b4          b5          b6  \\\n",
       "count  198.000000  198.000000  198.000000  198.000000  198.000000  198.000000   \n",
       "mean    62.949495   41.020202   63.676768  101.409091   58.732323  100.651515   \n",
       "std     12.779563   17.832543   17.314545   14.804627   12.392648   11.190314   \n",
       "min     34.000000   25.000000   47.000000   54.000000   44.000000   84.000000   \n",
       "25%     54.000000   28.000000   52.000000   92.250000   49.000000   92.000000   \n",
       "50%     60.000000   31.500000   57.000000   99.500000   55.000000   98.000000   \n",
       "75%     70.750000   50.750000   69.000000  111.750000   65.000000  107.000000   \n",
       "max    105.000000  160.000000  196.000000  172.000000   98.000000  136.000000   \n",
       "\n",
       "               b7          b8          b9  \n",
       "count  198.000000  198.000000  198.000000  \n",
       "mean    90.601010   28.691919   61.116162  \n",
       "std     15.588861    8.977752    9.787158  \n",
       "min     54.000000   21.000000   50.000000  \n",
       "25%     80.000000   24.000000   55.000000  \n",
       "50%     91.000000   25.000000   58.000000  \n",
       "75%    101.000000   27.000000   63.000000  \n",
       "max    139.000000   82.000000  109.000000  "
      ]
     },
     "execution_count": 7,
     "metadata": {},
     "output_type": "execute_result"
    }
   ],
   "source": [
    "test_data.describe()"
   ]
  },
  {
   "cell_type": "markdown",
   "metadata": {},
   "source": [
    "As seen, pipeline has removed unwanted columns."
   ]
  },
  {
   "cell_type": "markdown",
   "metadata": {},
   "source": [
    "## 3. Support Vector Classifier\n",
    "one vs one binary classication on the 4 class labels"
   ]
  },
  {
   "cell_type": "code",
   "execution_count": 8,
   "metadata": {},
   "outputs": [],
   "source": [
    "#fit SVC model with training data\n",
    "svm_clf = SVC()\n",
    "svm_clf.fit(train_x_tr,train_y);\n",
    "\n",
    "#generate test data label prediction\n",
    "test_y_svm_pred = svm_clf.predict(test_x_tr)"
   ]
  },
  {
   "cell_type": "markdown",
   "metadata": {},
   "source": [
    "### 3.1 Confusion Matrix "
   ]
  },
  {
   "cell_type": "code",
   "execution_count": 9,
   "metadata": {},
   "outputs": [
    {
     "name": "stdout",
     "output_type": "stream",
     "text": [
      "This is the confusion matrix\n",
      " [[53  0  1  0]\n",
      " [ 0 39  0  9]\n",
      " [ 3  0 34  0]\n",
      " [ 1  2  0 56]]\n",
      "Plotting with predicted test dataset labels on horizontal axis, actuals labels on vertical axis\n"
     ]
    },
    {
     "data": {
      "image/png": "[encoded data removed]",
      "text/plain": [
       "<Figure size 432x288 with 2 Axes>"
      ]
     },
     "metadata": {
      "needs_background": "light"
     },
     "output_type": "display_data"
    }
   ],
   "source": [
    "#confusion matrix generation\n",
    "conf_mx_svm = confusion_matrix(test_y, test_y_svm_pred)\n",
    "print(\"This is the confusion matrix\\n\",conf_mx_svm)\n",
    "\n",
    "#visualisation setup\n",
    "alpha = ['d', 'h', 'o', 's']\n",
    "data = conf_mx_svm\n",
    "\n",
    "fig = plt.figure()\n",
    "ax = fig.add_subplot(111)\n",
    "cax = ax.matshow(data, interpolation='nearest')\n",
    "fig.colorbar(cax)\n",
    "\n",
    "ax.set_xticklabels(['']+alpha)\n",
    "ax.set_yticklabels(['']+alpha)\n",
    "\n",
    "plt.show\n",
    "print(\"Plotting with predicted test dataset labels on horizontal axis, actuals labels on vertical axis\")"
   ]
  },
  {
   "cell_type": "markdown",
   "metadata": {},
   "source": [
    "**Results:** Each row represents an actual class, while each column represents a predicted class. The classification results are thus:\n",
    "* Class d: 53 correctly predicted, 1 wrongly predicted as 'o'\n",
    "* Class h: 39 correctly predicted, 9 wrongly predicted as 's'\n",
    "* Class o: 34 correctly predicted, 3 wrongly predicted as 'd'\n",
    "* Class s: 56 correctly predicted, 1,2 wrongly predicted as 'd','h' respectively"
   ]
  },
  {
   "cell_type": "code",
   "execution_count": 10,
   "metadata": {},
   "outputs": [
    {
     "name": "stdout",
     "output_type": "stream",
     "text": [
      "Accuracy score of prediction:\n",
      "\n",
      "0.9191919191919192\n"
     ]
    }
   ],
   "source": [
    "print(\"Accuracy score of prediction:\\n\")\n",
    "print(metrics.accuracy_score(test_y, test_y_svm_pred))"
   ]
  },
  {
   "cell_type": "markdown",
   "metadata": {},
   "source": [
    "### 3.2 Tune Hyperparameters with Grid Search"
   ]
  },
  {
   "cell_type": "code",
   "execution_count": 11,
   "metadata": {},
   "outputs": [
    {
     "name": "stderr",
     "output_type": "stream",
     "text": [
      "/Users/Joey/anaconda3/envs/tf2/lib/python3.7/site-packages/sklearn/model_selection/_split.py:1978: FutureWarning: The default value of cv will change from 3 to 5 in version 0.22. Specify it explicitly to silence this warning.\n",
      "  warnings.warn(CV_WARNING, FutureWarning)\n",
      "/Users/Joey/anaconda3/envs/tf2/lib/python3.7/site-packages/sklearn/model_selection/_search.py:814: DeprecationWarning: The default of the `iid` parameter will change from True to False in version 0.22 and will be removed in 0.24. This will change numeric results when test-set sizes are unequal.\n",
      "  DeprecationWarning)\n"
     ]
    }
   ],
   "source": [
    "param_grid = {'kernel':('linear', 'rbf', 'poly'), \n",
    "              'C':[0.0001, 0.001, 0.01, 0.1, 1, 10, 100, 1000],\n",
    "              'gamma':['scale','auto']\n",
    "             }\n",
    "\n",
    "svm_clf = SVC()\n",
    "scorer = sk.metrics.make_scorer(sk.metrics.f1_score, average = 'micro')\n",
    "\n",
    "grid_search_svm = GridSearchCV(svm_clf, \n",
    "                               param_grid, \n",
    "                               scoring = scorer,\n",
    "                               return_train_score = True)\n",
    "\n",
    "grid_result_svm = grid_search_svm.fit(train_x_tr, train_y)"
   ]
  },
  {
   "cell_type": "code",
   "execution_count": 12,
   "metadata": {},
   "outputs": [
    {
     "name": "stdout",
     "output_type": "stream",
     "text": [
      "Best Score:  0.8923076923076924\n",
      "Best Params:  {'C': 1, 'gamma': 'scale', 'kernel': 'rbf'}\n"
     ]
    }
   ],
   "source": [
    "print('Best Score: ', grid_result_svm.best_score_)\n",
    "print('Best Params: ', grid_result_svm.best_params_)"
   ]
  },
  {
   "cell_type": "markdown",
   "metadata": {},
   "source": [
    "**Results:** looking up the SVC documentation, the best hyperparameters from the gridsearch matches the default settings of the classifier. Hence, it will be left as unchanged."
   ]
  },
  {
   "cell_type": "code",
   "execution_count": 13,
   "metadata": {},
   "outputs": [],
   "source": [
    "test_y_svm_pred_tuned = grid_result_svm.predict(test_x_tr) #Get predictions from grid search result"
   ]
  },
  {
   "cell_type": "markdown",
   "metadata": {},
   "source": [
    "### 3.3 Confusion Matrix after Grid Search"
   ]
  },
  {
   "cell_type": "code",
   "execution_count": 14,
   "metadata": {},
   "outputs": [
    {
     "name": "stdout",
     "output_type": "stream",
     "text": [
      "This is the confusion matrix\n",
      " [[53  0  1  0]\n",
      " [ 0 39  0  9]\n",
      " [ 3  0 34  0]\n",
      " [ 1  2  0 56]]\n",
      "Plotting with predicted test dataset labels on horizontal axis, actuals labels on vertical axis\n"
     ]
    },
    {
     "data": {
      "image/png": "[encoded data removed]",
      "text/plain": [
       "<Figure size 432x288 with 2 Axes>"
      ]
     },
     "metadata": {
      "needs_background": "light"
     },
     "output_type": "display_data"
    }
   ],
   "source": [
    "#confusion matrix generation\n",
    "conf_mx_svm_tuned = confusion_matrix(test_y, test_y_svm_pred_tuned)\n",
    "print(\"This is the confusion matrix\\n\",conf_mx_svm_tuned)\n",
    "\n",
    "#visualisation setup\n",
    "alpha = ['d', 'h', 'o', 's']\n",
    "data = conf_mx_svm_tuned\n",
    "\n",
    "fig = plt.figure()\n",
    "ax = fig.add_subplot(111)\n",
    "cax = ax.matshow(data, interpolation='nearest')\n",
    "fig.colorbar(cax)\n",
    "\n",
    "ax.set_xticklabels(['']+alpha)\n",
    "ax.set_yticklabels(['']+alpha)\n",
    "\n",
    "plt.show\n",
    "print(\"Plotting with predicted test dataset labels on horizontal axis, actuals labels on vertical axis\")"
   ]
  },
  {
   "cell_type": "markdown",
   "metadata": {},
   "source": [
    "**Results:** Each row represents an actual class, while each column represents a predicted class. The classification results are thus:\n",
    "* Class d: 53 correctly predicted, 1 wrongly predicted as 'o'\n",
    "* Class h: 39 correctly predicted, 9 wrongly predicted as 's'\n",
    "* Class o: 34 correctly predicted, 3 wrongly predicted as 'd'\n",
    "* Class s: 56 correctly predicted, 1,2 wrongly predicted as 'd','h' respectively"
   ]
  },
  {
   "cell_type": "code",
   "execution_count": 15,
   "metadata": {},
   "outputs": [
    {
     "name": "stdout",
     "output_type": "stream",
     "text": [
      "Accuracy score of prediction:\n",
      "\n",
      "0.9191919191919192\n"
     ]
    }
   ],
   "source": [
    "print(\"Accuracy score of prediction:\\n\")\n",
    "print(metrics.accuracy_score(test_y, test_y_svm_pred_tuned))"
   ]
  },
  {
   "cell_type": "markdown",
   "metadata": {},
   "source": [
    "As the gridsearch results indicate default hyperparameter values are the best in the tested range of values, the accuracy score and confusion matrix **matches** the un-tuned version's."
   ]
  },
  {
   "cell_type": "markdown",
   "metadata": {},
   "source": [
    "## 4. Stochastic Gradient Descent Classifier"
   ]
  },
  {
   "cell_type": "code",
   "execution_count": 16,
   "metadata": {},
   "outputs": [],
   "source": [
    "#fit SGD model with training data\n",
    "sgd_clf = SGDClassifier()\n",
    "sgd_clf.fit(train_x_tr, train_y);\n",
    "\n",
    "#generate test data label prediction\n",
    "test_y_sgd_pred = sgd_clf.predict(test_x_tr)"
   ]
  },
  {
   "cell_type": "markdown",
   "metadata": {},
   "source": [
    "### 4.1 Confusion Matrix "
   ]
  },
  {
   "cell_type": "code",
   "execution_count": 17,
   "metadata": {},
   "outputs": [
    {
     "name": "stdout",
     "output_type": "stream",
     "text": [
      "This is the confusion matrix\n",
      " [[53  0  1  0]\n",
      " [ 0 43  0  5]\n",
      " [ 1  0 36  0]\n",
      " [ 0  5  1 53]]\n",
      "Plotting with predicted test dataset labels on horizontal axis, actuals labels on vertical axis\n"
     ]
    },
    {
     "data": {
      "image/png": "[encoded data removed]",
      "text/plain": [
       "<Figure size 432x288 with 2 Axes>"
      ]
     },
     "metadata": {
      "needs_background": "light"
     },
     "output_type": "display_data"
    }
   ],
   "source": [
    "#confusion matrix generation\n",
    "conf_mx_sgd = confusion_matrix(test_y, test_y_sgd_pred)\n",
    "print(\"This is the confusion matrix\\n\",conf_mx_sgd)\n",
    "\n",
    "#visualisation setup\n",
    "alpha = ['d', 'h', 'o', 's']\n",
    "data = conf_mx_sgd\n",
    "\n",
    "fig = plt.figure()\n",
    "ax = fig.add_subplot(111)\n",
    "cax = ax.matshow(data, interpolation='nearest')\n",
    "fig.colorbar(cax)\n",
    "\n",
    "ax.set_xticklabels(['']+alpha)\n",
    "ax.set_yticklabels(['']+alpha)\n",
    "\n",
    "plt.show\n",
    "print(\"Plotting with predicted test dataset labels on horizontal axis, actuals labels on vertical axis\")"
   ]
  },
  {
   "cell_type": "markdown",
   "metadata": {},
   "source": [
    "**Results:** Each row represents an actual class, while each column represents a predicted class. The classification results are thus:\n",
    "* Class d: 53 correctly predicted, 1 wrongly predicted as 'o' \n",
    "* Class h: 43 correctly predicted, 5 wrongly predicted as 's' \n",
    "* Class o: 36 correctly predicted, 1 wrongly predicted as 'd'\n",
    "* Class s: 53 correctly predicted, 5,1 wrongly predicted as 'h','o' respectively"
   ]
  },
  {
   "cell_type": "code",
   "execution_count": 18,
   "metadata": {},
   "outputs": [
    {
     "name": "stdout",
     "output_type": "stream",
     "text": [
      "Accuracy score of prediction:\n",
      "\n",
      "0.9343434343434344\n"
     ]
    }
   ],
   "source": [
    "print(\"Accuracy score of prediction:\\n\")\n",
    "print(metrics.accuracy_score(test_y, test_y_sgd_pred))"
   ]
  },
  {
   "cell_type": "markdown",
   "metadata": {},
   "source": [
    "### 4.2 Tune Hyperparameters with Grid Search"
   ]
  },
  {
   "cell_type": "code",
   "execution_count": 19,
   "metadata": {},
   "outputs": [
    {
     "name": "stderr",
     "output_type": "stream",
     "text": [
      "/Users/Joey/anaconda3/envs/tf2/lib/python3.7/site-packages/sklearn/model_selection/_split.py:1978: FutureWarning: The default value of cv will change from 3 to 5 in version 0.22. Specify it explicitly to silence this warning.\n",
      "  warnings.warn(CV_WARNING, FutureWarning)\n",
      "/Users/Joey/anaconda3/envs/tf2/lib/python3.7/site-packages/sklearn/model_selection/_search.py:814: DeprecationWarning: The default of the `iid` parameter will change from True to False in version 0.22 and will be removed in 0.24. This will change numeric results when test-set sizes are unequal.\n",
      "  DeprecationWarning)\n"
     ]
    }
   ],
   "source": [
    "param_grid = {'loss':('hinge', 'log', 'modified_huber', 'perceptron'), \n",
    "              'alpha':[0.0001, 0.001, 0.01, 0.1, 1, 10, 100, 1000],\n",
    "              'penalty':['l2','l1','elasticnet']\n",
    "             }\n",
    "\n",
    "sgd_clf = SGDClassifier()\n",
    "scorer = sk.metrics.make_scorer(sk.metrics.f1_score, average = 'micro')\n",
    "\n",
    "grid_search_sgd = GridSearchCV(sgd_clf, \n",
    "                               param_grid, \n",
    "                               scoring = scorer,\n",
    "                               return_train_score = True)\n",
    "\n",
    "grid_result_sgd = grid_search_sgd.fit(train_x_tr, train_y)"
   ]
  },
  {
   "cell_type": "code",
   "execution_count": 20,
   "metadata": {},
   "outputs": [
    {
     "name": "stdout",
     "output_type": "stream",
     "text": [
      "Best Score:  0.8676923076923077\n",
      "Best Params:  {'alpha': 0.001, 'loss': 'log', 'penalty': 'elasticnet'}\n"
     ]
    }
   ],
   "source": [
    "print('Best Score: ', grid_result_sgd.best_score_)\n",
    "print('Best Params: ', grid_result_sgd.best_params_)"
   ]
  },
  {
   "cell_type": "markdown",
   "metadata": {},
   "source": [
    "**Results:** looking up the SGDClassifier documentation, the default hyperparameters would be {'alpha': 0.0001, 'loss': 'hinge', 'penalty': 'l2'}. As the grid search result is not identical, we should expect a better performance from the tuned settings. Hence, the accuracy and confusion matrix should be different."
   ]
  },
  {
   "cell_type": "code",
   "execution_count": 21,
   "metadata": {},
   "outputs": [],
   "source": [
    "test_y_sgd_pred_tuned = grid_result_sgd.predict(test_x_tr) #Get predictions from grid search result"
   ]
  },
  {
   "cell_type": "markdown",
   "metadata": {},
   "source": [
    "### 4.3 Confusion Matrix after Grid Search"
   ]
  },
  {
   "cell_type": "code",
   "execution_count": 22,
   "metadata": {},
   "outputs": [
    {
     "name": "stdout",
     "output_type": "stream",
     "text": [
      "This is the confusion matrix\n",
      " [[53  0  1  0]\n",
      " [ 1 38  0  9]\n",
      " [ 5  0 32  0]\n",
      " [ 0  1  1 57]]\n",
      "Plotting with predicted test dataset labels on horizontal axis, actuals labels on vertical axis\n"
     ]
    },
    {
     "data": {
      "image/png": "[encoded data removed]",
      "text/plain": [
       "<Figure size 432x288 with 2 Axes>"
      ]
     },
     "metadata": {
      "needs_background": "light"
     },
     "output_type": "display_data"
    }
   ],
   "source": [
    "#confusion matrix generation\n",
    "conf_mx_sgd_tuned = confusion_matrix(test_y, test_y_sgd_pred_tuned)\n",
    "print(\"This is the confusion matrix\\n\",conf_mx_sgd_tuned)\n",
    "\n",
    "#visualisation setup\n",
    "alpha = ['d', 'h', 'o', 's']\n",
    "data = conf_mx_sgd_tuned\n",
    "\n",
    "fig = plt.figure()\n",
    "ax = fig.add_subplot(111)\n",
    "cax = ax.matshow(data, interpolation='nearest')\n",
    "fig.colorbar(cax)\n",
    "\n",
    "ax.set_xticklabels(['']+alpha)\n",
    "ax.set_yticklabels(['']+alpha)\n",
    "\n",
    "plt.show\n",
    "print(\"Plotting with predicted test dataset labels on horizontal axis, actuals labels on vertical axis\")"
   ]
  },
  {
   "cell_type": "markdown",
   "metadata": {},
   "source": [
    "**Results:** Each row represents an actual class, while each column represents a predicted class. The classification results are thus:\n",
    "* Class d: 53 correctly predicted, 1 wrongly predicted as 'o'\n",
    "* Class h: 38 correctly predicted, 1,9 wrongly predicted as 'd','s' respectively\n",
    "* Class o: 32 correctly predicted, 5 wrongly predicted as 'd'\n",
    "* Class s: 57 correctly predicted, 1,1 wrongly predicted as 'h','o' respectively"
   ]
  },
  {
   "cell_type": "code",
   "execution_count": 23,
   "metadata": {},
   "outputs": [
    {
     "name": "stdout",
     "output_type": "stream",
     "text": [
      "Accuracy score of prediction:\n",
      "\n",
      "0.9090909090909091\n"
     ]
    }
   ],
   "source": [
    "print(\"Accuracy score of prediction:\\n\")\n",
    "print(metrics.accuracy_score(test_y, test_y_sgd_pred_tuned))"
   ]
  },
  {
   "cell_type": "markdown",
   "metadata": {},
   "source": [
    "## 5. Conclusion"
   ]
  },
  {
   "cell_type": "markdown",
   "metadata": {},
   "source": [
    "<p>The accuracy score of the untuned and tuned Support Vector Classifier were identical, at 91.9%. This was due to the hyperparameters from the grid search matching the default hyperparameters.</p>\n",
    "\n",
    "<p>The accuracy score of the untuned Stochastic Gradient Descent Classifier was 93.4%, while the tuned version had a score of 90.9%. As the grid search's resulting hyperparameters were not identical to the default settings, this change is expected. The accuracy score, and thus performance, was found to be lower. However, this is due to the system ending up fine-tuned to perform well on the validation data and it is unlikely to perform as well on unknown datasets. Trying to manually tweak the parameters to make the performance look good on the test dataset would result in the changes being unlikely to generalise well with any new data.\n",
    "</p>\n",
    "\n",
    "<p>Overall, the performance of the Support Vector Classifier is comparable to the Stochastic Gradient Descent Classifier.</p>"
   ]
  }
 ],
 "metadata": {
  "kernelspec": {
   "display_name": "Python 3",
   "language": "python",
   "name": "python3"
  },
  "language_info": {
   "codemirror_mode": {
    "name": "ipython",
    "version": 3
   },
   "file_extension": ".py",
   "mimetype": "text/x-python",
   "name": "python",
   "nbconvert_exporter": "python",
   "pygments_lexer": "ipython3",
   "version": "3.7.6"
  }
 },
 "nbformat": 4,
 "nbformat_minor": 4
}
