{
 "cells": [
  {
   "cell_type": "markdown",
   "metadata": {},
   "source": [
    "# CITS5508 Lab 3: Random Forest Classifier on Parkinsons\n",
    "\n",
    "Name: Joey Koh<br>\n",
    "Student number: 21506379  \n",
    "Date created: 13 April 2020  \n",
    "Last modified: 20 April 2020  \n",
    "\n",
    "This notebook goes through the steps of a Random Forest Classification project. It is addressing a classification task on predicting Parkinsons status using vocal.<br>\n",
    "\n",
    "A Support Vector Machine Classifier, Logistic Regression, and Gradient Descent Classifier are used in ensemble and judged in performance.\n",
    "\n",
    "- [ ] fix notes\n",
    "- [ ] search and fix EDIT\n",
    "- [ ] search and remove all REMOVE\n",
    "\n",
    "ask:\n",
    "- how to use drop/loc\n",
    "- feature scaling using training_x data right?\n",
    "- accuracy and f1 score difference?\n",
    "- imbalanced binary, how to deal"
   ]
  },
  {
   "cell_type": "markdown",
   "metadata": {},
   "source": [
    "## 1. Setup, Data Cleaning and Visualisation\n",
    "Import libraries to be used and bring the data in. Clean the data for use.<br>\n",
    "Perform basic visualisations to have a feel of data.<br>"
   ]
  },
  {
   "cell_type": "code",
   "execution_count": 7,
   "metadata": {},
   "outputs": [
    {
     "data": {
      "text/html": [
       "<div>\n",
       "<style scoped>\n",
       "    .dataframe tbody tr th:only-of-type {\n",
       "        vertical-align: middle;\n",
       "    }\n",
       "\n",
       "    .dataframe tbody tr th {\n",
       "        vertical-align: top;\n",
       "    }\n",
       "\n",
       "    .dataframe thead th {\n",
       "        text-align: right;\n",
       "    }\n",
       "</style>\n",
       "<table border=\"1\" class=\"dataframe\">\n",
       "  <thead>\n",
       "    <tr style=\"text-align: right;\">\n",
       "      <th></th>\n",
       "      <th>name</th>\n",
       "      <th>MDVP:Fo(Hz)</th>\n",
       "      <th>MDVP:Fhi(Hz)</th>\n",
       "      <th>MDVP:Flo(Hz)</th>\n",
       "      <th>MDVP:Jitter(%)</th>\n",
       "      <th>MDVP:Jitter(Abs)</th>\n",
       "      <th>MDVP:RAP</th>\n",
       "      <th>MDVP:PPQ</th>\n",
       "      <th>Jitter:DDP</th>\n",
       "      <th>MDVP:Shimmer</th>\n",
       "      <th>...</th>\n",
       "      <th>Shimmer:DDA</th>\n",
       "      <th>NHR</th>\n",
       "      <th>HNR</th>\n",
       "      <th>status</th>\n",
       "      <th>RPDE</th>\n",
       "      <th>DFA</th>\n",
       "      <th>spread1</th>\n",
       "      <th>spread2</th>\n",
       "      <th>D2</th>\n",
       "      <th>PPE</th>\n",
       "    </tr>\n",
       "  </thead>\n",
       "  <tbody>\n",
       "    <tr>\n",
       "      <th>0</th>\n",
       "      <td>phon_R01_S01_1</td>\n",
       "      <td>119.992</td>\n",
       "      <td>157.302</td>\n",
       "      <td>74.997</td>\n",
       "      <td>0.00784</td>\n",
       "      <td>0.00007</td>\n",
       "      <td>0.00370</td>\n",
       "      <td>0.00554</td>\n",
       "      <td>0.01109</td>\n",
       "      <td>0.04374</td>\n",
       "      <td>...</td>\n",
       "      <td>0.06545</td>\n",
       "      <td>0.02211</td>\n",
       "      <td>21.033</td>\n",
       "      <td>1</td>\n",
       "      <td>0.414783</td>\n",
       "      <td>0.815285</td>\n",
       "      <td>-4.813031</td>\n",
       "      <td>0.266482</td>\n",
       "      <td>2.301442</td>\n",
       "      <td>0.284654</td>\n",
       "    </tr>\n",
       "    <tr>\n",
       "      <th>1</th>\n",
       "      <td>phon_R01_S01_2</td>\n",
       "      <td>122.400</td>\n",
       "      <td>148.650</td>\n",
       "      <td>113.819</td>\n",
       "      <td>0.00968</td>\n",
       "      <td>0.00008</td>\n",
       "      <td>0.00465</td>\n",
       "      <td>0.00696</td>\n",
       "      <td>0.01394</td>\n",
       "      <td>0.06134</td>\n",
       "      <td>...</td>\n",
       "      <td>0.09403</td>\n",
       "      <td>0.01929</td>\n",
       "      <td>19.085</td>\n",
       "      <td>1</td>\n",
       "      <td>0.458359</td>\n",
       "      <td>0.819521</td>\n",
       "      <td>-4.075192</td>\n",
       "      <td>0.335590</td>\n",
       "      <td>2.486855</td>\n",
       "      <td>0.368674</td>\n",
       "    </tr>\n",
       "    <tr>\n",
       "      <th>2</th>\n",
       "      <td>phon_R01_S01_3</td>\n",
       "      <td>116.682</td>\n",
       "      <td>131.111</td>\n",
       "      <td>111.555</td>\n",
       "      <td>0.01050</td>\n",
       "      <td>0.00009</td>\n",
       "      <td>0.00544</td>\n",
       "      <td>0.00781</td>\n",
       "      <td>0.01633</td>\n",
       "      <td>0.05233</td>\n",
       "      <td>...</td>\n",
       "      <td>0.08270</td>\n",
       "      <td>0.01309</td>\n",
       "      <td>20.651</td>\n",
       "      <td>1</td>\n",
       "      <td>0.429895</td>\n",
       "      <td>0.825288</td>\n",
       "      <td>-4.443179</td>\n",
       "      <td>0.311173</td>\n",
       "      <td>2.342259</td>\n",
       "      <td>0.332634</td>\n",
       "    </tr>\n",
       "    <tr>\n",
       "      <th>3</th>\n",
       "      <td>phon_R01_S01_4</td>\n",
       "      <td>116.676</td>\n",
       "      <td>137.871</td>\n",
       "      <td>111.366</td>\n",
       "      <td>0.00997</td>\n",
       "      <td>0.00009</td>\n",
       "      <td>0.00502</td>\n",
       "      <td>0.00698</td>\n",
       "      <td>0.01505</td>\n",
       "      <td>0.05492</td>\n",
       "      <td>...</td>\n",
       "      <td>0.08771</td>\n",
       "      <td>0.01353</td>\n",
       "      <td>20.644</td>\n",
       "      <td>1</td>\n",
       "      <td>0.434969</td>\n",
       "      <td>0.819235</td>\n",
       "      <td>-4.117501</td>\n",
       "      <td>0.334147</td>\n",
       "      <td>2.405554</td>\n",
       "      <td>0.368975</td>\n",
       "    </tr>\n",
       "    <tr>\n",
       "      <th>4</th>\n",
       "      <td>phon_R01_S01_5</td>\n",
       "      <td>116.014</td>\n",
       "      <td>141.781</td>\n",
       "      <td>110.655</td>\n",
       "      <td>0.01284</td>\n",
       "      <td>0.00011</td>\n",
       "      <td>0.00655</td>\n",
       "      <td>0.00908</td>\n",
       "      <td>0.01966</td>\n",
       "      <td>0.06425</td>\n",
       "      <td>...</td>\n",
       "      <td>0.10470</td>\n",
       "      <td>0.01767</td>\n",
       "      <td>19.649</td>\n",
       "      <td>1</td>\n",
       "      <td>0.417356</td>\n",
       "      <td>0.823484</td>\n",
       "      <td>-3.747787</td>\n",
       "      <td>0.234513</td>\n",
       "      <td>2.332180</td>\n",
       "      <td>0.410335</td>\n",
       "    </tr>\n",
       "  </tbody>\n",
       "</table>\n",
       "<p>5 rows × 24 columns</p>\n",
       "</div>"
      ],
      "text/plain": [
       "             name  MDVP:Fo(Hz)  MDVP:Fhi(Hz)  MDVP:Flo(Hz)  MDVP:Jitter(%)  \\\n",
       "0  phon_R01_S01_1      119.992       157.302        74.997         0.00784   \n",
       "1  phon_R01_S01_2      122.400       148.650       113.819         0.00968   \n",
       "2  phon_R01_S01_3      116.682       131.111       111.555         0.01050   \n",
       "3  phon_R01_S01_4      116.676       137.871       111.366         0.00997   \n",
       "4  phon_R01_S01_5      116.014       141.781       110.655         0.01284   \n",
       "\n",
       "   MDVP:Jitter(Abs)  MDVP:RAP  MDVP:PPQ  Jitter:DDP  MDVP:Shimmer  ...  \\\n",
       "0           0.00007   0.00370   0.00554     0.01109       0.04374  ...   \n",
       "1           0.00008   0.00465   0.00696     0.01394       0.06134  ...   \n",
       "2           0.00009   0.00544   0.00781     0.01633       0.05233  ...   \n",
       "3           0.00009   0.00502   0.00698     0.01505       0.05492  ...   \n",
       "4           0.00011   0.00655   0.00908     0.01966       0.06425  ...   \n",
       "\n",
       "   Shimmer:DDA      NHR     HNR  status      RPDE       DFA   spread1  \\\n",
       "0      0.06545  0.02211  21.033       1  0.414783  0.815285 -4.813031   \n",
       "1      0.09403  0.01929  19.085       1  0.458359  0.819521 -4.075192   \n",
       "2      0.08270  0.01309  20.651       1  0.429895  0.825288 -4.443179   \n",
       "3      0.08771  0.01353  20.644       1  0.434969  0.819235 -4.117501   \n",
       "4      0.10470  0.01767  19.649       1  0.417356  0.823484 -3.747787   \n",
       "\n",
       "    spread2        D2       PPE  \n",
       "0  0.266482  2.301442  0.284654  \n",
       "1  0.335590  2.486855  0.368674  \n",
       "2  0.311173  2.342259  0.332634  \n",
       "3  0.334147  2.405554  0.368975  \n",
       "4  0.234513  2.332180  0.410335  \n",
       "\n",
       "[5 rows x 24 columns]"
      ]
     },
     "execution_count": 7,
     "metadata": {},
     "output_type": "execute_result"
    }
   ],
   "source": [
    "import pandas as pd\n",
    "import numpy as np\n",
    "import sklearn as sk\n",
    "#Use jupyter's backend to render plots\n",
    "%matplotlib inline\n",
    "import matplotlib.pyplot as plt\n",
    "import matplotlib.lines as mlines\n",
    "from pandas.plotting import scatter_matrix\n",
    "from sklearn.pipeline import Pipeline\n",
    "from sklearn.model_selection import train_test_split\n",
    "from sklearn.preprocessing import StandardScaler\n",
    "from sklearn.ensemble import RandomForestClassifier \n",
    "from sklearn.model_selection import GridSearchCV\n",
    "from sklearn.metrics import confusion_matrix\n",
    "from sklearn import metrics\n",
    "import warnings\n",
    "#warnings.filterwarnings(\"ignore\")\n",
    "\n",
    "#Prepare the data, separate cols by whitespace, give col names\n",
    "raw_data = pd.read_csv(\"parkinsons.data\")\n",
    "#View first few lines and inspect columns\n",
    "raw_data.head()"
   ]
  },
  {
   "cell_type": "markdown",
   "metadata": {},
   "source": [
    "### 1.1 Data Cleaning\n",
    "There are quite a few columns, so let's look at all of them."
   ]
  },
  {
   "cell_type": "code",
   "execution_count": 6,
   "metadata": {},
   "outputs": [
    {
     "name": "stdout",
     "output_type": "stream",
     "text": [
      "               name  MDVP:Fo(Hz)  MDVP:Fhi(Hz)  MDVP:Flo(Hz)  MDVP:Jitter(%)  \\\n",
      "0    phon_R01_S01_1      119.992       157.302        74.997         0.00784   \n",
      "1    phon_R01_S01_2      122.400       148.650       113.819         0.00968   \n",
      "2    phon_R01_S01_3      116.682       131.111       111.555         0.01050   \n",
      "3    phon_R01_S01_4      116.676       137.871       111.366         0.00997   \n",
      "4    phon_R01_S01_5      116.014       141.781       110.655         0.01284   \n",
      "..              ...          ...           ...           ...             ...   \n",
      "190  phon_R01_S50_2      174.188       230.978        94.261         0.00459   \n",
      "191  phon_R01_S50_3      209.516       253.017        89.488         0.00564   \n",
      "192  phon_R01_S50_4      174.688       240.005        74.287         0.01360   \n",
      "193  phon_R01_S50_5      198.764       396.961        74.904         0.00740   \n",
      "194  phon_R01_S50_6      214.289       260.277        77.973         0.00567   \n",
      "\n",
      "     MDVP:Jitter(Abs)  MDVP:RAP  MDVP:PPQ  Jitter:DDP  MDVP:Shimmer  \\\n",
      "0             0.00007   0.00370   0.00554     0.01109       0.04374   \n",
      "1             0.00008   0.00465   0.00696     0.01394       0.06134   \n",
      "2             0.00009   0.00544   0.00781     0.01633       0.05233   \n",
      "3             0.00009   0.00502   0.00698     0.01505       0.05492   \n",
      "4             0.00011   0.00655   0.00908     0.01966       0.06425   \n",
      "..                ...       ...       ...         ...           ...   \n",
      "190           0.00003   0.00263   0.00259     0.00790       0.04087   \n",
      "191           0.00003   0.00331   0.00292     0.00994       0.02751   \n",
      "192           0.00008   0.00624   0.00564     0.01873       0.02308   \n",
      "193           0.00004   0.00370   0.00390     0.01109       0.02296   \n",
      "194           0.00003   0.00295   0.00317     0.00885       0.01884   \n",
      "\n",
      "     MDVP:Shimmer(dB)  Shimmer:APQ3  Shimmer:APQ5  MDVP:APQ  Shimmer:DDA  \\\n",
      "0               0.426       0.02182       0.03130   0.02971      0.06545   \n",
      "1               0.626       0.03134       0.04518   0.04368      0.09403   \n",
      "2               0.482       0.02757       0.03858   0.03590      0.08270   \n",
      "3               0.517       0.02924       0.04005   0.03772      0.08771   \n",
      "4               0.584       0.03490       0.04825   0.04465      0.10470   \n",
      "..                ...           ...           ...       ...          ...   \n",
      "190             0.405       0.02336       0.02498   0.02745      0.07008   \n",
      "191             0.263       0.01604       0.01657   0.01879      0.04812   \n",
      "192             0.256       0.01268       0.01365   0.01667      0.03804   \n",
      "193             0.241       0.01265       0.01321   0.01588      0.03794   \n",
      "194             0.190       0.01026       0.01161   0.01373      0.03078   \n",
      "\n",
      "         NHR     HNR  status      RPDE       DFA   spread1   spread2  \\\n",
      "0    0.02211  21.033       1  0.414783  0.815285 -4.813031  0.266482   \n",
      "1    0.01929  19.085       1  0.458359  0.819521 -4.075192  0.335590   \n",
      "2    0.01309  20.651       1  0.429895  0.825288 -4.443179  0.311173   \n",
      "3    0.01353  20.644       1  0.434969  0.819235 -4.117501  0.334147   \n",
      "4    0.01767  19.649       1  0.417356  0.823484 -3.747787  0.234513   \n",
      "..       ...     ...     ...       ...       ...       ...       ...   \n",
      "190  0.02764  19.517       0  0.448439  0.657899 -6.538586  0.121952   \n",
      "191  0.01810  19.147       0  0.431674  0.683244 -6.195325  0.129303   \n",
      "192  0.10715  17.883       0  0.407567  0.655683 -6.787197  0.158453   \n",
      "193  0.07223  19.020       0  0.451221  0.643956 -6.744577  0.207454   \n",
      "194  0.04398  21.209       0  0.462803  0.664357 -5.724056  0.190667   \n",
      "\n",
      "           D2       PPE  \n",
      "0    2.301442  0.284654  \n",
      "1    2.486855  0.368674  \n",
      "2    2.342259  0.332634  \n",
      "3    2.405554  0.368975  \n",
      "4    2.332180  0.410335  \n",
      "..        ...       ...  \n",
      "190  2.657476  0.133050  \n",
      "191  2.784312  0.168895  \n",
      "192  2.679772  0.131728  \n",
      "193  2.138608  0.123306  \n",
      "194  2.555477  0.148569  \n",
      "\n",
      "[195 rows x 24 columns]\n"
     ]
    }
   ],
   "source": [
    "#view all columns\n",
    "with pd.option_context( 'display.max_columns', None):  # more options can be specified also\n",
    "    print(raw_data)"
   ]
  },
  {
   "cell_type": "markdown",
   "metadata": {},
   "source": [
    "With the data description as well, we confirm that only 'name' is non-numerical. It is the 'ASCII subject name and recording number' of 31 people with around 6 recordings per person. As we are trying to use speech signals and not the individual's identity to classify the health status, we can **drop the 'name' column**."
   ]
  },
  {
   "cell_type": "code",
   "execution_count": 13,
   "metadata": {},
   "outputs": [
    {
     "name": "stdout",
     "output_type": "stream",
     "text": [
      "Are there any undefined values?\n",
      "False\n"
     ]
    }
   ],
   "source": [
    "data = raw_data.drop('name', axis= 1)\n",
    "print(\"Are there any undefined values?\")\n",
    "print(data.isnull().values.any()) #ensure no undefined values left to fix\n"
   ]
  },
  {
   "cell_type": "markdown",
   "metadata": {},
   "source": [
    "Good, no problems here with NaN values."
   ]
  },
  {
   "cell_type": "markdown",
   "metadata": {},
   "source": [
    "## 2. Pipeline: Data Splitting, and Normalisation\n",
    "Split dataset, extract labels, investigate need for data normalisation, and create pipeline."
   ]
  },
  {
   "cell_type": "code",
   "execution_count": 16,
   "metadata": {},
   "outputs": [
    {
     "name": "stdout",
     "output_type": "stream",
     "text": [
      "are there any NaN values created for test data and train data?\n",
      "False  and  False for both\n"
     ]
    }
   ],
   "source": [
    "#Split dataset at 8:2 ratio\n",
    "train_data, test_data = train_test_split(data, test_size=0.2, random_state= 42) #with set randomseed\n",
    "train_data = train_data.reset_index(drop=True) #renumber index\n",
    "test_data = test_data.reset_index(drop=True) #renumber index\n",
    "#Ensure no NaN values\n",
    "print(\"are there any NaN values created for test data and train data?\")\n",
    "print(test_data.isnull().values.any(),\" and \",train_data.isnull().values.any(), \"for both\" )\n"
   ]
  },
  {
   "cell_type": "markdown",
   "metadata": {},
   "source": [
    "As checked, there are no undefined values after data splitting."
   ]
  },
  {
   "cell_type": "code",
   "execution_count": 18,
   "metadata": {},
   "outputs": [
    {
     "name": "stdout",
     "output_type": "stream",
     "text": [
      "For the training dataset:\n",
      "\n",
      "For this dataset, these are the number of instances for each class label\n",
      "1    115\n",
      "0     41\n",
      "Name: status, dtype: int64 \n",
      "\n",
      "For the testing dataset:\n",
      "\n",
      "For this dataset, these are the number of instances for each class label\n",
      "1    32\n",
      "0     7\n",
      "Name: status, dtype: int64 \n",
      "\n"
     ]
    }
   ],
   "source": [
    "#Produce normalised dataset and un-normalised dataset for comparison.\n",
    "def separate_pipeline(df): #separate data into labels and predictors\n",
    "    df_y = df[\"status\"]  #Extract class labels\n",
    "    print(\"For this dataset, these are the number of instances for each class label\")\n",
    "    print(df_y.value_counts(),\"\\n\")   #Count instances for class labels in training set\n",
    "    df_x = df.drop(\"status\", axis=1) #separate predictors from labels\n",
    "    #REMOVE print(df_x.describe(),'\\n')  #get an idea of the data distribution\n",
    "    return df_y, df_x\n",
    "\n",
    "def scaler_pipeline(df,df_train_x): #for feature scaling\n",
    "    std_scaler = StandardScaler()\n",
    "    std_scaler.fit(df_train_x)\n",
    "    return std_scaler.transform(df)\n",
    "    \n",
    "def main_pipeline(train_dataset, test_dataset): #bringing it all together\n",
    "    print(\"For the training dataset:\\n\")\n",
    "    train_y, train_x = separate_pipeline(train_dataset)\n",
    "    print(\"For the testing dataset:\\n\")\n",
    "    test_y, test_x = separate_pipeline(test_dataset)\n",
    "    train_x_tr = scaler_pipeline(train_x, train_x)\n",
    "    test_x_tr = scaler_pipeline(test_x, train_x)\n",
    "    return train_y, train_x, test_y, test_x, train_x_tr, test_x_tr\n",
    "\n",
    "train_y, train_x, test_y, test_x, train_x_tr, test_x_tr = main_pipeline(train_data, test_data)\n"
   ]
  },
  {
   "cell_type": "markdown",
   "metadata": {},
   "source": [
    "Good, there are some instances for each of the 2 classes to train with.<br>\n",
    "**Note: 0 = healthy, 1 = unhealthy (has Parkinsons)**"
   ]
  },
  {
   "cell_type": "markdown",
   "metadata": {},
   "source": [
    "## 3. Random Forest Classifier #1\n",
    "All available cores with 500 trees and max 16 nodes."
   ]
  },
  {
   "cell_type": "code",
   "execution_count": 43,
   "metadata": {},
   "outputs": [],
   "source": [
    "randf1_clf = RandomForestClassifier(n_estimators= 500, max_leaf_nodes= 16, n_jobs= -1)\n",
    "\n",
    "#fit with transformed training data\n",
    "randf1_clf.fit(train_x_tr,train_y);\n",
    "#generate test data label predictions\n",
    "test_y_randf1_tr_pred = randf1_clf.predict(test_x_tr)\n",
    "\n",
    "#fit with non-normalised training data\n",
    "randf1_clf.fit(train_x, train_y);\n",
    "#generate predictions\n",
    "test_y_randf1_pred = randf1_clf.predict(test_x)\n"
   ]
  },
  {
   "cell_type": "markdown",
   "metadata": {},
   "source": [
    "### 3.1 Confusion Matrix "
   ]
  },
  {
   "cell_type": "code",
   "execution_count": 23,
   "metadata": {},
   "outputs": [],
   "source": [
    "def conf_matrix(actual_y, pred_y, model): #confusion matrix function for plotting\n",
    "    #confusion matrix generation\n",
    "    conf_mx = confusion_matrix(actual_y, pred_y)\n",
    "    print(\"This is the confusion matrix for\",model,\"\\n\",conf_mx)\n",
    "\n",
    "    #visualisation setup\n",
    "    alpha = ['healthy', 'unhealthy']\n",
    "    conf_data = conf_mx\n",
    "\n",
    "    fig = plt.figure()\n",
    "    ax = fig.add_subplot(111)\n",
    "    cax = ax.matshow(conf_data, interpolation='nearest')\n",
    "    fig.colorbar(cax)\n",
    "\n",
    "    ax.set_xticklabels(['']+alpha)\n",
    "    ax.set_yticklabels(['']+alpha)\n",
    "\n",
    "    plt.show\n",
    "    print(\"Plotting with predicted test dataset labels on horizontal axis, actuals labels on vertical axis\")\n",
    "    \n",
    "def report_scores(actual_y, pred_y): #F1 score function\n",
    "    print(\"F1 scores of prediction for each class:\")\n",
    "    print(metrics.f1_score(actual_y, pred_y, average= \"micro\"))"
   ]
  },
  {
   "cell_type": "code",
   "execution_count": 28,
   "metadata": {},
   "outputs": [
    {
     "name": "stdout",
     "output_type": "stream",
     "text": [
      "This is the confusion matrix for random forest #1 transformed \n",
      " [[ 5  2]\n",
      " [ 0 32]]\n",
      "Plotting with predicted test dataset labels on horizontal axis, actuals labels on vertical axis\n"
     ]
    },
    {
     "data": {
      "image/png": "[encoded data removed]",
      "text/plain": [
       "<Figure size 432x288 with 2 Axes>"
      ]
     },
     "metadata": {
      "needs_background": "light"
     },
     "output_type": "display_data"
    }
   ],
   "source": [
    "#Confusion matrix for randf1 transformed data\n",
    "conf_matrix(test_y,test_y_randf1_tr_pred, \"random forest #1 transformed\")"
   ]
  },
  {
   "cell_type": "markdown",
   "metadata": {},
   "source": [
    "**Results:** Each row represents an actual class, while each column represents a predicted class. The classification results are thus:\n",
    "* Class healthy: 5 correctly predicted, 2 wrongly predicted\n",
    "* Class unhealthy: 32 correctly predicted, none wrongly predicted"
   ]
  },
  {
   "cell_type": "markdown",
   "metadata": {},
   "source": [
    "**Results:** Each row represents an actual class, while each column represents a predicted class. The classification results are thus:\n",
    "* Class healthy: 5 correctly predicted, 2 wrongly predicted\n",
    "* Class unhealthy: 32 correctly predicted, none wrongly predicted"
   ]
  },
  {
   "cell_type": "code",
   "execution_count": 29,
   "metadata": {},
   "outputs": [
    {
     "name": "stdout",
     "output_type": "stream",
     "text": [
      "This is the confusion matrix for random forest #1 not normalised \n",
      " [[ 5  2]\n",
      " [ 0 32]]\n",
      "Plotting with predicted test dataset labels on horizontal axis, actuals labels on vertical axis\n"
     ]
    },
    {
     "data": {
      "image/png": "[encoded data removed]",
      "text/plain": [
       "<Figure size 432x288 with 2 Axes>"
      ]
     },
     "metadata": {
      "needs_background": "light"
     },
     "output_type": "display_data"
    }
   ],
   "source": [
    "#Confusion matrix for randf1 not normalised data\n",
    "conf_matrix(test_y,test_y_randf1_pred, \"random forest #1 not normalised\")"
   ]
  },
  {
   "cell_type": "code",
   "execution_count": 36,
   "metadata": {},
   "outputs": [
    {
     "name": "stdout",
     "output_type": "stream",
     "text": [
      "For transformed data trained model:\n",
      "F1 scores of prediction for each class:\n",
      "0.9487179487179487\n",
      "\n",
      " For not normalised data trained model:\n",
      "F1 scores of prediction for each class:\n",
      "0.9487179487179487\n"
     ]
    }
   ],
   "source": [
    "#Get scores\n",
    "print(\"For transformed data trained model:\")\n",
    "report_scores(test_y, test_y_randf1_tr_pred)\n",
    "\n",
    "print(\"\\n For not normalised data trained model:\")\n",
    "report_scores(test_y, test_y_randf1_pred)\n"
   ]
  },
  {
   "cell_type": "markdown",
   "metadata": {},
   "source": [
    "**Results**: Both F1 scores of 0.949 are **identical**. Let's look at another Random Forest classifier."
   ]
  },
  {
   "cell_type": "markdown",
   "metadata": {},
   "source": [
    "## 4. Random Forest Classifer #2"
   ]
  },
  {
   "cell_type": "code",
   "execution_count": 42,
   "metadata": {},
   "outputs": [],
   "source": [
    "randf2_clf = RandomForestClassifier(criterion='entropy', n_estimators= 400, max_leaf_nodes= 14, n_jobs= -1)\n",
    "\n",
    "#fit with transformed training data\n",
    "randf2_clf.fit(train_x_tr,train_y);\n",
    "#generate test data label predictions\n",
    "test_y_randf2_tr_pred = randf2_clf.predict(test_x_tr)\n",
    "\n",
    "#fit with non-normalised training data\n",
    "randf2_clf.fit(train_x, train_y);\n",
    "#generate predictions\n",
    "test_y_randf2_pred = randf2_clf.predict(test_x)\n"
   ]
  },
  {
   "cell_type": "markdown",
   "metadata": {},
   "source": [
    "### 4.1 Confusion Matrix "
   ]
  },
  {
   "cell_type": "code",
   "execution_count": null,
   "metadata": {},
   "outputs": [],
   "source": [
    "#Confusion matrix for randf2 transformed data\n",
    "conf_matrix(test_y,test_y_randf2_tr_pred, \"random forest #2 transformed\")"
   ]
  },
  {
   "cell_type": "markdown",
   "metadata": {},
   "source": [
    "**Results:** Each row represents an actual class, while each column represents a predicted class. The classification results are thus:\n",
    "* Class cp: 29 correctly predicted, 1 wrongly predicted as 'pp'\n",
    "* Class im: 14 correctly predicted, 1 wrongly predicted as 'cp'\n",
    "* Class imU: 4 correctly predicted, 2 wrongly predicted as 'im'\n",
    "* Class om: 3 correctly predicted, none wrongly predicted\n",
    "* Class pp: 11 correctly predicted, 1 wrongly predicted as 'cp'"
   ]
  },
  {
   "cell_type": "code",
   "execution_count": null,
   "metadata": {},
   "outputs": [],
   "source": [
    "report_scores(test_y, test_y_svm_pred_tuned)"
   ]
  },
  {
   "cell_type": "markdown",
   "metadata": {},
   "source": [
    "As the gridsearch results indicate new hyperparameter values as the best in the tested range of values, the accuracy score and confusion matrix **improves** on the un-tuned version's."
   ]
  },
  {
   "cell_type": "markdown",
   "metadata": {},
   "source": [
    "## 4. Logistic Regression Classifier"
   ]
  },
  {
   "cell_type": "code",
   "execution_count": null,
   "metadata": {},
   "outputs": [],
   "source": [
    "#fit log regression model with training data\n",
    "log_clf = LogisticRegression()\n",
    "log_clf.fit(train_x_tr, train_y)\n",
    "\n",
    "#get test data label predictions\n",
    "test_y_log_pred = log_clf.predict(test_x_tr)"
   ]
  },
  {
   "cell_type": "markdown",
   "metadata": {},
   "source": [
    "### 4.1 Confusion Matrix"
   ]
  },
  {
   "cell_type": "code",
   "execution_count": null,
   "metadata": {},
   "outputs": [],
   "source": [
    "conf_matrix(test_y, test_y_log_pred, \"log regression\")"
   ]
  },
  {
   "cell_type": "markdown",
   "metadata": {},
   "source": [
    "**Results:** Each row represents an actual class, while each column represents a predicted class. The classification results are thus:\n",
    "* Class cp: 30 correctly predicted, none wrongly predicted\n",
    "* Class im: 14 correctly predicted, 1 wrongly predicted as 'cp'\n",
    "* Class imU: 4 correctly predicted, 1,1 wrongly predicted as 'im','pp' respectively\n",
    "* Class om: 3 correctly predicted, none wrongly predicted\n",
    "* Class pp: 11 correctly predicted, 1 wrongly predicted as 'cp'"
   ]
  },
  {
   "cell_type": "code",
   "execution_count": null,
   "metadata": {},
   "outputs": [],
   "source": [
    "report_scores(test_y, test_y_log_pred)"
   ]
  },
  {
   "cell_type": "markdown",
   "metadata": {},
   "source": [
    "### 4.2 Tune Hyperparameters with Grid Search"
   ]
  },
  {
   "cell_type": "code",
   "execution_count": null,
   "metadata": {},
   "outputs": [],
   "source": [
    "param_grid = {'penalty':('l1', 'l2'), \n",
    "              'C':[0.0001, 0.001, 0.01, 0.1, 1, 10, 100, 1000],\n",
    "              'intercept_scaling':[0.0001, 0.001, 0.01, 0.1, 1, 10, 100, 1000]\n",
    "             }\n",
    "\n",
    "log_clf = LogisticRegression()\n",
    "scorer = sk.metrics.make_scorer(sk.metrics.f1_score, average = 'micro')\n",
    "\n",
    "grid_search_log = GridSearchCV(log_clf, \n",
    "                               param_grid, \n",
    "                               scoring = scorer,\n",
    "                               return_train_score = True)\n",
    "\n",
    "grid_result_log = grid_search_log.fit(train_x_tr, train_y)"
   ]
  },
  {
   "cell_type": "code",
   "execution_count": null,
   "metadata": {},
   "outputs": [],
   "source": [
    "print('Best Score: ', grid_result_log.best_score_)\n",
    "print('Best Params: ', grid_result_log.best_params_)"
   ]
  },
  {
   "cell_type": "markdown",
   "metadata": {},
   "source": [
    "**Results:** looking up the LogReg documentation, the best hyperparameters from the gridsearch has a different 'penalty':'l1' compared to the default setting of 'l2'. Hence, we try it instead."
   ]
  },
  {
   "cell_type": "code",
   "execution_count": null,
   "metadata": {},
   "outputs": [],
   "source": [
    "test_y_log_pred_tuned = grid_result_log.predict(test_x_tr) #Get predictions from grid search result"
   ]
  },
  {
   "cell_type": "markdown",
   "metadata": {},
   "source": [
    "### 4.3 Confusion Matrix after Grid Search"
   ]
  },
  {
   "cell_type": "code",
   "execution_count": null,
   "metadata": {},
   "outputs": [],
   "source": [
    "#confusion matrix generation\n",
    "conf_matrix(test_y, test_y_log_pred_tuned, \"Log tuned\")"
   ]
  },
  {
   "cell_type": "markdown",
   "metadata": {},
   "source": [
    "**Results:** Each row represents an actual class, while each column represents a predicted class. The classification results are thus:\n",
    "* Class cp: 30 correctly predicted, none wrongly predicted\n",
    "* Class im: 14 correctly predicted, 1 wrongly predicted as 'cp'\n",
    "* Class imU: 4 correctly predicted, 1,1 wrongly predicted as 'im','pp' respectively\n",
    "* Class om: 3 correctly predicted, none wrongly predicted\n",
    "* Class pp: 11 correctly predicted, 1 wrongly predicted as 'cp'"
   ]
  },
  {
   "cell_type": "code",
   "execution_count": null,
   "metadata": {},
   "outputs": [],
   "source": [
    "report_scores(test_y, test_y_log_pred_tuned)"
   ]
  },
  {
   "cell_type": "markdown",
   "metadata": {},
   "source": [
    "As the gridsearch results indicate new hyperparameter values as the best in the tested range of values, the accuracy score and confusion matrix **should improve** on the un-tuned version's. But it doesn't appear to be so, with similar scores.\n"
   ]
  },
  {
   "cell_type": "markdown",
   "metadata": {},
   "source": [
    "## 5. Stochastic Gradient Descent Classifier"
   ]
  },
  {
   "cell_type": "code",
   "execution_count": null,
   "metadata": {},
   "outputs": [],
   "source": [
    "#fit SGD model with training data\n",
    "sgd_clf = SGDClassifier(random_state= 63) #set a randomseed\n",
    "sgd_clf.fit(train_x_tr, train_y);\n",
    "\n",
    "#generate test data label prediction\n",
    "test_y_sgd_pred = sgd_clf.predict(test_x_tr)"
   ]
  },
  {
   "cell_type": "markdown",
   "metadata": {},
   "source": [
    "### 5.1 Confusion Matrix "
   ]
  },
  {
   "cell_type": "code",
   "execution_count": null,
   "metadata": {},
   "outputs": [],
   "source": [
    "#confusion matrix generation\n",
    "conf_matrix(test_y, test_y_sgd_pred, \"SGD\")"
   ]
  },
  {
   "cell_type": "markdown",
   "metadata": {},
   "source": [
    "**Results:** Each row represents an actual class, while each column represents a predicted class. The classification results are thus:\n",
    "* Class cp: 30 correctly predicted, none wrongly predicted\n",
    "* Class im: 14 correctly predicted, 1 wrongly predicted as 'cp'\n",
    "* Class imU: 1 correctly predicted, 4,1 wrongly predicted as 'im','pp'\n",
    "* Class om: 3 correctly predicted, none wrongly predicted\n",
    "* Class pp: 10 correctly predicted, 1,1 wrongly predicted as 'cp','im'"
   ]
  },
  {
   "cell_type": "code",
   "execution_count": null,
   "metadata": {},
   "outputs": [],
   "source": [
    "report_scores(test_y, test_y_sgd_pred)"
   ]
  },
  {
   "cell_type": "markdown",
   "metadata": {},
   "source": [
    "### 5.2 Tune Hyperparameters with Grid Search"
   ]
  },
  {
   "cell_type": "code",
   "execution_count": null,
   "metadata": {},
   "outputs": [],
   "source": [
    "param_grid = {'loss':('hinge', 'log', 'modified_huber', 'perceptron'), \n",
    "              'alpha':[0.0001, 0.001, 0.01, 0.1, 1, 10, 100, 1000],\n",
    "              'penalty':['l2','l1','elasticnet'],\n",
    "              'random_state':[63]\n",
    "             }\n",
    "\n",
    "sgd_clf = SGDClassifier()\n",
    "scorer = sk.metrics.make_scorer(sk.metrics.f1_score, average = 'micro')\n",
    "\n",
    "grid_search_sgd = GridSearchCV(sgd_clf, \n",
    "                               param_grid, \n",
    "                               scoring = scorer,\n",
    "                               return_train_score = True)\n",
    "\n",
    "grid_result_sgd = grid_search_sgd.fit(train_x_tr, train_y)"
   ]
  },
  {
   "cell_type": "code",
   "execution_count": null,
   "metadata": {},
   "outputs": [],
   "source": [
    "print('Best Score: ', grid_result_sgd.best_score_)\n",
    "print('Best Params: ', grid_result_sgd.best_params_)"
   ]
  },
  {
   "cell_type": "markdown",
   "metadata": {},
   "source": [
    "**Results:** looking up the SGDClassifier documentation, the default hyperparameters would be {'alpha': 0.0001, 'loss': 'hinge', 'penalty': 'l2'}. As the grid search result is not identical, we should expect a better performance from the tuned settings. Hence, the accuracy and confusion matrix should be different."
   ]
  },
  {
   "cell_type": "code",
   "execution_count": null,
   "metadata": {},
   "outputs": [],
   "source": [
    "test_y_sgd_pred_tuned = grid_result_sgd.predict(test_x_tr) #Get predictions from grid search result"
   ]
  },
  {
   "cell_type": "markdown",
   "metadata": {},
   "source": [
    "### 5.3 Confusion Matrix after Grid Search"
   ]
  },
  {
   "cell_type": "code",
   "execution_count": null,
   "metadata": {},
   "outputs": [],
   "source": [
    "#confusion matrix generation\n",
    "conf_matrix(test_y, test_y_sgd_pred_tuned, \"SGD tuned\")"
   ]
  },
  {
   "cell_type": "markdown",
   "metadata": {},
   "source": [
    "**Results:** Each row represents an actual class, while each column represents a predicted class. The classification results are thus:\n",
    "* Class cp: 30 correctly predicted, none wrongly predicted\n",
    "* Class im: 14 correctly predicted, 1 wrongly predicted as 'cp'\n",
    "* Class imU: 4 correctly predicted, 1 wrongly predicted as 'im'\n",
    "* Class om: 3 correctly predicted, none wrongly predicted\n",
    "* Class pp: 10 correctly predicted, 2 wrongly predicted as 'cp'"
   ]
  },
  {
   "cell_type": "code",
   "execution_count": null,
   "metadata": {},
   "outputs": [],
   "source": [
    "report_scores(test_y,test_y_sgd_pred_tuned)"
   ]
  },
  {
   "cell_type": "markdown",
   "metadata": {},
   "source": [
    "As the gridsearch results indicate new hyperparameter values as the best in the tested range of values, the accuracy score and confusion matrix **has improved** on the un-tuned version's\n"
   ]
  },
  {
   "cell_type": "markdown",
   "metadata": {},
   "source": [
    "## 6. Voting Classifier"
   ]
  },
  {
   "cell_type": "code",
   "execution_count": null,
   "metadata": {},
   "outputs": [],
   "source": [
    "#REMOVE\n",
    "#create and fit training data with voting classifier\n",
    "voting_clf = VotingClassifier(\n",
    "    estimators=[('svc', svm_clf), ('lr', log_clf), ('sgd', sgd_clf)],\n",
    "    voting='hard')\n",
    "voting_clf.fit(train_x_tr, train_y)\n",
    "\n",
    "#generate test data label prediction\n",
    "test_y_voting_pred = voting_clf.predict(test_x_tr)"
   ]
  },
  {
   "cell_type": "code",
   "execution_count": null,
   "metadata": {},
   "outputs": [],
   "source": [
    "#REMOVE\n",
    "#Check each classfier's accuracy scores used in voting_clf\n",
    "for clf in (svm_clf, log_clf, sgd_clf, voting_clf):\n",
    "    clf.fit(train_x_tr, train_y)\n",
    "    checking_y_pred = clf.predict(test_x_tr)\n",
    "    print(clf.__class__.__name__, sk.metrics.accuracy_score(test_y, checking_y_pred))"
   ]
  },
  {
   "cell_type": "code",
   "execution_count": null,
   "metadata": {},
   "outputs": [],
   "source": [
    "#create and fit training data with voting classifier\n",
    "voting_clf = VotingClassifier(\n",
    "    estimators=[('svc', grid_search_svm), ('lr', grid_search_log), ('sgd', grid_search_sgd)],\n",
    "    voting='hard')\n",
    "voting_clf.fit(train_x_tr, train_y)\n",
    "\n",
    "#generate test data label prediction\n",
    "test_y_voting_pred = voting_clf.predict(test_x_tr)\n"
   ]
  },
  {
   "cell_type": "code",
   "execution_count": null,
   "metadata": {},
   "outputs": [],
   "source": [
    "#Check each classfier's accuracy scores used in voting_clf\n",
    "for clf in (svm_clf, log_clf, sgd_clf, voting_clf):\n",
    "    clf.fit(train_x_tr, train_y)\n",
    "    checking_y_pred = clf.predict(test_x_tr)\n",
    "    print(clf.__class__.__name__, sk.metrics.accuracy_score(test_y, checking_y_pred))"
   ]
  },
  {
   "cell_type": "code",
   "execution_count": null,
   "metadata": {},
   "outputs": [],
   "source": [
    "#generate confusion matrix\n",
    "conf_matrix(test_y, test_y_voting_pred, \"voting classifier\")"
   ]
  },
  {
   "cell_type": "markdown",
   "metadata": {},
   "source": [
    "**Results:** Each row represents an actual class, while each column represents a predicted class. The classification results are thus:\n",
    "* Class cp: 30 correctly predicted, none wrongly predicted\n",
    "* Class im: 14 correctly predicted, 1 wrongly predicted as 'cp'\n",
    "* Class imU: 4 correctly predicted, 1 wrongly predicted as 'im'\n",
    "* Class om: 3 correctly predicted, none wrongly predicted\n",
    "* Class pp: 10 correctly predicted, 1 wrongly predicted as 'cp'"
   ]
  },
  {
   "cell_type": "code",
   "execution_count": null,
   "metadata": {},
   "outputs": [],
   "source": [
    "report_scores(test_y, test_y_voting_pred)"
   ]
  },
  {
   "cell_type": "markdown",
   "metadata": {},
   "source": [
    "## 7. Conclusion"
   ]
  },
  {
   "cell_type": "markdown",
   "metadata": {},
   "source": [
    "<p>The accuracy score of the untuned and tuned Support Vector Classifier were identical, at 91.9%. This was due to the hyperparameters from the grid search matching the default hyperparameters.</p>\n",
    "\n",
    "<p>The accuracy score of the untuned Stochastic Gradient Descent Classifier was 93.4%, while the tuned version had a score of 90.9%. As the grid search's resulting hyperparameters were not identical to the default settings, this change is expected. The accuracy score, and thus performance, was found to be lower. However, this is due to the system ending up fine-tuned to perform well on the validation data and it is unlikely to perform as well on unknown datasets. Trying to manually tweak the parameters to make the performance look good on the test dataset would result in the changes being unlikely to generalise well with any new data.\n",
    "</p>\n",
    "\n",
    "<p>Overall, the performance of the Support Vector Classifier is comparable to the Stochastic Gradient Descent Classifier.</p>"
   ]
  }
 ],
 "metadata": {
  "kernelspec": {
   "display_name": "Python 3",
   "language": "python",
   "name": "python3"
  },
  "language_info": {
   "codemirror_mode": {
    "name": "ipython",
    "version": 3
   },
   "file_extension": ".py",
   "mimetype": "text/x-python",
   "name": "python",
   "nbconvert_exporter": "python",
   "pygments_lexer": "ipython3",
   "version": "3.7.6"
  }
 },
 "nbformat": 4,
 "nbformat_minor": 4
}
