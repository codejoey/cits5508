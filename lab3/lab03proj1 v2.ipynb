{
 "cells": [
  {
   "cell_type": "markdown",
   "metadata": {},
   "source": [
    "# CITS5508 Lab 3: Classification on Forest Type\n",
    "\n",
    "Name: Joey Koh<br>\n",
    "Student number: 21506379  \n",
    "Date created: 13 April 2020  \n",
    "Last modified: 20 April 2020  \n",
    "\n",
    "This notebook goes through the steps of a typical ensemble classifier (voting classifier) project. It is addressing a multi-class classification task on predicting protein localisation sites using various attributes for E.coli.<br>\n",
    "\n",
    "A Support Vector Machine Classifier, Logistic Regression, and Gradient Descent Classifier are used in ensemble and judged in performance.\n",
    "\n",
    "- [ ] fix notes\n",
    "- [ ] search and fix EDIT\n",
    "\n",
    "ask:\n",
    "- how to use drop/loc\n",
    "- feature scaling using training_x data right?\n",
    "- accuracy and f1 score difference?"
   ]
  },
  {
   "cell_type": "markdown",
   "metadata": {},
   "source": [
    "## 1. Setup, Data Loading and Visualisation\n",
    "Import libraries to be used and bring the data in.<br>\n",
    "Perform basic visualisations to have a feel of data. <br>"
   ]
  },
  {
   "cell_type": "code",
   "execution_count": 1,
   "metadata": {},
   "outputs": [
    {
     "data": {
      "text/html": [
       "<div>\n",
       "<style scoped>\n",
       "    .dataframe tbody tr th:only-of-type {\n",
       "        vertical-align: middle;\n",
       "    }\n",
       "\n",
       "    .dataframe tbody tr th {\n",
       "        vertical-align: top;\n",
       "    }\n",
       "\n",
       "    .dataframe thead th {\n",
       "        text-align: right;\n",
       "    }\n",
       "</style>\n",
       "<table border=\"1\" class=\"dataframe\">\n",
       "  <thead>\n",
       "    <tr style=\"text-align: right;\">\n",
       "      <th></th>\n",
       "      <th>sequence name</th>\n",
       "      <th>mcg</th>\n",
       "      <th>gvh</th>\n",
       "      <th>lip</th>\n",
       "      <th>chg</th>\n",
       "      <th>aac</th>\n",
       "      <th>alm1</th>\n",
       "      <th>alm2</th>\n",
       "      <th>class</th>\n",
       "    </tr>\n",
       "  </thead>\n",
       "  <tbody>\n",
       "    <tr>\n",
       "      <th>0</th>\n",
       "      <td>AAT_ECOLI</td>\n",
       "      <td>0.49</td>\n",
       "      <td>0.29</td>\n",
       "      <td>0.48</td>\n",
       "      <td>0.5</td>\n",
       "      <td>0.56</td>\n",
       "      <td>0.24</td>\n",
       "      <td>0.35</td>\n",
       "      <td>cp</td>\n",
       "    </tr>\n",
       "    <tr>\n",
       "      <th>1</th>\n",
       "      <td>ACEA_ECOLI</td>\n",
       "      <td>0.07</td>\n",
       "      <td>0.40</td>\n",
       "      <td>0.48</td>\n",
       "      <td>0.5</td>\n",
       "      <td>0.54</td>\n",
       "      <td>0.35</td>\n",
       "      <td>0.44</td>\n",
       "      <td>cp</td>\n",
       "    </tr>\n",
       "    <tr>\n",
       "      <th>2</th>\n",
       "      <td>ACEK_ECOLI</td>\n",
       "      <td>0.56</td>\n",
       "      <td>0.40</td>\n",
       "      <td>0.48</td>\n",
       "      <td>0.5</td>\n",
       "      <td>0.49</td>\n",
       "      <td>0.37</td>\n",
       "      <td>0.46</td>\n",
       "      <td>cp</td>\n",
       "    </tr>\n",
       "    <tr>\n",
       "      <th>3</th>\n",
       "      <td>ACKA_ECOLI</td>\n",
       "      <td>0.59</td>\n",
       "      <td>0.49</td>\n",
       "      <td>0.48</td>\n",
       "      <td>0.5</td>\n",
       "      <td>0.52</td>\n",
       "      <td>0.45</td>\n",
       "      <td>0.36</td>\n",
       "      <td>cp</td>\n",
       "    </tr>\n",
       "    <tr>\n",
       "      <th>4</th>\n",
       "      <td>ADI_ECOLI</td>\n",
       "      <td>0.23</td>\n",
       "      <td>0.32</td>\n",
       "      <td>0.48</td>\n",
       "      <td>0.5</td>\n",
       "      <td>0.55</td>\n",
       "      <td>0.25</td>\n",
       "      <td>0.35</td>\n",
       "      <td>cp</td>\n",
       "    </tr>\n",
       "  </tbody>\n",
       "</table>\n",
       "</div>"
      ],
      "text/plain": [
       "  sequence name   mcg   gvh   lip  chg   aac  alm1  alm2 class\n",
       "0     AAT_ECOLI  0.49  0.29  0.48  0.5  0.56  0.24  0.35    cp\n",
       "1    ACEA_ECOLI  0.07  0.40  0.48  0.5  0.54  0.35  0.44    cp\n",
       "2    ACEK_ECOLI  0.56  0.40  0.48  0.5  0.49  0.37  0.46    cp\n",
       "3    ACKA_ECOLI  0.59  0.49  0.48  0.5  0.52  0.45  0.36    cp\n",
       "4     ADI_ECOLI  0.23  0.32  0.48  0.5  0.55  0.25  0.35    cp"
      ]
     },
     "execution_count": 1,
     "metadata": {},
     "output_type": "execute_result"
    }
   ],
   "source": [
    "import pandas as pd\n",
    "import numpy as np\n",
    "import sklearn as sk\n",
    "#Use jupyter's backend to render plots\n",
    "%matplotlib inline\n",
    "import matplotlib.pyplot as plt\n",
    "import matplotlib.lines as mlines\n",
    "\n",
    "from pandas.plotting import scatter_matrix\n",
    "from sklearn.pipeline import Pipeline\n",
    "from sklearn.preprocessing import StandardScaler\n",
    "from sklearn.svm import SVC\n",
    "from sklearn.linear_model import LogisticRegression\n",
    "from sklearn.linear_model import SGDClassifier\n",
    "from sklearn.ensemble import VotingClassifier\n",
    "\n",
    "from sklearn.model_selection import GridSearchCV\n",
    "from sklearn.metrics import confusion_matrix\n",
    "from sklearn import metrics\n",
    "\n",
    "#Prepare the data, separate cols by whitespace, give col names\n",
    "raw_data = pd.read_csv(\"ecoli.data\", delim_whitespace = True, header=None, names=['sequence name','mcg','gvh','lip','chg','aac','alm1','alm2','class'])\n",
    "\n",
    "#View first few lines and inspect columns\n",
    "raw_data.head()"
   ]
  },
  {
   "cell_type": "markdown",
   "metadata": {},
   "source": [
    "These are the first **few lines of data.** Note the **new** column headings.<br>\n",
    "Looks good, columns are named. We know the first 8 columns are features with the 9th being the class label."
   ]
  },
  {
   "cell_type": "code",
   "execution_count": 2,
   "metadata": {},
   "outputs": [
    {
     "data": {
      "text/plain": [
       "cp     143\n",
       "im      77\n",
       "pp      52\n",
       "imU     35\n",
       "om      20\n",
       "omL      5\n",
       "imS      2\n",
       "imL      2\n",
       "Name: class, dtype: int64"
      ]
     },
     "execution_count": 2,
     "metadata": {},
     "output_type": "execute_result"
    }
   ],
   "source": [
    "#Look at class distribution\n",
    "raw_data[\"class\"].value_counts()   #Count instances for class labels"
   ]
  },
  {
   "cell_type": "code",
   "execution_count": 3,
   "metadata": {},
   "outputs": [],
   "source": [
    "#with pd.option_context('display.max_rows', None, 'display.max_columns', None):  # more options can be specified also\n",
    "#    print(raw_data)"
   ]
  },
  {
   "cell_type": "code",
   "execution_count": 4,
   "metadata": {},
   "outputs": [
    {
     "name": "stdout",
     "output_type": "stream",
     "text": [
      "are there any NaN values created?\n",
      "False\n"
     ]
    },
    {
     "data": {
      "text/html": [
       "<div>\n",
       "<style scoped>\n",
       "    .dataframe tbody tr th:only-of-type {\n",
       "        vertical-align: middle;\n",
       "    }\n",
       "\n",
       "    .dataframe tbody tr th {\n",
       "        vertical-align: top;\n",
       "    }\n",
       "\n",
       "    .dataframe thead th {\n",
       "        text-align: right;\n",
       "    }\n",
       "</style>\n",
       "<table border=\"1\" class=\"dataframe\">\n",
       "  <thead>\n",
       "    <tr style=\"text-align: right;\">\n",
       "      <th></th>\n",
       "      <th>mcg</th>\n",
       "      <th>gvh</th>\n",
       "      <th>lip</th>\n",
       "      <th>chg</th>\n",
       "      <th>aac</th>\n",
       "      <th>alm1</th>\n",
       "      <th>alm2</th>\n",
       "    </tr>\n",
       "  </thead>\n",
       "  <tbody>\n",
       "    <tr>\n",
       "      <th>count</th>\n",
       "      <td>327.000000</td>\n",
       "      <td>327.000000</td>\n",
       "      <td>327.000000</td>\n",
       "      <td>327.0</td>\n",
       "      <td>327.000000</td>\n",
       "      <td>327.000000</td>\n",
       "      <td>327.000000</td>\n",
       "    </tr>\n",
       "    <tr>\n",
       "      <th>mean</th>\n",
       "      <td>0.494190</td>\n",
       "      <td>0.499939</td>\n",
       "      <td>0.484771</td>\n",
       "      <td>0.5</td>\n",
       "      <td>0.499450</td>\n",
       "      <td>0.497462</td>\n",
       "      <td>0.503119</td>\n",
       "    </tr>\n",
       "    <tr>\n",
       "      <th>std</th>\n",
       "      <td>0.193719</td>\n",
       "      <td>0.149935</td>\n",
       "      <td>0.049654</td>\n",
       "      <td>0.0</td>\n",
       "      <td>0.123165</td>\n",
       "      <td>0.217333</td>\n",
       "      <td>0.206947</td>\n",
       "    </tr>\n",
       "    <tr>\n",
       "      <th>min</th>\n",
       "      <td>0.000000</td>\n",
       "      <td>0.160000</td>\n",
       "      <td>0.480000</td>\n",
       "      <td>0.5</td>\n",
       "      <td>0.000000</td>\n",
       "      <td>0.030000</td>\n",
       "      <td>0.000000</td>\n",
       "    </tr>\n",
       "    <tr>\n",
       "      <th>25%</th>\n",
       "      <td>0.340000</td>\n",
       "      <td>0.400000</td>\n",
       "      <td>0.480000</td>\n",
       "      <td>0.5</td>\n",
       "      <td>0.420000</td>\n",
       "      <td>0.330000</td>\n",
       "      <td>0.350000</td>\n",
       "    </tr>\n",
       "    <tr>\n",
       "      <th>50%</th>\n",
       "      <td>0.490000</td>\n",
       "      <td>0.470000</td>\n",
       "      <td>0.480000</td>\n",
       "      <td>0.5</td>\n",
       "      <td>0.490000</td>\n",
       "      <td>0.450000</td>\n",
       "      <td>0.430000</td>\n",
       "    </tr>\n",
       "    <tr>\n",
       "      <th>75%</th>\n",
       "      <td>0.655000</td>\n",
       "      <td>0.570000</td>\n",
       "      <td>0.480000</td>\n",
       "      <td>0.5</td>\n",
       "      <td>0.570000</td>\n",
       "      <td>0.710000</td>\n",
       "      <td>0.710000</td>\n",
       "    </tr>\n",
       "    <tr>\n",
       "      <th>max</th>\n",
       "      <td>0.890000</td>\n",
       "      <td>1.000000</td>\n",
       "      <td>1.000000</td>\n",
       "      <td>0.5</td>\n",
       "      <td>0.880000</td>\n",
       "      <td>1.000000</td>\n",
       "      <td>0.990000</td>\n",
       "    </tr>\n",
       "  </tbody>\n",
       "</table>\n",
       "</div>"
      ],
      "text/plain": [
       "              mcg         gvh         lip    chg         aac        alm1  \\\n",
       "count  327.000000  327.000000  327.000000  327.0  327.000000  327.000000   \n",
       "mean     0.494190    0.499939    0.484771    0.5    0.499450    0.497462   \n",
       "std      0.193719    0.149935    0.049654    0.0    0.123165    0.217333   \n",
       "min      0.000000    0.160000    0.480000    0.5    0.000000    0.030000   \n",
       "25%      0.340000    0.400000    0.480000    0.5    0.420000    0.330000   \n",
       "50%      0.490000    0.470000    0.480000    0.5    0.490000    0.450000   \n",
       "75%      0.655000    0.570000    0.480000    0.5    0.570000    0.710000   \n",
       "max      0.890000    1.000000    1.000000    0.5    0.880000    1.000000   \n",
       "\n",
       "             alm2  \n",
       "count  327.000000  \n",
       "mean     0.503119  \n",
       "std      0.206947  \n",
       "min      0.000000  \n",
       "25%      0.350000  \n",
       "50%      0.430000  \n",
       "75%      0.710000  \n",
       "max      0.990000  "
      ]
     },
     "execution_count": 4,
     "metadata": {},
     "output_type": "execute_result"
    }
   ],
   "source": [
    "#Let's remove class labels with less than 10 instances as it is impossible to classify them\n",
    "#i.e. remove all rows with class= [\"imS\",\"imL\",\"omL\"]\n",
    "def clean_data(df): #remove low class instances\n",
    "    c_df = df[ (df[\"class\"]!=\"imS\") & (df[\"class\"]!=\"imL\") & (df[\"class\"]!=\"omL\") ] #remove rows with class= [\"imS\",\"imL\",\"omL\"]\n",
    "    c_df = c_df.reset_index(drop=True) #renumber index\n",
    "    print(\"are there any NaN values created?\")\n",
    "    print(c_df.isnull().values.any()) #ensure no undefined values due to removal\n",
    "    return c_df\n",
    "\n",
    "data = clean_data(raw_data)\n",
    "data.describe() #get an idea of data distribution\n"
   ]
  },
  {
   "cell_type": "markdown",
   "metadata": {},
   "source": [
    "Good to see they all have equal numbers of instances"
   ]
  },
  {
   "cell_type": "code",
   "execution_count": 5,
   "metadata": {},
   "outputs": [],
   "source": [
    "#with pd.option_context('display.max_rows', None, 'display.max_columns', None):  # more options can be specified also\n",
    "#   print(data)"
   ]
  },
  {
   "cell_type": "code",
   "execution_count": 6,
   "metadata": {},
   "outputs": [
    {
     "data": {
      "text/html": [
       "<div>\n",
       "<style scoped>\n",
       "    .dataframe tbody tr th:only-of-type {\n",
       "        vertical-align: middle;\n",
       "    }\n",
       "\n",
       "    .dataframe tbody tr th {\n",
       "        vertical-align: top;\n",
       "    }\n",
       "\n",
       "    .dataframe thead th {\n",
       "        text-align: right;\n",
       "    }\n",
       "</style>\n",
       "<table border=\"1\" class=\"dataframe\">\n",
       "  <thead>\n",
       "    <tr style=\"text-align: right;\">\n",
       "      <th></th>\n",
       "      <th>sequence name</th>\n",
       "      <th>mcg</th>\n",
       "      <th>gvh</th>\n",
       "      <th>lip</th>\n",
       "      <th>chg</th>\n",
       "      <th>aac</th>\n",
       "      <th>alm1</th>\n",
       "      <th>alm2</th>\n",
       "      <th>class</th>\n",
       "    </tr>\n",
       "  </thead>\n",
       "  <tbody>\n",
       "    <tr>\n",
       "      <th>0</th>\n",
       "      <td>AAT_ECOLI</td>\n",
       "      <td>0.49</td>\n",
       "      <td>0.29</td>\n",
       "      <td>0.48</td>\n",
       "      <td>0.5</td>\n",
       "      <td>0.56</td>\n",
       "      <td>0.24</td>\n",
       "      <td>0.35</td>\n",
       "      <td>cp</td>\n",
       "    </tr>\n",
       "    <tr>\n",
       "      <th>1</th>\n",
       "      <td>ACEA_ECOLI</td>\n",
       "      <td>0.07</td>\n",
       "      <td>0.40</td>\n",
       "      <td>0.48</td>\n",
       "      <td>0.5</td>\n",
       "      <td>0.54</td>\n",
       "      <td>0.35</td>\n",
       "      <td>0.44</td>\n",
       "      <td>cp</td>\n",
       "    </tr>\n",
       "    <tr>\n",
       "      <th>2</th>\n",
       "      <td>ACEK_ECOLI</td>\n",
       "      <td>0.56</td>\n",
       "      <td>0.40</td>\n",
       "      <td>0.48</td>\n",
       "      <td>0.5</td>\n",
       "      <td>0.49</td>\n",
       "      <td>0.37</td>\n",
       "      <td>0.46</td>\n",
       "      <td>cp</td>\n",
       "    </tr>\n",
       "    <tr>\n",
       "      <th>3</th>\n",
       "      <td>ACKA_ECOLI</td>\n",
       "      <td>0.59</td>\n",
       "      <td>0.49</td>\n",
       "      <td>0.48</td>\n",
       "      <td>0.5</td>\n",
       "      <td>0.52</td>\n",
       "      <td>0.45</td>\n",
       "      <td>0.36</td>\n",
       "      <td>cp</td>\n",
       "    </tr>\n",
       "    <tr>\n",
       "      <th>4</th>\n",
       "      <td>ADI_ECOLI</td>\n",
       "      <td>0.23</td>\n",
       "      <td>0.32</td>\n",
       "      <td>0.48</td>\n",
       "      <td>0.5</td>\n",
       "      <td>0.55</td>\n",
       "      <td>0.25</td>\n",
       "      <td>0.35</td>\n",
       "      <td>cp</td>\n",
       "    </tr>\n",
       "  </tbody>\n",
       "</table>\n",
       "</div>"
      ],
      "text/plain": [
       "  sequence name   mcg   gvh   lip  chg   aac  alm1  alm2 class\n",
       "0     AAT_ECOLI  0.49  0.29  0.48  0.5  0.56  0.24  0.35    cp\n",
       "1    ACEA_ECOLI  0.07  0.40  0.48  0.5  0.54  0.35  0.44    cp\n",
       "2    ACEK_ECOLI  0.56  0.40  0.48  0.5  0.49  0.37  0.46    cp\n",
       "3    ACKA_ECOLI  0.59  0.49  0.48  0.5  0.52  0.45  0.36    cp\n",
       "4     ADI_ECOLI  0.23  0.32  0.48  0.5  0.55  0.25  0.35    cp"
      ]
     },
     "execution_count": 6,
     "metadata": {},
     "output_type": "execute_result"
    }
   ],
   "source": [
    "data.head()"
   ]
  },
  {
   "cell_type": "markdown",
   "metadata": {},
   "source": [
    "### 1.1 Visualisations"
   ]
  },
  {
   "cell_type": "code",
   "execution_count": 7,
   "metadata": {},
   "outputs": [
    {
     "data": {
      "image/png": "[encoded data removed]",
      "text/plain": [
       "<Figure size 1440x1080 with 9 Axes>"
      ]
     },
     "metadata": {
      "needs_background": "light"
     },
     "output_type": "display_data"
    }
   ],
   "source": [
    "#Generate histograms\n",
    "data.hist(bins=50, figsize=(20,15))\n",
    "plt.show()"
   ]
  },
  {
   "cell_type": "markdown",
   "metadata": {},
   "source": [
    "EDIT From these histograms of the training data, it can be observed that:<br>\n",
    "* Most attributes are normally distributed\n",
    "* The attributes have different scales, hence we would likely need feature scaling\n",
    "* Most b1-b9 attributes are tail-heavy. They extend much further to the right of the median than left.\n",
    "* Most pred_minus_obs_H b1 to b9 attributes are head-heavy. They extend much further to the left of median than right.\n",
    "* Most pred_minus_obs_S b1 to b9 attributes are normally distributed around the middle of its range\n",
    "* Approximating the median for each attribute to be around the middle of the normal distribution hump, the far tails/heads values could potentially be outliers. It might be better to use StandardScaler rather than MinMaxScaler in data normalisation due to outliers."
   ]
  },
  {
   "cell_type": "code",
   "execution_count": 8,
   "metadata": {},
   "outputs": [],
   "source": [
    "#data.apply(pd.value_counts).plot(kind='bar', subplots=True)\n"
   ]
  },
  {
   "cell_type": "code",
   "execution_count": 9,
   "metadata": {},
   "outputs": [
    {
     "name": "stdout",
     "output_type": "stream",
     "text": [
      "These are the number of unique categories in 'sequence name' feature:\n",
      "327\n",
      "These are the number of unique values in 'chg' feature:\n",
      "1\n",
      "These are the number of unique values in 'lip' feature:\n",
      "2\n"
     ]
    }
   ],
   "source": [
    "print(\"These are the number of unique categories in 'sequence name' feature:\")\n",
    "print(data[\"sequence name\"].nunique())\n",
    "print(\"These are the number of unique values in 'chg' feature:\")\n",
    "print(data[\"chg\"].nunique())\n",
    "print(\"These are the number of unique values in 'lip' feature:\")\n",
    "print(data[\"lip\"].nunique())\n",
    "\n"
   ]
  },
  {
   "cell_type": "markdown",
   "metadata": {},
   "source": [
    "- \"sequence name\" matches the data's total number of instances\n",
    "- \"chg\" values are identical\n",
    "- \"lip\" looks like it has an outlier <br>\n",
    "Hence we could consider dropping this and  EDIT"
   ]
  },
  {
   "cell_type": "code",
   "execution_count": 10,
   "metadata": {},
   "outputs": [
    {
     "data": {
      "text/plain": [
       "Index(['sequence name', 'mcg', 'gvh', 'lip', 'chg', 'aac', 'alm1', 'alm2',\n",
       "       'class'],\n",
       "      dtype='object')"
      ]
     },
     "execution_count": 10,
     "metadata": {},
     "output_type": "execute_result"
    }
   ],
   "source": [
    "data.columns"
   ]
  },
  {
   "cell_type": "code",
   "execution_count": 11,
   "metadata": {},
   "outputs": [
    {
     "data": {
      "text/html": [
       "<div>\n",
       "<style scoped>\n",
       "    .dataframe tbody tr th:only-of-type {\n",
       "        vertical-align: middle;\n",
       "    }\n",
       "\n",
       "    .dataframe tbody tr th {\n",
       "        vertical-align: top;\n",
       "    }\n",
       "\n",
       "    .dataframe thead th {\n",
       "        text-align: right;\n",
       "    }\n",
       "</style>\n",
       "<table border=\"1\" class=\"dataframe\">\n",
       "  <thead>\n",
       "    <tr style=\"text-align: right;\">\n",
       "      <th></th>\n",
       "      <th>mcg</th>\n",
       "      <th>gvh</th>\n",
       "      <th>lip</th>\n",
       "      <th>chg</th>\n",
       "      <th>aac</th>\n",
       "      <th>alm1</th>\n",
       "      <th>alm2</th>\n",
       "      <th>class</th>\n",
       "    </tr>\n",
       "  </thead>\n",
       "  <tbody>\n",
       "    <tr>\n",
       "      <th>0</th>\n",
       "      <td>0.49</td>\n",
       "      <td>0.29</td>\n",
       "      <td>0.48</td>\n",
       "      <td>0.5</td>\n",
       "      <td>0.56</td>\n",
       "      <td>0.24</td>\n",
       "      <td>0.35</td>\n",
       "      <td>cp</td>\n",
       "    </tr>\n",
       "    <tr>\n",
       "      <th>1</th>\n",
       "      <td>0.07</td>\n",
       "      <td>0.40</td>\n",
       "      <td>0.48</td>\n",
       "      <td>0.5</td>\n",
       "      <td>0.54</td>\n",
       "      <td>0.35</td>\n",
       "      <td>0.44</td>\n",
       "      <td>cp</td>\n",
       "    </tr>\n",
       "    <tr>\n",
       "      <th>2</th>\n",
       "      <td>0.56</td>\n",
       "      <td>0.40</td>\n",
       "      <td>0.48</td>\n",
       "      <td>0.5</td>\n",
       "      <td>0.49</td>\n",
       "      <td>0.37</td>\n",
       "      <td>0.46</td>\n",
       "      <td>cp</td>\n",
       "    </tr>\n",
       "    <tr>\n",
       "      <th>3</th>\n",
       "      <td>0.59</td>\n",
       "      <td>0.49</td>\n",
       "      <td>0.48</td>\n",
       "      <td>0.5</td>\n",
       "      <td>0.52</td>\n",
       "      <td>0.45</td>\n",
       "      <td>0.36</td>\n",
       "      <td>cp</td>\n",
       "    </tr>\n",
       "    <tr>\n",
       "      <th>4</th>\n",
       "      <td>0.23</td>\n",
       "      <td>0.32</td>\n",
       "      <td>0.48</td>\n",
       "      <td>0.5</td>\n",
       "      <td>0.55</td>\n",
       "      <td>0.25</td>\n",
       "      <td>0.35</td>\n",
       "      <td>cp</td>\n",
       "    </tr>\n",
       "  </tbody>\n",
       "</table>\n",
       "</div>"
      ],
      "text/plain": [
       "    mcg   gvh   lip  chg   aac  alm1  alm2 class\n",
       "0  0.49  0.29  0.48  0.5  0.56  0.24  0.35    cp\n",
       "1  0.07  0.40  0.48  0.5  0.54  0.35  0.44    cp\n",
       "2  0.56  0.40  0.48  0.5  0.49  0.37  0.46    cp\n",
       "3  0.59  0.49  0.48  0.5  0.52  0.45  0.36    cp\n",
       "4  0.23  0.32  0.48  0.5  0.55  0.25  0.35    cp"
      ]
     },
     "execution_count": 11,
     "metadata": {},
     "output_type": "execute_result"
    }
   ],
   "source": [
    "#try dropping seq name col\n",
    "data= data.drop(\"sequence name\", axis=1)\n",
    "data.head()"
   ]
  },
  {
   "cell_type": "markdown",
   "metadata": {},
   "source": [
    "## 2. Pipeline: Data Cleaning, Checking and Normalisation\n",
    "Remove unneeded columns, extract labels, check for training set balance, perform feature scaling, and create pipeline."
   ]
  },
  {
   "cell_type": "code",
   "execution_count": 12,
   "metadata": {},
   "outputs": [
    {
     "name": "stdout",
     "output_type": "stream",
     "text": [
      "are there any NaN values created for test data and train data?\n",
      "False  and  False\n"
     ]
    }
   ],
   "source": [
    "#EDIT? stratified shuffling?\n",
    "from sklearn.model_selection import train_test_split\n",
    "#Split dataset at 8:2 ratio\n",
    "train_data, test_data = train_test_split(data, test_size=0.2, random_state= 42)\n",
    "#Ensure no NaN values\n",
    "print(\"are there any NaN values created for test data and train data?\")\n",
    "print(test_data.isnull().values.any(),\" and \",train_data.isnull().values.any() )\n",
    "\n",
    "\n"
   ]
  },
  {
   "cell_type": "markdown",
   "metadata": {},
   "source": [
    "As checked, there are no undefined values after data splitting."
   ]
  },
  {
   "cell_type": "code",
   "execution_count": 13,
   "metadata": {},
   "outputs": [
    {
     "name": "stdout",
     "output_type": "stream",
     "text": [
      "For the training dataset:\n",
      "\n",
      "For this dataset, these are the number of instances for each class label\n",
      "cp     113\n",
      "im      62\n",
      "pp      40\n",
      "imU     29\n",
      "om      17\n",
      "Name: class, dtype: int64 \n",
      "\n",
      "              mcg         gvh         lip    chg         aac        alm1  \\\n",
      "count  261.000000  261.000000  261.000000  261.0  261.000000  261.000000   \n",
      "mean     0.495172    0.501533    0.485977    0.5    0.499425    0.498927   \n",
      "std      0.197659    0.153945    0.055535    0.0    0.125122    0.220429   \n",
      "min      0.000000    0.160000    0.480000    0.5    0.000000    0.030000   \n",
      "25%      0.340000    0.400000    0.480000    0.5    0.420000    0.320000   \n",
      "50%      0.500000    0.470000    0.480000    0.5    0.490000    0.450000   \n",
      "75%      0.650000    0.570000    0.480000    0.5    0.570000    0.710000   \n",
      "max      0.890000    1.000000    1.000000    0.5    0.880000    1.000000   \n",
      "\n",
      "             alm2  \n",
      "count  261.000000  \n",
      "mean     0.501992  \n",
      "std      0.209917  \n",
      "min      0.000000  \n",
      "25%      0.350000  \n",
      "50%      0.430000  \n",
      "75%      0.710000  \n",
      "max      0.990000   \n",
      "\n",
      "For the testing dataset:\n",
      "\n",
      "For this dataset, these are the number of instances for each class label\n",
      "cp     30\n",
      "im     15\n",
      "pp     12\n",
      "imU     6\n",
      "om      3\n",
      "Name: class, dtype: int64 \n",
      "\n",
      "             mcg        gvh    lip   chg        aac       alm1       alm2\n",
      "count  66.000000  66.000000  66.00  66.0  66.000000  66.000000  66.000000\n",
      "mean    0.490303   0.493636   0.48   0.5   0.499545   0.491667   0.507576\n",
      "std     0.178653   0.133792   0.00   0.0   0.116016   0.206148   0.196234\n",
      "min     0.170000   0.280000   0.48   0.5   0.280000   0.060000   0.200000\n",
      "25%     0.340000   0.400000   0.48   0.5   0.420000   0.342500   0.350000\n",
      "50%     0.460000   0.470000   0.48   0.5   0.485000   0.450000   0.440000\n",
      "75%     0.655000   0.560000   0.48   0.5   0.560000   0.677500   0.687500\n",
      "max     0.880000   0.860000   0.48   0.5   0.860000   0.900000   0.900000 \n",
      "\n"
     ]
    }
   ],
   "source": [
    "def separate_pipeline(df): #separate data into labels and predictors\n",
    "    df_y = df[\"class\"]  #Extract class labels\n",
    "    print(\"For this dataset, these are the number of instances for each class label\")\n",
    "    print(df_y.value_counts(),\"\\n\")   #Count instances for class labels in training set\n",
    "    df_x = df.drop(\"class\", axis=1) #separate predictors from labels\n",
    "    print(df_x.describe(),'\\n')  #get an idea of the data distribution\n",
    "    return df_y, df_x\n",
    "\n",
    "def scaler_pipeline(df,df_train_x): #for data normalisation\n",
    "    std_scaler = StandardScaler()\n",
    "    std_scaler.fit(df_train_x)\n",
    "    return std_scaler.transform(df)\n",
    "    \n",
    "def main_pipeline(train_dataset, test_dataset):\n",
    "    print(\"For the training dataset:\\n\")\n",
    "    train_y, train_x = separate_pipeline(train_dataset)\n",
    "    print(\"For the testing dataset:\\n\")\n",
    "    test_y, test_x = separate_pipeline(test_dataset)\n",
    "    train_x_tr = scaler_pipeline(train_x, train_x)\n",
    "    test_x_tr = scaler_pipeline(test_x, train_x)\n",
    "    return train_y, train_x, test_y, test_x, train_x_tr, test_x_tr\n",
    "\n",
    "train_y, train_x, test_y, test_x, train_x_tr, test_x_tr = main_pipeline(train_data, test_data)\n"
   ]
  },
  {
   "cell_type": "markdown",
   "metadata": {},
   "source": [
    "<p>From looking at the count of class instances of training data, <b>we clearly have an imbalanced training dataset.</b> With 's' and 'd' classes having the most instances of 136 and 105 respectively, relative to 'o' and 'h' classes of 46 and 38 respectively.</p>\n",
    "\n",
    "<p>(Class: 's' ('Sugi' forest), 'h' ('Hinoki' forest), 'd' ('Mixed deciduous' forest), 'o' ('Other' non-forest land) </p>\n",
    "<p>Looking at the distribution of the values at min, 25%, 50%, 75% and max – in combination to the observations from the histograms in Section 1.1, there are likely <b>outliers in training predictors</b> which a <b>StandardScaler</b> would deal better with compared to a MinMaxScaler. For this reason, standardization was used in the pipeline to normalise the data. In this, firstly the column's mean value is subtracted from every value in the column, then divided by the standard deviation. The resulting distribution has unit variance. Thus, the outliers has less of an impact compared to MinMax scaling.</p>"
   ]
  },
  {
   "cell_type": "markdown",
   "metadata": {},
   "source": [
    "## 3. Support Vector Classifier\n",
    "one vs one binary classication"
   ]
  },
  {
   "cell_type": "code",
   "execution_count": 14,
   "metadata": {},
   "outputs": [
    {
     "name": "stderr",
     "output_type": "stream",
     "text": [
      "/Users/Joey/anaconda3/envs/tf2/lib/python3.7/site-packages/sklearn/svm/base.py:193: FutureWarning: The default value of gamma will change from 'auto' to 'scale' in version 0.22 to account better for unscaled features. Set gamma explicitly to 'auto' or 'scale' to avoid this warning.\n",
      "  \"avoid this warning.\", FutureWarning)\n"
     ]
    }
   ],
   "source": [
    "#fit SVC model with training data\n",
    "svm_clf = SVC()\n",
    "svm_clf.fit(train_x_tr,train_y);\n",
    "\n",
    "#generate test data label prediction\n",
    "test_y_svm_pred = svm_clf.predict(test_x_tr)"
   ]
  },
  {
   "cell_type": "markdown",
   "metadata": {},
   "source": [
    "### 3.1 Confusion Matrix "
   ]
  },
  {
   "cell_type": "code",
   "execution_count": 15,
   "metadata": {},
   "outputs": [],
   "source": [
    "def conf_matrix(actual_y, pred_y, model): #confusion matrix function for plotting\n",
    "    #confusion matrix generation\n",
    "    conf_mx = confusion_matrix(actual_y, pred_y)\n",
    "    print(\"This is the confusion matrix for\",model,\"\\n\",conf_mx)\n",
    "\n",
    "    #visualisation setup\n",
    "    alpha = ['cp', 'im', 'imU', 'om','pp']\n",
    "    conf_data = conf_mx\n",
    "\n",
    "    fig = plt.figure()\n",
    "    ax = fig.add_subplot(111)\n",
    "    cax = ax.matshow(conf_data, interpolation='nearest')\n",
    "    fig.colorbar(cax)\n",
    "\n",
    "    ax.set_xticklabels(['']+alpha)\n",
    "    ax.set_yticklabels(['']+alpha)\n",
    "\n",
    "    plt.show\n",
    "    print(\"Plotting with predicted test dataset labels on horizontal axis, actuals labels on vertical axis\")\n",
    "    \n",
    "def report_scores(actual_y, pred_y): #accuracy and F1 score function\n",
    "    print(\"Accuracy score of prediction:\\n\")\n",
    "    print(metrics.accuracy_score(actual_y, pred_y),\"\\n\")\n",
    "    print(\"F1 scores of prediction for each class:\")\n",
    "    #print(\"in order of ['cp', 'im', 'imU', 'om','pp']\\n\")\n",
    "    print(metrics.f1_score(actual_y, pred_y, average= \"micro\"))\n",
    "    "
   ]
  },
  {
   "cell_type": "code",
   "execution_count": 16,
   "metadata": {},
   "outputs": [
    {
     "name": "stdout",
     "output_type": "stream",
     "text": [
      "This is the confusion matrix for SVC \n",
      " [[30  0  0  0  0]\n",
      " [ 1 13  1  0  0]\n",
      " [ 0  3  3  0  0]\n",
      " [ 0  0  0  3  0]\n",
      " [ 1  0  0  0 11]]\n",
      "Plotting with predicted test dataset labels on horizontal axis, actuals labels on vertical axis\n"
     ]
    },
    {
     "data": {
      "image/png": "[encoded data removed]",
      "text/plain": [
       "<Figure size 432x288 with 2 Axes>"
      ]
     },
     "metadata": {
      "needs_background": "light"
     },
     "output_type": "display_data"
    }
   ],
   "source": [
    "#Confusion matrix for SVC\n",
    "conf_matrix(test_y,test_y_svm_pred, \"SVC\")"
   ]
  },
  {
   "cell_type": "markdown",
   "metadata": {},
   "source": [
    "**Results:** Each row represents an actual class, while each column represents a predicted class. The classification results are thus:\n",
    "* Class cp: 53 correctly predicted, 1 wrongly predicted as 'o'\n",
    "* Class im: 39 correctly predicted, 9 wrongly predicted as 's'\n",
    "* Class imU: 34 correctly predicted, 3 wrongly predicted as 'd'\n",
    "* Class om: 56 correctly predicted, 1,2 wrongly predicted as 'd','h' respectively\n",
    "* Class pp: 56 correctly predicted, 1,2 wrongly predicted as 'd','h' respectively"
   ]
  },
  {
   "cell_type": "code",
   "execution_count": 17,
   "metadata": {},
   "outputs": [
    {
     "name": "stdout",
     "output_type": "stream",
     "text": [
      "Accuracy score of prediction:\n",
      "\n",
      "0.9090909090909091 \n",
      "\n",
      "F1 scores of prediction for each class:\n",
      "0.9090909090909091\n"
     ]
    }
   ],
   "source": [
    "report_scores(test_y, test_y_svm_pred)"
   ]
  },
  {
   "cell_type": "markdown",
   "metadata": {},
   "source": [
    "### 3.2 Tune Hyperparameters with Grid Search"
   ]
  },
  {
   "cell_type": "code",
   "execution_count": 18,
   "metadata": {},
   "outputs": [
    {
     "name": "stderr",
     "output_type": "stream",
     "text": [
      "/Users/Joey/anaconda3/envs/tf2/lib/python3.7/site-packages/sklearn/model_selection/_split.py:1978: FutureWarning: The default value of cv will change from 3 to 5 in version 0.22. Specify it explicitly to silence this warning.\n",
      "  warnings.warn(CV_WARNING, FutureWarning)\n",
      "/Users/Joey/anaconda3/envs/tf2/lib/python3.7/site-packages/sklearn/model_selection/_search.py:814: DeprecationWarning: The default of the `iid` parameter will change from True to False in version 0.22 and will be removed in 0.24. This will change numeric results when test-set sizes are unequal.\n",
      "  DeprecationWarning)\n"
     ]
    }
   ],
   "source": [
    "param_grid = {'kernel':('linear', 'rbf', 'poly'), \n",
    "              'C':[0.0001, 0.001, 0.01, 0.1, 1, 10, 100, 1000],\n",
    "              'gamma':['scale','auto']\n",
    "             }\n",
    "\n",
    "svm_clf = SVC()\n",
    "scorer = sk.metrics.make_scorer(sk.metrics.f1_score, average = 'micro')\n",
    "\n",
    "grid_search_svm = GridSearchCV(svm_clf, \n",
    "                               param_grid, \n",
    "                               scoring = scorer,\n",
    "                               return_train_score = True)\n",
    "\n",
    "grid_result_svm = grid_search_svm.fit(train_x_tr, train_y)"
   ]
  },
  {
   "cell_type": "code",
   "execution_count": 19,
   "metadata": {},
   "outputs": [
    {
     "name": "stdout",
     "output_type": "stream",
     "text": [
      "Best Score:  0.8850574712643678\n",
      "Best Params:  {'C': 1, 'gamma': 'scale', 'kernel': 'linear'}\n"
     ]
    }
   ],
   "source": [
    "print('Best Score: ', grid_result_svm.best_score_)\n",
    "print('Best Params: ', grid_result_svm.best_params_)"
   ]
  },
  {
   "cell_type": "markdown",
   "metadata": {},
   "source": [
    "**Results:** looking up the SVC documentation, the best hyperparameters from the gridsearch matches the default settings of the classifier. Hence, it will be left as unchanged."
   ]
  },
  {
   "cell_type": "code",
   "execution_count": 20,
   "metadata": {},
   "outputs": [],
   "source": [
    "test_y_svm_pred_tuned = grid_result_svm.predict(test_x_tr) #Get predictions from grid search result"
   ]
  },
  {
   "cell_type": "markdown",
   "metadata": {},
   "source": [
    "### 3.3 Confusion Matrix after Grid Search"
   ]
  },
  {
   "cell_type": "code",
   "execution_count": 21,
   "metadata": {},
   "outputs": [
    {
     "name": "stdout",
     "output_type": "stream",
     "text": [
      "This is the confusion matrix for SVC tuned \n",
      " [[29  0  0  0  1]\n",
      " [ 1 14  0  0  0]\n",
      " [ 0  2  4  0  0]\n",
      " [ 0  0  0  3  0]\n",
      " [ 1  0  0  0 11]]\n",
      "Plotting with predicted test dataset labels on horizontal axis, actuals labels on vertical axis\n"
     ]
    },
    {
     "data": {
      "image/png": "[encoded data removed]",
      "text/plain": [
       "<Figure size 432x288 with 2 Axes>"
      ]
     },
     "metadata": {
      "needs_background": "light"
     },
     "output_type": "display_data"
    }
   ],
   "source": [
    "#confusion matrix generation\n",
    "conf_matrix(test_y, test_y_svm_pred_tuned, \"SVC tuned\")"
   ]
  },
  {
   "cell_type": "markdown",
   "metadata": {},
   "source": [
    "**Results:** Each row represents an actual class, while each column represents a predicted class. The classification results are thus:\n",
    "* Class d: 53 correctly predicted, 1 wrongly predicted as 'o'\n",
    "* Class h: 39 correctly predicted, 9 wrongly predicted as 's'\n",
    "* Class o: 34 correctly predicted, 3 wrongly predicted as 'd'\n",
    "* Class s: 56 correctly predicted, 1,2 wrongly predicted as 'd','h' respectively"
   ]
  },
  {
   "cell_type": "code",
   "execution_count": 22,
   "metadata": {},
   "outputs": [
    {
     "name": "stdout",
     "output_type": "stream",
     "text": [
      "Accuracy score of prediction:\n",
      "\n",
      "0.9242424242424242 \n",
      "\n",
      "F1 scores of prediction for each class:\n",
      "0.9242424242424242\n"
     ]
    }
   ],
   "source": [
    "report_scores(test_y, test_y_svm_pred_tuned)"
   ]
  },
  {
   "cell_type": "markdown",
   "metadata": {},
   "source": [
    "As the gridsearch results indicate default hyperparameter values are the best in the tested range of values, the accuracy score and confusion matrix **matches** the un-tuned version's."
   ]
  },
  {
   "cell_type": "markdown",
   "metadata": {},
   "source": [
    "## 4. Logistic Regression Classifier"
   ]
  },
  {
   "cell_type": "code",
   "execution_count": 23,
   "metadata": {},
   "outputs": [
    {
     "name": "stderr",
     "output_type": "stream",
     "text": [
      "/Users/Joey/anaconda3/envs/tf2/lib/python3.7/site-packages/sklearn/linear_model/logistic.py:432: FutureWarning: Default solver will be changed to 'lbfgs' in 0.22. Specify a solver to silence this warning.\n",
      "  FutureWarning)\n",
      "/Users/Joey/anaconda3/envs/tf2/lib/python3.7/site-packages/sklearn/linear_model/logistic.py:469: FutureWarning: Default multi_class will be changed to 'auto' in 0.22. Specify the multi_class option to silence this warning.\n",
      "  \"this warning.\", FutureWarning)\n"
     ]
    }
   ],
   "source": [
    "#fit log regression model with training data\n",
    "log_clf = LogisticRegression()\n",
    "log_clf.fit(train_x_tr, train_y)\n",
    "\n",
    "#get test data label predictions\n",
    "test_y_log_pred = log_clf.predict(test_x_tr)"
   ]
  },
  {
   "cell_type": "code",
   "execution_count": 24,
   "metadata": {},
   "outputs": [
    {
     "name": "stdout",
     "output_type": "stream",
     "text": [
      "This is the confusion matrix for log regression \n",
      " [[30  0  0  0  0]\n",
      " [ 1 14  0  0  0]\n",
      " [ 0  1  4  0  1]\n",
      " [ 0  0  0  3  0]\n",
      " [ 1  0  0  0 11]]\n",
      "Plotting with predicted test dataset labels on horizontal axis, actuals labels on vertical axis\n"
     ]
    },
    {
     "data": {
      "image/png": "[encoded data removed]",
      "text/plain": [
       "<Figure size 432x288 with 2 Axes>"
      ]
     },
     "metadata": {
      "needs_background": "light"
     },
     "output_type": "display_data"
    }
   ],
   "source": [
    "conf_matrix(test_y, test_y_log_pred, \"log regression\")"
   ]
  },
  {
   "cell_type": "markdown",
   "metadata": {},
   "source": [
    "Results? EDIT"
   ]
  },
  {
   "cell_type": "code",
   "execution_count": 25,
   "metadata": {},
   "outputs": [
    {
     "name": "stdout",
     "output_type": "stream",
     "text": [
      "Accuracy score of prediction:\n",
      "\n",
      "0.9393939393939394 \n",
      "\n",
      "F1 scores of prediction for each class:\n",
      "0.9393939393939394\n"
     ]
    }
   ],
   "source": [
    "report_scores(test_y, test_y_log_pred)"
   ]
  },
  {
   "cell_type": "code",
   "execution_count": null,
   "metadata": {},
   "outputs": [],
   "source": []
  },
  {
   "cell_type": "code",
   "execution_count": null,
   "metadata": {},
   "outputs": [],
   "source": []
  },
  {
   "cell_type": "markdown",
   "metadata": {},
   "source": [
    "## 5. Stochastic Gradient Descent Classifier"
   ]
  },
  {
   "cell_type": "code",
   "execution_count": 26,
   "metadata": {},
   "outputs": [],
   "source": [
    "#fit SGD model with training data\n",
    "sgd_clf = SGDClassifier()\n",
    "sgd_clf.fit(train_x_tr, train_y);\n",
    "\n",
    "#generate test data label prediction\n",
    "test_y_sgd_pred = sgd_clf.predict(test_x_tr)"
   ]
  },
  {
   "cell_type": "markdown",
   "metadata": {},
   "source": [
    "### 5.1 Confusion Matrix "
   ]
  },
  {
   "cell_type": "code",
   "execution_count": 27,
   "metadata": {},
   "outputs": [
    {
     "name": "stdout",
     "output_type": "stream",
     "text": [
      "This is the confusion matrix for SGD \n",
      " [[29  0  0  0  1]\n",
      " [ 1 14  0  0  0]\n",
      " [ 0  2  4  0  0]\n",
      " [ 0  0  0  3  0]\n",
      " [ 2  0  0  0 10]]\n",
      "Plotting with predicted test dataset labels on horizontal axis, actuals labels on vertical axis\n"
     ]
    },
    {
     "data": {
      "image/png": "[encoded data removed]",
      "text/plain": [
       "<Figure size 432x288 with 2 Axes>"
      ]
     },
     "metadata": {
      "needs_background": "light"
     },
     "output_type": "display_data"
    }
   ],
   "source": [
    "#confusion matrix generation\n",
    "conf_matrix(test_y, test_y_sgd_pred, \"SGD\")"
   ]
  },
  {
   "cell_type": "markdown",
   "metadata": {},
   "source": [
    "**Results:** Each row represents an actual class, while each column represents a predicted class. The classification results are thus:\n",
    "* Class d: 53 correctly predicted, 1 wrongly predicted as 'o' \n",
    "* Class h: 43 correctly predicted, 5 wrongly predicted as 's' \n",
    "* Class o: 36 correctly predicted, 1 wrongly predicted as 'd'\n",
    "* Class s: 53 correctly predicted, 5,1 wrongly predicted as 'h','o' respectively"
   ]
  },
  {
   "cell_type": "code",
   "execution_count": 28,
   "metadata": {},
   "outputs": [
    {
     "name": "stdout",
     "output_type": "stream",
     "text": [
      "Accuracy score of prediction:\n",
      "\n",
      "0.9090909090909091 \n",
      "\n",
      "F1 scores of prediction for each class:\n",
      "0.9090909090909091\n"
     ]
    }
   ],
   "source": [
    "report_scores(test_y, test_y_sgd_pred)"
   ]
  },
  {
   "cell_type": "markdown",
   "metadata": {},
   "source": [
    "### 5.2 Tune Hyperparameters with Grid Search"
   ]
  },
  {
   "cell_type": "code",
   "execution_count": 29,
   "metadata": {},
   "outputs": [
    {
     "name": "stderr",
     "output_type": "stream",
     "text": [
      "/Users/Joey/anaconda3/envs/tf2/lib/python3.7/site-packages/sklearn/model_selection/_split.py:1978: FutureWarning: The default value of cv will change from 3 to 5 in version 0.22. Specify it explicitly to silence this warning.\n",
      "  warnings.warn(CV_WARNING, FutureWarning)\n",
      "/Users/Joey/anaconda3/envs/tf2/lib/python3.7/site-packages/sklearn/model_selection/_search.py:814: DeprecationWarning: The default of the `iid` parameter will change from True to False in version 0.22 and will be removed in 0.24. This will change numeric results when test-set sizes are unequal.\n",
      "  DeprecationWarning)\n"
     ]
    }
   ],
   "source": [
    "param_grid = {'loss':('hinge', 'log', 'modified_huber', 'perceptron'), \n",
    "              'alpha':[0.0001, 0.001, 0.01, 0.1, 1, 10, 100, 1000],\n",
    "              'penalty':['l2','l1','elasticnet']\n",
    "             }\n",
    "\n",
    "sgd_clf = SGDClassifier()\n",
    "scorer = sk.metrics.make_scorer(sk.metrics.f1_score, average = 'micro')\n",
    "\n",
    "grid_search_sgd = GridSearchCV(sgd_clf, \n",
    "                               param_grid, \n",
    "                               scoring = scorer,\n",
    "                               return_train_score = True)\n",
    "\n",
    "grid_result_sgd = grid_search_sgd.fit(train_x_tr, train_y)"
   ]
  },
  {
   "cell_type": "code",
   "execution_count": 30,
   "metadata": {},
   "outputs": [
    {
     "name": "stdout",
     "output_type": "stream",
     "text": [
      "Best Score:  0.8812260536398467\n",
      "Best Params:  {'alpha': 0.01, 'loss': 'log', 'penalty': 'l1'}\n"
     ]
    }
   ],
   "source": [
    "print('Best Score: ', grid_result_sgd.best_score_)\n",
    "print('Best Params: ', grid_result_sgd.best_params_)"
   ]
  },
  {
   "cell_type": "markdown",
   "metadata": {},
   "source": [
    "**Results:** looking up the SGDClassifier documentation, the default hyperparameters would be {'alpha': 0.0001, 'loss': 'hinge', 'penalty': 'l2'}. As the grid search result is not identical, we should expect a better performance from the tuned settings. Hence, the accuracy and confusion matrix should be different."
   ]
  },
  {
   "cell_type": "code",
   "execution_count": 31,
   "metadata": {},
   "outputs": [],
   "source": [
    "test_y_sgd_pred_tuned = grid_result_sgd.predict(test_x_tr) #Get predictions from grid search result"
   ]
  },
  {
   "cell_type": "markdown",
   "metadata": {},
   "source": [
    "### 5.3 Confusion Matrix after Grid Search"
   ]
  },
  {
   "cell_type": "code",
   "execution_count": 32,
   "metadata": {},
   "outputs": [
    {
     "name": "stdout",
     "output_type": "stream",
     "text": [
      "This is the confusion matrix for SGD tuned \n",
      " [[30  0  0  0  0]\n",
      " [ 1 14  0  0  0]\n",
      " [ 0  1  4  0  1]\n",
      " [ 0  0  0  3  0]\n",
      " [ 1  0  0  0 11]]\n",
      "Plotting with predicted test dataset labels on horizontal axis, actuals labels on vertical axis\n"
     ]
    },
    {
     "data": {
      "image/png": "[encoded data removed]",
      "text/plain": [
       "<Figure size 432x288 with 2 Axes>"
      ]
     },
     "metadata": {
      "needs_background": "light"
     },
     "output_type": "display_data"
    }
   ],
   "source": [
    "#confusion matrix generation\n",
    "conf_matrix(test_y, test_y_sgd_pred_tuned, \"SGD tuned\")"
   ]
  },
  {
   "cell_type": "markdown",
   "metadata": {},
   "source": [
    "**Results:** Each row represents an actual class, while each column represents a predicted class. The classification results are thus:\n",
    "* Class d: 53 correctly predicted, 1 wrongly predicted as 'o'\n",
    "* Class h: 38 correctly predicted, 1,9 wrongly predicted as 'd','s' respectively\n",
    "* Class o: 32 correctly predicted, 5 wrongly predicted as 'd'\n",
    "* Class s: 57 correctly predicted, 1,1 wrongly predicted as 'h','o' respectively"
   ]
  },
  {
   "cell_type": "code",
   "execution_count": 33,
   "metadata": {},
   "outputs": [
    {
     "name": "stdout",
     "output_type": "stream",
     "text": [
      "Accuracy score of prediction:\n",
      "\n",
      "0.9393939393939394 \n",
      "\n",
      "F1 scores of prediction for each class:\n",
      "0.9393939393939394\n"
     ]
    }
   ],
   "source": [
    "report_scores(test_y,test_y_sgd_pred_tuned)"
   ]
  },
  {
   "cell_type": "markdown",
   "metadata": {},
   "source": [
    "## 6. Voting Classifier"
   ]
  },
  {
   "cell_type": "code",
   "execution_count": 34,
   "metadata": {},
   "outputs": [
    {
     "name": "stderr",
     "output_type": "stream",
     "text": [
      "/Users/Joey/anaconda3/envs/tf2/lib/python3.7/site-packages/sklearn/svm/base.py:193: FutureWarning: The default value of gamma will change from 'auto' to 'scale' in version 0.22 to account better for unscaled features. Set gamma explicitly to 'auto' or 'scale' to avoid this warning.\n",
      "  \"avoid this warning.\", FutureWarning)\n",
      "/Users/Joey/anaconda3/envs/tf2/lib/python3.7/site-packages/sklearn/linear_model/logistic.py:432: FutureWarning: Default solver will be changed to 'lbfgs' in 0.22. Specify a solver to silence this warning.\n",
      "  FutureWarning)\n",
      "/Users/Joey/anaconda3/envs/tf2/lib/python3.7/site-packages/sklearn/linear_model/logistic.py:469: FutureWarning: Default multi_class will be changed to 'auto' in 0.22. Specify the multi_class option to silence this warning.\n",
      "  \"this warning.\", FutureWarning)\n"
     ]
    }
   ],
   "source": [
    "#create and fit training data with voting classifier\n",
    "voting_clf = VotingClassifier(\n",
    "    estimators=[('svc', svm_clf), ('lr', log_clf), ('sgd', sgd_clf)],\n",
    "    voting='hard')\n",
    "voting_clf.fit(train_x_tr, train_y)\n",
    "\n",
    "#generate test data label prediction\n",
    "test_y_voting_pred = voting_clf.predict(test_x_tr)"
   ]
  },
  {
   "cell_type": "code",
   "execution_count": 45,
   "metadata": {},
   "outputs": [
    {
     "name": "stdout",
     "output_type": "stream",
     "text": [
      "SVC 0.9090909090909091\n",
      "LogisticRegression 0.9393939393939394\n",
      "SGDClassifier 0.8636363636363636\n",
      "VotingClassifier 0.9090909090909091\n"
     ]
    },
    {
     "name": "stderr",
     "output_type": "stream",
     "text": [
      "/Users/Joey/anaconda3/envs/tf2/lib/python3.7/site-packages/sklearn/svm/base.py:193: FutureWarning: The default value of gamma will change from 'auto' to 'scale' in version 0.22 to account better for unscaled features. Set gamma explicitly to 'auto' or 'scale' to avoid this warning.\n",
      "  \"avoid this warning.\", FutureWarning)\n",
      "/Users/Joey/anaconda3/envs/tf2/lib/python3.7/site-packages/sklearn/linear_model/logistic.py:432: FutureWarning: Default solver will be changed to 'lbfgs' in 0.22. Specify a solver to silence this warning.\n",
      "  FutureWarning)\n",
      "/Users/Joey/anaconda3/envs/tf2/lib/python3.7/site-packages/sklearn/linear_model/logistic.py:469: FutureWarning: Default multi_class will be changed to 'auto' in 0.22. Specify the multi_class option to silence this warning.\n",
      "  \"this warning.\", FutureWarning)\n",
      "/Users/Joey/anaconda3/envs/tf2/lib/python3.7/site-packages/sklearn/svm/base.py:193: FutureWarning: The default value of gamma will change from 'auto' to 'scale' in version 0.22 to account better for unscaled features. Set gamma explicitly to 'auto' or 'scale' to avoid this warning.\n",
      "  \"avoid this warning.\", FutureWarning)\n",
      "/Users/Joey/anaconda3/envs/tf2/lib/python3.7/site-packages/sklearn/linear_model/logistic.py:432: FutureWarning: Default solver will be changed to 'lbfgs' in 0.22. Specify a solver to silence this warning.\n",
      "  FutureWarning)\n",
      "/Users/Joey/anaconda3/envs/tf2/lib/python3.7/site-packages/sklearn/linear_model/logistic.py:469: FutureWarning: Default multi_class will be changed to 'auto' in 0.22. Specify the multi_class option to silence this warning.\n",
      "  \"this warning.\", FutureWarning)\n"
     ]
    }
   ],
   "source": [
    "#Check each classfier's accuracy scores used in voting_clf\n",
    "for clf in (svm_clf, log_clf, sgd_clf, voting_clf):\n",
    "    clf.fit(train_x_tr, train_y)\n",
    "    checking_y_pred = clf.predict(test_x_tr)\n",
    "    print(clf.__class__.__name__, sk.metrics.accuracy_score(test_y, checking_y_pred))"
   ]
  },
  {
   "cell_type": "code",
   "execution_count": 46,
   "metadata": {},
   "outputs": [
    {
     "name": "stdout",
     "output_type": "stream",
     "text": [
      "This is the confusion matrix for voting classifier \n",
      " [[30  0  0  0  0]\n",
      " [ 1 14  0  0  0]\n",
      " [ 0  3  3  0  0]\n",
      " [ 0  0  0  3  0]\n",
      " [ 1  0  0  0 11]]\n",
      "Plotting with predicted test dataset labels on horizontal axis, actuals labels on vertical axis\n"
     ]
    },
    {
     "data": {
      "image/png": "[encoded data removed]",
      "text/plain": [
       "<Figure size 432x288 with 2 Axes>"
      ]
     },
     "metadata": {
      "needs_background": "light"
     },
     "output_type": "display_data"
    }
   ],
   "source": [
    "#generate confusion matrix\n",
    "conf_matrix(test_y, test_y_voting_pred, \"voting classifier\")"
   ]
  },
  {
   "cell_type": "markdown",
   "metadata": {},
   "source": [
    "Results"
   ]
  },
  {
   "cell_type": "code",
   "execution_count": 37,
   "metadata": {},
   "outputs": [
    {
     "name": "stdout",
     "output_type": "stream",
     "text": [
      "Accuracy score of prediction:\n",
      "\n",
      "0.9242424242424242 \n",
      "\n",
      "F1 scores of prediction for each class:\n",
      "0.9242424242424242\n"
     ]
    }
   ],
   "source": [
    "report_scores(test_y, test_y_voting_pred)"
   ]
  },
  {
   "cell_type": "markdown",
   "metadata": {},
   "source": [
    "## 7. Conclusion"
   ]
  },
  {
   "cell_type": "markdown",
   "metadata": {},
   "source": [
    "<p>The accuracy score of the untuned and tuned Support Vector Classifier were identical, at 91.9%. This was due to the hyperparameters from the grid search matching the default hyperparameters.</p>\n",
    "\n",
    "<p>The accuracy score of the untuned Stochastic Gradient Descent Classifier was 93.4%, while the tuned version had a score of 90.9%. As the grid search's resulting hyperparameters were not identical to the default settings, this change is expected. The accuracy score, and thus performance, was found to be lower. However, this is due to the system ending up fine-tuned to perform well on the validation data and it is unlikely to perform as well on unknown datasets. Trying to manually tweak the parameters to make the performance look good on the test dataset would result in the changes being unlikely to generalise well with any new data.\n",
    "</p>\n",
    "\n",
    "<p>Overall, the performance of the Support Vector Classifier is comparable to the Stochastic Gradient Descent Classifier.</p>"
   ]
  }
 ],
 "metadata": {
  "kernelspec": {
   "display_name": "Python 3",
   "language": "python",
   "name": "python3"
  },
  "language_info": {
   "codemirror_mode": {
    "name": "ipython",
    "version": 3
   },
   "file_extension": ".py",
   "mimetype": "text/x-python",
   "name": "python",
   "nbconvert_exporter": "python",
   "pygments_lexer": "ipython3",
   "version": "3.7.6"
  }
 },
 "nbformat": 4,
 "nbformat_minor": 4
}
