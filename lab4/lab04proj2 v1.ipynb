{
 "cells": [
  {
   "cell_type": "markdown",
   "metadata": {},
   "source": [
    "# CITS5508 Lab 4: Random Forest Regression on Abalone Ring Count\n",
    "\n",
    "Name: Joey Koh<br>\n",
    "Student number: 21506379  \n",
    "Date created: 13 April 2020  \n",
    "Last modified: 20 April 2020  \n",
    "\n",
    "This notebook compares the performance of a Random Forest regressor with and without dimensionality reduction. It is addressing a regression task on predicting abalone ring count using various attribute inputs.<br>\n",
    "\n",
    "Todo:\n",
    "- [ ] Search for and answer \"HELP\"\n",
    "- [ ] fix the histogram offcentre\n",
    "\n",
    "Ask:\n",
    "- calc MSE from rounded pred or unrounded? ANS: From rounded right?"
   ]
  },
  {
   "cell_type": "markdown",
   "metadata": {},
   "source": [
    "    Name\t\tData Type\tMeas.\tDescription\n",
    "\t----\t\t---------\t-----\t-----------\n",
    "\tSex\t\tnominal\t\t\tM, F, and I (infant)\n",
    "\tLength\t\tcontinuous\tmm\tLongest shell measurement\n",
    "\tDiameter\tcontinuous\tmm\tperpendicular to length\n",
    "\tHeight\t\tcontinuous\tmm\twith meat in shell\n",
    "\tWhole weight\tcontinuous\tgrams\twhole abalone\n",
    "\tShucked weight\tcontinuous\tgrams\tweight of meat\n",
    "\tViscera weight\tcontinuous\tgrams\tgut weight (after bleeding)\n",
    "\tShell weight\tcontinuous\tgrams\tafter being dried\n",
    "\tRings\t\tinteger\t\t\t+1.5 gives the age in years"
   ]
  },
  {
   "cell_type": "markdown",
   "metadata": {},
   "source": [
    "## 1. Setup, Inspection and Cleaning"
   ]
  },
  {
   "cell_type": "code",
   "execution_count": 1,
   "metadata": {},
   "outputs": [
    {
     "data": {
      "text/html": [
       "<div>\n",
       "<style scoped>\n",
       "    .dataframe tbody tr th:only-of-type {\n",
       "        vertical-align: middle;\n",
       "    }\n",
       "\n",
       "    .dataframe tbody tr th {\n",
       "        vertical-align: top;\n",
       "    }\n",
       "\n",
       "    .dataframe thead th {\n",
       "        text-align: right;\n",
       "    }\n",
       "</style>\n",
       "<table border=\"1\" class=\"dataframe\">\n",
       "  <thead>\n",
       "    <tr style=\"text-align: right;\">\n",
       "      <th></th>\n",
       "      <th>sex</th>\n",
       "      <th>length</th>\n",
       "      <th>diameter</th>\n",
       "      <th>height</th>\n",
       "      <th>whole weight</th>\n",
       "      <th>shucked weight</th>\n",
       "      <th>viscera weight</th>\n",
       "      <th>shell weight</th>\n",
       "      <th>rings</th>\n",
       "    </tr>\n",
       "  </thead>\n",
       "  <tbody>\n",
       "    <tr>\n",
       "      <th>0</th>\n",
       "      <td>M</td>\n",
       "      <td>0.455</td>\n",
       "      <td>0.365</td>\n",
       "      <td>0.095</td>\n",
       "      <td>0.5140</td>\n",
       "      <td>0.2245</td>\n",
       "      <td>0.1010</td>\n",
       "      <td>0.150</td>\n",
       "      <td>15</td>\n",
       "    </tr>\n",
       "    <tr>\n",
       "      <th>1</th>\n",
       "      <td>M</td>\n",
       "      <td>0.350</td>\n",
       "      <td>0.265</td>\n",
       "      <td>0.090</td>\n",
       "      <td>0.2255</td>\n",
       "      <td>0.0995</td>\n",
       "      <td>0.0485</td>\n",
       "      <td>0.070</td>\n",
       "      <td>7</td>\n",
       "    </tr>\n",
       "    <tr>\n",
       "      <th>2</th>\n",
       "      <td>F</td>\n",
       "      <td>0.530</td>\n",
       "      <td>0.420</td>\n",
       "      <td>0.135</td>\n",
       "      <td>0.6770</td>\n",
       "      <td>0.2565</td>\n",
       "      <td>0.1415</td>\n",
       "      <td>0.210</td>\n",
       "      <td>9</td>\n",
       "    </tr>\n",
       "    <tr>\n",
       "      <th>3</th>\n",
       "      <td>M</td>\n",
       "      <td>0.440</td>\n",
       "      <td>0.365</td>\n",
       "      <td>0.125</td>\n",
       "      <td>0.5160</td>\n",
       "      <td>0.2155</td>\n",
       "      <td>0.1140</td>\n",
       "      <td>0.155</td>\n",
       "      <td>10</td>\n",
       "    </tr>\n",
       "    <tr>\n",
       "      <th>4</th>\n",
       "      <td>I</td>\n",
       "      <td>0.330</td>\n",
       "      <td>0.255</td>\n",
       "      <td>0.080</td>\n",
       "      <td>0.2050</td>\n",
       "      <td>0.0895</td>\n",
       "      <td>0.0395</td>\n",
       "      <td>0.055</td>\n",
       "      <td>7</td>\n",
       "    </tr>\n",
       "  </tbody>\n",
       "</table>\n",
       "</div>"
      ],
      "text/plain": [
       "  sex  length  diameter  height  whole weight  shucked weight  viscera weight  \\\n",
       "0   M   0.455     0.365   0.095        0.5140          0.2245          0.1010   \n",
       "1   M   0.350     0.265   0.090        0.2255          0.0995          0.0485   \n",
       "2   F   0.530     0.420   0.135        0.6770          0.2565          0.1415   \n",
       "3   M   0.440     0.365   0.125        0.5160          0.2155          0.1140   \n",
       "4   I   0.330     0.255   0.080        0.2050          0.0895          0.0395   \n",
       "\n",
       "   shell weight  rings  \n",
       "0         0.150     15  \n",
       "1         0.070      7  \n",
       "2         0.210      9  \n",
       "3         0.155     10  \n",
       "4         0.055      7  "
      ]
     },
     "execution_count": 1,
     "metadata": {},
     "output_type": "execute_result"
    }
   ],
   "source": [
    "import pandas as pd\n",
    "import numpy as np\n",
    "import sklearn as sk\n",
    "#Use jupyter's backend to render plots\n",
    "%matplotlib inline\n",
    "import matplotlib.pyplot as plt\n",
    "import matplotlib.lines as mlines\n",
    "#from pandas.plotting import scatter_matrix\n",
    "#from sklearn.pipeline import Pipeline\n",
    "from sklearn.preprocessing import OneHotEncoder\n",
    "from sklearn.model_selection import train_test_split\n",
    "#from sklearn.preprocessing import StandardScaler\n",
    "\n",
    "from sklearn.ensemble import RandomForestRegressor\n",
    "\n",
    "from sklearn.model_selection import GridSearchCV\n",
    "#from sklearn.metrics import confusion_matrix\n",
    "from sklearn import metrics\n",
    "from sklearn.metrics import mean_squared_error\n",
    "import warnings\n",
    "#warnings.filterwarnings(\"ignore\") #clear warnings\n",
    "\n",
    "#Prepare the data, give headings from data information\n",
    "raw_data = pd.read_csv(\"abalone.data\",\n",
    "                      header=None,\n",
    "                      names=['sex','length','diameter','height','whole weight','shucked weight','viscera weight','shell weight','rings']\n",
    "                      )\n",
    "\n",
    "#View first few lines and inspect columns\n",
    "raw_data.head()\n"
   ]
  },
  {
   "cell_type": "markdown",
   "metadata": {},
   "source": [
    "The 'sex' feature is text-based categorical data, we need to "
   ]
  },
  {
   "cell_type": "code",
   "execution_count": 2,
   "metadata": {},
   "outputs": [],
   "source": [
    "#need to add headings, drop low label counts, rearrange index,\n",
    "#one hot encode the sex feature?\n",
    "#no need to feature scale since tree based"
   ]
  },
  {
   "cell_type": "code",
   "execution_count": 3,
   "metadata": {},
   "outputs": [],
   "source": [
    "#HELP visualisations of cols\n",
    "#plt.hist(raw_data)\n",
    "#plt.show()"
   ]
  },
  {
   "cell_type": "code",
   "execution_count": 4,
   "metadata": {},
   "outputs": [
    {
     "data": {
      "text/plain": [
       "9     689\n",
       "10    634\n",
       "8     568\n",
       "11    487\n",
       "7     391\n",
       "12    267\n",
       "6     259\n",
       "13    203\n",
       "14    126\n",
       "5     115\n",
       "15    103\n",
       "16     67\n",
       "17     58\n",
       "4      57\n",
       "18     42\n",
       "19     32\n",
       "20     26\n",
       "3      15\n",
       "21     14\n",
       "23      9\n",
       "22      6\n",
       "24      2\n",
       "27      2\n",
       "1       1\n",
       "25      1\n",
       "2       1\n",
       "26      1\n",
       "29      1\n",
       "Name: rings, dtype: int64"
      ]
     },
     "execution_count": 4,
     "metadata": {},
     "output_type": "execute_result"
    }
   ],
   "source": [
    "#Looking at the label distribution\n",
    "raw_data[\"rings\"].value_counts()"
   ]
  },
  {
   "cell_type": "markdown",
   "metadata": {},
   "source": [
    "From the label instances.<br>\n",
    "Let's **remove all labels with less than 10 instances** as the small sample size making it unfeasible for fitting."
   ]
  },
  {
   "cell_type": "code",
   "execution_count": 5,
   "metadata": {},
   "outputs": [],
   "source": [
    "#i.e. remove all rows with 'ring' label = 23,22,24,27,1,25,2,26 or 29\n",
    "#Meaning keep all less than 22, and all greater than 2.\n",
    "#HELP: correct to use > or < as this is an integer not a class right? for future data\n",
    "data = raw_data[(raw_data['rings'] >2) & (raw_data['rings'] <22)]\n",
    "data = data.reset_index(drop=True)\n"
   ]
  },
  {
   "cell_type": "code",
   "execution_count": 6,
   "metadata": {},
   "outputs": [
    {
     "data": {
      "text/plain": [
       "M    1519\n",
       "I    1340\n",
       "F    1294\n",
       "Name: sex, dtype: int64"
      ]
     },
     "execution_count": 6,
     "metadata": {},
     "output_type": "execute_result"
    }
   ],
   "source": [
    "data['sex'].value_counts()"
   ]
  },
  {
   "cell_type": "code",
   "execution_count": 7,
   "metadata": {},
   "outputs": [
    {
     "data": {
      "text/plain": [
       "array([['M'],\n",
       "       ['M'],\n",
       "       ['F'],\n",
       "       ...,\n",
       "       ['M'],\n",
       "       ['F'],\n",
       "       ['M']], dtype=object)"
      ]
     },
     "execution_count": 7,
     "metadata": {},
     "output_type": "execute_result"
    }
   ],
   "source": [
    "data['sex'].values.reshape(-1,1)"
   ]
  },
  {
   "cell_type": "code",
   "execution_count": 8,
   "metadata": {},
   "outputs": [
    {
     "name": "stdout",
     "output_type": "stream",
     "text": [
      "[array(['F', 'I', 'M'], dtype=object)]\n"
     ]
    },
    {
     "data": {
      "text/html": [
       "<div>\n",
       "<style scoped>\n",
       "    .dataframe tbody tr th:only-of-type {\n",
       "        vertical-align: middle;\n",
       "    }\n",
       "\n",
       "    .dataframe tbody tr th {\n",
       "        vertical-align: top;\n",
       "    }\n",
       "\n",
       "    .dataframe thead th {\n",
       "        text-align: right;\n",
       "    }\n",
       "</style>\n",
       "<table border=\"1\" class=\"dataframe\">\n",
       "  <thead>\n",
       "    <tr style=\"text-align: right;\">\n",
       "      <th></th>\n",
       "      <th>sex F</th>\n",
       "      <th>sex I</th>\n",
       "      <th>sex M</th>\n",
       "      <th>length</th>\n",
       "      <th>diameter</th>\n",
       "      <th>height</th>\n",
       "      <th>whole weight</th>\n",
       "      <th>shucked weight</th>\n",
       "      <th>viscera weight</th>\n",
       "      <th>shell weight</th>\n",
       "      <th>rings</th>\n",
       "    </tr>\n",
       "  </thead>\n",
       "  <tbody>\n",
       "    <tr>\n",
       "      <th>0</th>\n",
       "      <td>0.0</td>\n",
       "      <td>0.0</td>\n",
       "      <td>1.0</td>\n",
       "      <td>0.455</td>\n",
       "      <td>0.365</td>\n",
       "      <td>0.095</td>\n",
       "      <td>0.5140</td>\n",
       "      <td>0.2245</td>\n",
       "      <td>0.1010</td>\n",
       "      <td>0.150</td>\n",
       "      <td>15</td>\n",
       "    </tr>\n",
       "    <tr>\n",
       "      <th>1</th>\n",
       "      <td>0.0</td>\n",
       "      <td>0.0</td>\n",
       "      <td>1.0</td>\n",
       "      <td>0.350</td>\n",
       "      <td>0.265</td>\n",
       "      <td>0.090</td>\n",
       "      <td>0.2255</td>\n",
       "      <td>0.0995</td>\n",
       "      <td>0.0485</td>\n",
       "      <td>0.070</td>\n",
       "      <td>7</td>\n",
       "    </tr>\n",
       "    <tr>\n",
       "      <th>2</th>\n",
       "      <td>1.0</td>\n",
       "      <td>0.0</td>\n",
       "      <td>0.0</td>\n",
       "      <td>0.530</td>\n",
       "      <td>0.420</td>\n",
       "      <td>0.135</td>\n",
       "      <td>0.6770</td>\n",
       "      <td>0.2565</td>\n",
       "      <td>0.1415</td>\n",
       "      <td>0.210</td>\n",
       "      <td>9</td>\n",
       "    </tr>\n",
       "    <tr>\n",
       "      <th>3</th>\n",
       "      <td>0.0</td>\n",
       "      <td>0.0</td>\n",
       "      <td>1.0</td>\n",
       "      <td>0.440</td>\n",
       "      <td>0.365</td>\n",
       "      <td>0.125</td>\n",
       "      <td>0.5160</td>\n",
       "      <td>0.2155</td>\n",
       "      <td>0.1140</td>\n",
       "      <td>0.155</td>\n",
       "      <td>10</td>\n",
       "    </tr>\n",
       "    <tr>\n",
       "      <th>4</th>\n",
       "      <td>0.0</td>\n",
       "      <td>1.0</td>\n",
       "      <td>0.0</td>\n",
       "      <td>0.330</td>\n",
       "      <td>0.255</td>\n",
       "      <td>0.080</td>\n",
       "      <td>0.2050</td>\n",
       "      <td>0.0895</td>\n",
       "      <td>0.0395</td>\n",
       "      <td>0.055</td>\n",
       "      <td>7</td>\n",
       "    </tr>\n",
       "  </tbody>\n",
       "</table>\n",
       "</div>"
      ],
      "text/plain": [
       "   sex F  sex I  sex M  length  diameter  height  whole weight  \\\n",
       "0    0.0    0.0    1.0   0.455     0.365   0.095        0.5140   \n",
       "1    0.0    0.0    1.0   0.350     0.265   0.090        0.2255   \n",
       "2    1.0    0.0    0.0   0.530     0.420   0.135        0.6770   \n",
       "3    0.0    0.0    1.0   0.440     0.365   0.125        0.5160   \n",
       "4    0.0    1.0    0.0   0.330     0.255   0.080        0.2050   \n",
       "\n",
       "   shucked weight  viscera weight  shell weight  rings  \n",
       "0          0.2245          0.1010         0.150     15  \n",
       "1          0.0995          0.0485         0.070      7  \n",
       "2          0.2565          0.1415         0.210      9  \n",
       "3          0.2155          0.1140         0.155     10  \n",
       "4          0.0895          0.0395         0.055      7  "
      ]
     },
     "execution_count": 8,
     "metadata": {},
     "output_type": "execute_result"
    }
   ],
   "source": [
    "#Define encoder\n",
    "enc = OneHotEncoder(handle_unknown='ignore')\n",
    "\n",
    "#Get array of transformed categories\n",
    "s_trans = enc.fit_transform(data['sex'].values.reshape(-1,1)).toarray() \n",
    "\n",
    "#Check order of categories for headings\n",
    "print(enc.categories_)\n",
    "s_onehot = pd.DataFrame(s_trans, columns= ['sex F','sex I','sex M'])\n",
    "\n",
    "#Concatenate new one-hot encoded columns and remove predecessor column\n",
    "data_enc = pd.concat([s_onehot,data], axis=1)\n",
    "data_enc = data_enc.drop('sex', axis=1)\n",
    "\n",
    "#Check first few rows\n",
    "data_enc.head()"
   ]
  },
  {
   "cell_type": "code",
   "execution_count": 9,
   "metadata": {},
   "outputs": [],
   "source": [
    "\"\"\"\n",
    "from sklearn.compose import ColumnTransformer \n",
    "ct = ColumnTransformer( [(\"sex 1hotencode\",OneHotEncoder(),[0])], remainder=\"passthrough\") # column transform with onehotencoder the first column only\n",
    "data = ct.fit_transform(data)    \n",
    "\"\"\";"
   ]
  },
  {
   "cell_type": "code",
   "execution_count": 10,
   "metadata": {},
   "outputs": [],
   "source": [
    "#new_headings = list(range(3)).extend(raw_data.columns)\n",
    "#print(new_headings)"
   ]
  },
  {
   "cell_type": "code",
   "execution_count": 11,
   "metadata": {},
   "outputs": [],
   "source": [
    "#restored = pd.DataFrame(data, columns = new_headings)\n"
   ]
  },
  {
   "cell_type": "code",
   "execution_count": null,
   "metadata": {},
   "outputs": [],
   "source": []
  },
  {
   "cell_type": "markdown",
   "metadata": {},
   "source": [
    "## 2. Data Split"
   ]
  },
  {
   "cell_type": "code",
   "execution_count": 12,
   "metadata": {},
   "outputs": [],
   "source": [
    "#Separate labels and features\n",
    "y= data_enc['rings']\n",
    "X= data_enc.drop('rings',axis=1)\n",
    "#split dataset at 85/15 ratio\n",
    "train_X, test_X, train_y, test_y = train_test_split(X, y, test_size= 0.15, random_state= 0)\n"
   ]
  },
  {
   "cell_type": "code",
   "execution_count": null,
   "metadata": {},
   "outputs": [],
   "source": []
  },
  {
   "cell_type": "markdown",
   "metadata": {},
   "source": [
    "## 3. Random Forest Regressor\n",
    "Decision Tree based on splitting within a random subset of features"
   ]
  },
  {
   "cell_type": "code",
   "execution_count": 13,
   "metadata": {},
   "outputs": [],
   "source": [
    "#functions used\n",
    "def displayMSE(title, mse): #function for plotting and printing Mean Sq Errors\n",
    "    plt.scatter(list(range(1,7)), mse)\n",
    "    plt.plot(list(range(1,7)), mse)\n",
    "    plt.title(title)\n",
    "    plt.ylabel('MSE')\n",
    "    plt.xlabel('Estimator no.')\n",
    "    plt.show()\n",
    "    print(\"These are the MSEs for each estimator model from first to last:\")\n",
    "    print(mse)\n",
    "    \n",
    "def getPredictionAndErrors(model, features_X, labels_y): #returns raw prediciton errors\n",
    "    pred = model.predict(features_X) #get prediction values\n",
    "    pred_round = pred.round() #round predictions and change to integers\n",
    "    pred_round = pred_round.astype(\"int64\")\n",
    "    raw_errors = pred_round - labels_y #compute raw prediction errors\n",
    "    mse = mean_squared_error(labels_y,pred_round)\n",
    "    return pred_round, mse, raw_errors\n",
    "\n",
    "def displayRawErrors(raw_errors,title): #plots raw error histogram\n",
    "    raw_errors.hist(align= \"mid\")\n",
    "    #np.histogram(raw_errors, bins=50)\n",
    "    #plt.bar(raw_errors)\n",
    "    plt.title(title)\n",
    "    plt.ylabel(\"Count\")\n",
    "    plt.xlabel(\"Raw Error of Quality\")\n",
    "    plt.show()"
   ]
  },
  {
   "cell_type": "code",
   "execution_count": 14,
   "metadata": {},
   "outputs": [
    {
     "data": {
      "text/plain": [
       "RandomForestRegressor(bootstrap=True, ccp_alpha=0.0, criterion='mse',\n",
       "                      max_depth=None, max_features='auto', max_leaf_nodes=16,\n",
       "                      max_samples=None, min_impurity_decrease=0.0,\n",
       "                      min_impurity_split=None, min_samples_leaf=1,\n",
       "                      min_samples_split=2, min_weight_fraction_leaf=0.0,\n",
       "                      n_estimators=50, n_jobs=-1, oob_score=False,\n",
       "                      random_state=None, verbose=0, warm_start=False)"
      ]
     },
     "execution_count": 14,
     "metadata": {},
     "output_type": "execute_result"
    }
   ],
   "source": [
    "#Prepare regressor\n",
    "rfor_reg = RandomForestRegressor(n_estimators=50,\n",
    "                                max_leaf_nodes=16,\n",
    "                                n_jobs=-1)\n",
    "\n",
    "rfor_reg.fit(train_X,train_y) #fit on training set"
   ]
  },
  {
   "cell_type": "code",
   "execution_count": 15,
   "metadata": {},
   "outputs": [
    {
     "name": "stdout",
     "output_type": "stream",
     "text": [
      "4.886035313001605 3.988668555240793\n"
     ]
    }
   ],
   "source": [
    "test_pred, test_mse, test_raw_error = getPredictionAndErrors(rfor_reg, test_X, test_y)\n",
    "train_pred, train_mse, train_raw_error = getPredictionAndErrors(rfor_reg, train_X, train_y)\n",
    "\n",
    "print(test_mse, train_mse)\n"
   ]
  },
  {
   "cell_type": "code",
   "execution_count": 16,
   "metadata": {},
   "outputs": [
    {
     "data": {
      "image/png": "[encoded data removed]",
      "text/plain": [
       "<Figure size 432x288 with 1 Axes>"
      ]
     },
     "metadata": {
      "needs_background": "light"
     },
     "output_type": "display_data"
    }
   ],
   "source": [
    "displayRawErrors(test_raw_error,\"Prediction raw error on test set\")"
   ]
  },
  {
   "cell_type": "code",
   "execution_count": 17,
   "metadata": {},
   "outputs": [
    {
     "data": {
      "image/png": "[encoded data removed]",
      "text/plain": [
       "<Figure size 432x288 with 1 Axes>"
      ]
     },
     "metadata": {
      "needs_background": "light"
     },
     "output_type": "display_data"
    }
   ],
   "source": [
    "displayRawErrors(train_raw_error,\"Prediction raw error on training set\")"
   ]
  },
  {
   "cell_type": "markdown",
   "metadata": {},
   "source": [
    "### 3.1 Feature Importance"
   ]
  },
  {
   "cell_type": "code",
   "execution_count": 18,
   "metadata": {},
   "outputs": [
    {
     "name": "stdout",
     "output_type": "stream",
     "text": [
      "sex F 0.0002\n",
      "sex I 0.0293\n",
      "sex M 0.0002\n",
      "length 0.0066\n",
      "diameter 0.0052\n",
      "height 0.0083\n",
      "whole weight 0.0081\n",
      "shucked weight 0.12\n",
      "viscera weight 0.0062\n",
      "shell weight 0.8157\n"
     ]
    }
   ],
   "source": [
    "#DU ANS: at least say you used a calculator and found that these ft summed to etc and then you can remove\n",
    "# try numpy.argsort\n",
    "for name, score in zip(data_enc.columns, rfor_reg.feature_importances_.round(4)):\n",
    "    print(name,score)"
   ]
  },
  {
   "cell_type": "code",
   "execution_count": 19,
   "metadata": {},
   "outputs": [
    {
     "name": "stdout",
     "output_type": "stream",
     "text": [
      "sex F 0.0002\n",
      "sex I 0.0293\n",
      "sex M 0.0002\n",
      "length 0.0066\n",
      "diameter 0.0052\n",
      "height 0.0083\n",
      "whole weight 0.0081\n",
      "shucked weight 0.12\n",
      "viscera weight 0.0062\n",
      "shell weight 0.8157\n"
     ]
    }
   ],
   "source": [
    "a = []\n",
    "for name, score in zip(data_enc.columns, rfor_reg.feature_importances_.round(4)):\n",
    "    a.append(name)\n",
    "    a.append(score)\n",
    "    print(name,score)"
   ]
  },
  {
   "cell_type": "code",
   "execution_count": 20,
   "metadata": {},
   "outputs": [
    {
     "data": {
      "text/plain": [
       "['sex F',\n",
       " 0.0002,\n",
       " 'sex I',\n",
       " 0.0293,\n",
       " 'sex M',\n",
       " 0.0002,\n",
       " 'length',\n",
       " 0.0066,\n",
       " 'diameter',\n",
       " 0.0052,\n",
       " 'height',\n",
       " 0.0083,\n",
       " 'whole weight',\n",
       " 0.0081,\n",
       " 'shucked weight',\n",
       " 0.12,\n",
       " 'viscera weight',\n",
       " 0.0062,\n",
       " 'shell weight',\n",
       " 0.8157]"
      ]
     },
     "execution_count": 20,
     "metadata": {},
     "output_type": "execute_result"
    }
   ],
   "source": [
    "a"
   ]
  },
  {
   "cell_type": "markdown",
   "metadata": {},
   "source": [
    "The first 3 columns are from one-hot encoding the 'feature'. Hence, this means that "
   ]
  },
  {
   "cell_type": "markdown",
   "metadata": {},
   "source": [
    "## 4. Feature Trimming"
   ]
  },
  {
   "cell_type": "markdown",
   "metadata": {},
   "source": [
    "from sklearn.feature_selection import SelectFromModel\n",
    "\n",
    "sel_rfor = SelectFromModel(rfor_reg,\n",
    "                          threshold= 0.02)\n",
    "sel_rfor.fit(train_X,train_y)"
   ]
  },
  {
   "cell_type": "markdown",
   "metadata": {},
   "source": [
    "sel_rfor.get_support()"
   ]
  },
  {
   "cell_type": "markdown",
   "metadata": {},
   "source": [
    "test_pred_sel, test_mse_sel, test_raw_error_sel = getPredictionAndErrors(sel_rfor, test_X, test_y)\n",
    "train_pred_sel, train_mse_sel, train_raw_error_sel = getPredictionAndErrors(sel_rfor, train_X, train_y)\n",
    "\n",
    "print(test_mse_sel, train_mse_sel)\n"
   ]
  },
  {
   "cell_type": "markdown",
   "metadata": {},
   "source": [
    "From previous section, the feature importances that contribute to the 95% threshold are 'shell weight','shucked weight', and 'sex'<br>\n",
    "#HELP how to deal with the sex contribution? together?<br>\n",
    "\n",
    "Let's drop all features besides these"
   ]
  },
  {
   "cell_type": "code",
   "execution_count": 21,
   "metadata": {},
   "outputs": [
    {
     "data": {
      "text/html": [
       "<div>\n",
       "<style scoped>\n",
       "    .dataframe tbody tr th:only-of-type {\n",
       "        vertical-align: middle;\n",
       "    }\n",
       "\n",
       "    .dataframe tbody tr th {\n",
       "        vertical-align: top;\n",
       "    }\n",
       "\n",
       "    .dataframe thead th {\n",
       "        text-align: right;\n",
       "    }\n",
       "</style>\n",
       "<table border=\"1\" class=\"dataframe\">\n",
       "  <thead>\n",
       "    <tr style=\"text-align: right;\">\n",
       "      <th></th>\n",
       "      <th>sex F</th>\n",
       "      <th>sex I</th>\n",
       "      <th>sex M</th>\n",
       "      <th>length</th>\n",
       "      <th>diameter</th>\n",
       "      <th>height</th>\n",
       "      <th>whole weight</th>\n",
       "      <th>shucked weight</th>\n",
       "      <th>viscera weight</th>\n",
       "      <th>shell weight</th>\n",
       "    </tr>\n",
       "  </thead>\n",
       "  <tbody>\n",
       "    <tr>\n",
       "      <th>534</th>\n",
       "      <td>0.0</td>\n",
       "      <td>0.0</td>\n",
       "      <td>1.0</td>\n",
       "      <td>0.320</td>\n",
       "      <td>0.245</td>\n",
       "      <td>0.075</td>\n",
       "      <td>0.1555</td>\n",
       "      <td>0.0585</td>\n",
       "      <td>0.0380</td>\n",
       "      <td>0.0490</td>\n",
       "    </tr>\n",
       "    <tr>\n",
       "      <th>1900</th>\n",
       "      <td>1.0</td>\n",
       "      <td>0.0</td>\n",
       "      <td>0.0</td>\n",
       "      <td>0.600</td>\n",
       "      <td>0.470</td>\n",
       "      <td>0.135</td>\n",
       "      <td>0.9700</td>\n",
       "      <td>0.4655</td>\n",
       "      <td>0.1955</td>\n",
       "      <td>0.2640</td>\n",
       "    </tr>\n",
       "    <tr>\n",
       "      <th>4053</th>\n",
       "      <td>0.0</td>\n",
       "      <td>1.0</td>\n",
       "      <td>0.0</td>\n",
       "      <td>0.550</td>\n",
       "      <td>0.435</td>\n",
       "      <td>0.125</td>\n",
       "      <td>0.7410</td>\n",
       "      <td>0.3480</td>\n",
       "      <td>0.1585</td>\n",
       "      <td>0.2060</td>\n",
       "    </tr>\n",
       "    <tr>\n",
       "      <th>1328</th>\n",
       "      <td>0.0</td>\n",
       "      <td>0.0</td>\n",
       "      <td>1.0</td>\n",
       "      <td>0.585</td>\n",
       "      <td>0.460</td>\n",
       "      <td>0.165</td>\n",
       "      <td>1.1135</td>\n",
       "      <td>0.5825</td>\n",
       "      <td>0.2345</td>\n",
       "      <td>0.2740</td>\n",
       "    </tr>\n",
       "    <tr>\n",
       "      <th>3462</th>\n",
       "      <td>1.0</td>\n",
       "      <td>0.0</td>\n",
       "      <td>0.0</td>\n",
       "      <td>0.505</td>\n",
       "      <td>0.475</td>\n",
       "      <td>0.160</td>\n",
       "      <td>1.1155</td>\n",
       "      <td>0.5090</td>\n",
       "      <td>0.2390</td>\n",
       "      <td>0.3065</td>\n",
       "    </tr>\n",
       "    <tr>\n",
       "      <th>...</th>\n",
       "      <td>...</td>\n",
       "      <td>...</td>\n",
       "      <td>...</td>\n",
       "      <td>...</td>\n",
       "      <td>...</td>\n",
       "      <td>...</td>\n",
       "      <td>...</td>\n",
       "      <td>...</td>\n",
       "      <td>...</td>\n",
       "      <td>...</td>\n",
       "    </tr>\n",
       "    <tr>\n",
       "      <th>1033</th>\n",
       "      <td>0.0</td>\n",
       "      <td>0.0</td>\n",
       "      <td>1.0</td>\n",
       "      <td>0.710</td>\n",
       "      <td>0.565</td>\n",
       "      <td>0.205</td>\n",
       "      <td>2.1980</td>\n",
       "      <td>1.0120</td>\n",
       "      <td>0.5225</td>\n",
       "      <td>0.5475</td>\n",
       "    </tr>\n",
       "    <tr>\n",
       "      <th>3264</th>\n",
       "      <td>1.0</td>\n",
       "      <td>0.0</td>\n",
       "      <td>0.0</td>\n",
       "      <td>0.605</td>\n",
       "      <td>0.475</td>\n",
       "      <td>0.145</td>\n",
       "      <td>1.0185</td>\n",
       "      <td>0.4695</td>\n",
       "      <td>0.2250</td>\n",
       "      <td>0.2700</td>\n",
       "    </tr>\n",
       "    <tr>\n",
       "      <th>1653</th>\n",
       "      <td>0.0</td>\n",
       "      <td>0.0</td>\n",
       "      <td>1.0</td>\n",
       "      <td>0.610</td>\n",
       "      <td>0.475</td>\n",
       "      <td>0.155</td>\n",
       "      <td>0.9830</td>\n",
       "      <td>0.4565</td>\n",
       "      <td>0.2280</td>\n",
       "      <td>0.2660</td>\n",
       "    </tr>\n",
       "    <tr>\n",
       "      <th>2607</th>\n",
       "      <td>0.0</td>\n",
       "      <td>1.0</td>\n",
       "      <td>0.0</td>\n",
       "      <td>0.330</td>\n",
       "      <td>0.240</td>\n",
       "      <td>0.075</td>\n",
       "      <td>0.1630</td>\n",
       "      <td>0.0745</td>\n",
       "      <td>0.0330</td>\n",
       "      <td>0.0480</td>\n",
       "    </tr>\n",
       "    <tr>\n",
       "      <th>2732</th>\n",
       "      <td>0.0</td>\n",
       "      <td>1.0</td>\n",
       "      <td>0.0</td>\n",
       "      <td>0.525</td>\n",
       "      <td>0.385</td>\n",
       "      <td>0.130</td>\n",
       "      <td>0.6070</td>\n",
       "      <td>0.2355</td>\n",
       "      <td>0.1250</td>\n",
       "      <td>0.1950</td>\n",
       "    </tr>\n",
       "  </tbody>\n",
       "</table>\n",
       "<p>3530 rows × 10 columns</p>\n",
       "</div>"
      ],
      "text/plain": [
       "      sex F  sex I  sex M  length  diameter  height  whole weight  \\\n",
       "534     0.0    0.0    1.0   0.320     0.245   0.075        0.1555   \n",
       "1900    1.0    0.0    0.0   0.600     0.470   0.135        0.9700   \n",
       "4053    0.0    1.0    0.0   0.550     0.435   0.125        0.7410   \n",
       "1328    0.0    0.0    1.0   0.585     0.460   0.165        1.1135   \n",
       "3462    1.0    0.0    0.0   0.505     0.475   0.160        1.1155   \n",
       "...     ...    ...    ...     ...       ...     ...           ...   \n",
       "1033    0.0    0.0    1.0   0.710     0.565   0.205        2.1980   \n",
       "3264    1.0    0.0    0.0   0.605     0.475   0.145        1.0185   \n",
       "1653    0.0    0.0    1.0   0.610     0.475   0.155        0.9830   \n",
       "2607    0.0    1.0    0.0   0.330     0.240   0.075        0.1630   \n",
       "2732    0.0    1.0    0.0   0.525     0.385   0.130        0.6070   \n",
       "\n",
       "      shucked weight  viscera weight  shell weight  \n",
       "534           0.0585          0.0380        0.0490  \n",
       "1900          0.4655          0.1955        0.2640  \n",
       "4053          0.3480          0.1585        0.2060  \n",
       "1328          0.5825          0.2345        0.2740  \n",
       "3462          0.5090          0.2390        0.3065  \n",
       "...              ...             ...           ...  \n",
       "1033          1.0120          0.5225        0.5475  \n",
       "3264          0.4695          0.2250        0.2700  \n",
       "1653          0.4565          0.2280        0.2660  \n",
       "2607          0.0745          0.0330        0.0480  \n",
       "2732          0.2355          0.1250        0.1950  \n",
       "\n",
       "[3530 rows x 10 columns]"
      ]
     },
     "execution_count": 21,
     "metadata": {},
     "output_type": "execute_result"
    }
   ],
   "source": [
    "train_X"
   ]
  },
  {
   "cell_type": "code",
   "execution_count": 22,
   "metadata": {},
   "outputs": [],
   "source": [
    "#Reduce feature columns as stated\n",
    "test_X_new = test_X[['shucked weight','shell weight']]\n",
    "train_X_new = train_X[['shucked weight','shell weight']]"
   ]
  },
  {
   "cell_type": "code",
   "execution_count": 23,
   "metadata": {},
   "outputs": [
    {
     "data": {
      "text/plain": [
       "RandomForestRegressor(bootstrap=True, ccp_alpha=0.0, criterion='mse',\n",
       "                      max_depth=None, max_features='auto', max_leaf_nodes=16,\n",
       "                      max_samples=None, min_impurity_decrease=0.0,\n",
       "                      min_impurity_split=None, min_samples_leaf=1,\n",
       "                      min_samples_split=2, min_weight_fraction_leaf=0.0,\n",
       "                      n_estimators=50, n_jobs=-1, oob_score=False,\n",
       "                      random_state=None, verbose=0, warm_start=False)"
      ]
     },
     "execution_count": 23,
     "metadata": {},
     "output_type": "execute_result"
    }
   ],
   "source": [
    "#Fit previous model on new training set\n",
    "rfor_reg.fit(train_X_new,train_y) #fit on training set"
   ]
  },
  {
   "cell_type": "code",
   "execution_count": 24,
   "metadata": {},
   "outputs": [
    {
     "name": "stdout",
     "output_type": "stream",
     "text": [
      "5.057784911717496 4.148158640226629\n"
     ]
    }
   ],
   "source": [
    "test_pred_new, test_mse_new, test_raw_error_new = getPredictionAndErrors(rfor_reg, test_X_new, test_y)\n",
    "train_pred_new, train_mse_new, train_raw_error_new = getPredictionAndErrors(rfor_reg, train_X_new, train_y)\n",
    "\n",
    "print(test_mse_new, train_mse_new)\n"
   ]
  },
  {
   "cell_type": "code",
   "execution_count": 25,
   "metadata": {},
   "outputs": [
    {
     "data": {
      "image/png": "[encoded data removed]",
      "text/plain": [
       "<Figure size 432x288 with 1 Axes>"
      ]
     },
     "metadata": {
      "needs_background": "light"
     },
     "output_type": "display_data"
    }
   ],
   "source": [
    "displayRawErrors(test_raw_error_new,\"New Prediction raw error on test set\")"
   ]
  },
  {
   "cell_type": "code",
   "execution_count": 26,
   "metadata": {},
   "outputs": [
    {
     "data": {
      "image/png": "[encoded data removed]",
      "text/plain": [
       "<Figure size 432x288 with 1 Axes>"
      ]
     },
     "metadata": {
      "needs_background": "light"
     },
     "output_type": "display_data"
    }
   ],
   "source": [
    "displayRawErrors(train_raw_error_new,\"New Prediction raw error on training set\")\n"
   ]
  },
  {
   "cell_type": "code",
   "execution_count": null,
   "metadata": {},
   "outputs": [],
   "source": []
  }
 ],
 "metadata": {
  "kernelspec": {
   "display_name": "Python 3.7.6 64-bit ('cits5508': conda)",
   "language": "python",
   "name": "python37664bitcits5508condac4a1edbc391645758c4c9553d073f178"
  },
  "language_info": {
   "codemirror_mode": {
    "name": "ipython",
    "version": 3
   },
   "file_extension": ".py",
   "mimetype": "text/x-python",
   "name": "python",
   "nbconvert_exporter": "python",
   "pygments_lexer": "ipython3",
   "version": "3.7.6"
  }
 },
 "nbformat": 4,
 "nbformat_minor": 4
}
