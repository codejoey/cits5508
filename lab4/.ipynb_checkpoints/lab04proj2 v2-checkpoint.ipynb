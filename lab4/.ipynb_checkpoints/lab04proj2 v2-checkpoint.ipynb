{
 "cells": [
  {
   "cell_type": "markdown",
   "metadata": {},
   "source": [
    "# CITS5508 Lab 4 Project 2: Random Forest Regression on Abalone Ring Count\n",
    "\n",
    "Name: Joey Koh<br>\n",
    "Student number: 21506379  \n",
    "Date created: 23 April 2020  \n",
    "Last modified: 2 May 2020  \n",
    "\n",
    "This notebook compares the performance of a Random Forest regressor with and without dimensionality reduction. It is addressing a regression task on predicting abalone ring count using various attribute inputs.<br>\n",
    "\n",
    "Database Citation:\n",
    "Dua, D. and Graff, C. (2019). UCI Machine Learning Repository [http://archive.ics.uci.edu/ml]. Irvine, CA: University of California, School of Information and Computer Science.\n",
    "\n",
    "Todo:\n",
    "- [ ] Search for and answer \"HELP\",EDIT\n",
    "- [ ] fix the histogram offcentre\n",
    "- [ ] feature select, argsort\n",
    "- [ ] explanations, conclusion\n",
    "\n",
    "Below is the attribute information."
   ]
  },
  {
   "cell_type": "markdown",
   "metadata": {},
   "source": [
    "    Name\t\tData Type\tMeas.\tDescription\n",
    "\t----\t\t---------\t-----\t-----------\n",
    "\tSex\t\tnominal\t\t\tM, F, and I (infant)\n",
    "\tLength\t\tcontinuous\tmm\tLongest shell measurement\n",
    "\tDiameter\tcontinuous\tmm\tperpendicular to length\n",
    "\tHeight\t\tcontinuous\tmm\twith meat in shell\n",
    "\tWhole weight\tcontinuous\tgrams\twhole abalone\n",
    "\tShucked weight\tcontinuous\tgrams\tweight of meat\n",
    "\tViscera weight\tcontinuous\tgrams\tgut weight (after bleeding)\n",
    "\tShell weight\tcontinuous\tgrams\tafter being dried\n",
    "\tRings\t\tinteger\t\t\t+1.5 gives the age in years"
   ]
  },
  {
   "cell_type": "markdown",
   "metadata": {},
   "source": [
    "## 1. Setup, Inspection and Cleaning"
   ]
  },
  {
   "cell_type": "code",
   "execution_count": 9,
   "metadata": {},
   "outputs": [
    {
     "name": "stdout",
     "output_type": "stream",
     "text": [
      "Are there any missing values? False\n",
      "Dimensions: (4177, 9)\n"
     ]
    },
    {
     "data": {
      "text/html": [
       "<div>\n",
       "<style scoped>\n",
       "    .dataframe tbody tr th:only-of-type {\n",
       "        vertical-align: middle;\n",
       "    }\n",
       "\n",
       "    .dataframe tbody tr th {\n",
       "        vertical-align: top;\n",
       "    }\n",
       "\n",
       "    .dataframe thead th {\n",
       "        text-align: right;\n",
       "    }\n",
       "</style>\n",
       "<table border=\"1\" class=\"dataframe\">\n",
       "  <thead>\n",
       "    <tr style=\"text-align: right;\">\n",
       "      <th></th>\n",
       "      <th>sex</th>\n",
       "      <th>length</th>\n",
       "      <th>diameter</th>\n",
       "      <th>height</th>\n",
       "      <th>whole weight</th>\n",
       "      <th>shucked weight</th>\n",
       "      <th>viscera weight</th>\n",
       "      <th>shell weight</th>\n",
       "      <th>rings</th>\n",
       "    </tr>\n",
       "  </thead>\n",
       "  <tbody>\n",
       "    <tr>\n",
       "      <th>0</th>\n",
       "      <td>M</td>\n",
       "      <td>0.455</td>\n",
       "      <td>0.365</td>\n",
       "      <td>0.095</td>\n",
       "      <td>0.5140</td>\n",
       "      <td>0.2245</td>\n",
       "      <td>0.1010</td>\n",
       "      <td>0.150</td>\n",
       "      <td>15</td>\n",
       "    </tr>\n",
       "    <tr>\n",
       "      <th>1</th>\n",
       "      <td>M</td>\n",
       "      <td>0.350</td>\n",
       "      <td>0.265</td>\n",
       "      <td>0.090</td>\n",
       "      <td>0.2255</td>\n",
       "      <td>0.0995</td>\n",
       "      <td>0.0485</td>\n",
       "      <td>0.070</td>\n",
       "      <td>7</td>\n",
       "    </tr>\n",
       "    <tr>\n",
       "      <th>2</th>\n",
       "      <td>F</td>\n",
       "      <td>0.530</td>\n",
       "      <td>0.420</td>\n",
       "      <td>0.135</td>\n",
       "      <td>0.6770</td>\n",
       "      <td>0.2565</td>\n",
       "      <td>0.1415</td>\n",
       "      <td>0.210</td>\n",
       "      <td>9</td>\n",
       "    </tr>\n",
       "    <tr>\n",
       "      <th>3</th>\n",
       "      <td>M</td>\n",
       "      <td>0.440</td>\n",
       "      <td>0.365</td>\n",
       "      <td>0.125</td>\n",
       "      <td>0.5160</td>\n",
       "      <td>0.2155</td>\n",
       "      <td>0.1140</td>\n",
       "      <td>0.155</td>\n",
       "      <td>10</td>\n",
       "    </tr>\n",
       "    <tr>\n",
       "      <th>4</th>\n",
       "      <td>I</td>\n",
       "      <td>0.330</td>\n",
       "      <td>0.255</td>\n",
       "      <td>0.080</td>\n",
       "      <td>0.2050</td>\n",
       "      <td>0.0895</td>\n",
       "      <td>0.0395</td>\n",
       "      <td>0.055</td>\n",
       "      <td>7</td>\n",
       "    </tr>\n",
       "  </tbody>\n",
       "</table>\n",
       "</div>"
      ],
      "text/plain": [
       "  sex  length  diameter  height  whole weight  shucked weight  viscera weight  \\\n",
       "0   M   0.455     0.365   0.095        0.5140          0.2245          0.1010   \n",
       "1   M   0.350     0.265   0.090        0.2255          0.0995          0.0485   \n",
       "2   F   0.530     0.420   0.135        0.6770          0.2565          0.1415   \n",
       "3   M   0.440     0.365   0.125        0.5160          0.2155          0.1140   \n",
       "4   I   0.330     0.255   0.080        0.2050          0.0895          0.0395   \n",
       "\n",
       "   shell weight  rings  \n",
       "0         0.150     15  \n",
       "1         0.070      7  \n",
       "2         0.210      9  \n",
       "3         0.155     10  \n",
       "4         0.055      7  "
      ]
     },
     "execution_count": 9,
     "metadata": {},
     "output_type": "execute_result"
    }
   ],
   "source": [
    "import pandas as pd\n",
    "import numpy as np\n",
    "import sklearn as sk\n",
    "#Use jupyter's backend to render plots\n",
    "%matplotlib inline\n",
    "import matplotlib.pyplot as plt\n",
    "import matplotlib.lines as mlines\n",
    "import seaborn as sns; sns.set(color_codes= True)\n",
    "#from sklearn.pipeline import Pipeline\n",
    "from sklearn.preprocessing import OneHotEncoder\n",
    "from sklearn.model_selection import train_test_split\n",
    "\n",
    "from sklearn.ensemble import RandomForestRegressor\n",
    "from sklearn import metrics\n",
    "from sklearn.metrics import mean_squared_error\n",
    "import warnings\n",
    "#warnings.filterwarnings(\"ignore\") #clear warnings\n",
    "\n",
    "#Prepare the data, give headings from data information\n",
    "raw_data = pd.read_csv(\"abalone.data\",\n",
    "                      header=None,\n",
    "                      names=['sex','length','diameter','height','whole weight','shucked weight','viscera weight','shell weight','rings']\n",
    "                      )\n",
    "\n",
    "#Quick check for missing values and data size\n",
    "print(\"Are there any missing values?\", raw_data.isnull().values.any())\n",
    "print(\"Dimensions:\", raw_data.shape)\n",
    "\n",
    "#View first few lines and inspect columns\n",
    "raw_data.head()\n"
   ]
  },
  {
   "cell_type": "markdown",
   "metadata": {},
   "source": [
    "The 'sex' feature is text-based categorical data, we need to handle it. No missing values to handle. We note the 4177 instances by 9 attributes dimension size."
   ]
  },
  {
   "cell_type": "code",
   "execution_count": 10,
   "metadata": {},
   "outputs": [
    {
     "data": {
      "image/png": "[encoded data removed]",
      "text/plain": [
       "<Figure size 1440x1080 with 9 Axes>"
      ]
     },
     "metadata": {},
     "output_type": "display_data"
    }
   ],
   "source": [
    "#Get visualisations\n",
    "raw_data.hist(bins=50, figsize=(20,15))\n",
    "plt.show()"
   ]
  },
  {
   "cell_type": "code",
   "execution_count": null,
   "metadata": {},
   "outputs": [],
   "source": []
  },
  {
   "cell_type": "code",
   "execution_count": null,
   "metadata": {},
   "outputs": [],
   "source": []
  },
  {
   "cell_type": "markdown",
   "metadata": {},
   "source": [
    "These are the graphs showing the distribution for each attribute.<br>\n",
    "**Observations:**\n",
    "- We **should not remove low label instances** for 'rings' as the small sample size still provides a signal in the data. This is not a classfication problem.\n",
    "- As the distributions are normally distributed, a StandardScalar would be used if feature scaling is required.\n",
    "- The labels attribute 'rings' appears to be right skewed, i.e. more instances are in the lower half of the ring count.\n",
    "\n",
    "### 1.1 Handling Categorical Text Feature"
   ]
  },
  {
   "cell_type": "code",
   "execution_count": 3,
   "metadata": {},
   "outputs": [
    {
     "name": "stdout",
     "output_type": "stream",
     "text": [
      "[array(['F', 'I', 'M'], dtype=object)]\n"
     ]
    },
    {
     "data": {
      "text/html": [
       "<div>\n",
       "<style scoped>\n",
       "    .dataframe tbody tr th:only-of-type {\n",
       "        vertical-align: middle;\n",
       "    }\n",
       "\n",
       "    .dataframe tbody tr th {\n",
       "        vertical-align: top;\n",
       "    }\n",
       "\n",
       "    .dataframe thead th {\n",
       "        text-align: right;\n",
       "    }\n",
       "</style>\n",
       "<table border=\"1\" class=\"dataframe\">\n",
       "  <thead>\n",
       "    <tr style=\"text-align: right;\">\n",
       "      <th></th>\n",
       "      <th>sex F</th>\n",
       "      <th>sex I</th>\n",
       "      <th>sex M</th>\n",
       "      <th>length</th>\n",
       "      <th>diameter</th>\n",
       "      <th>height</th>\n",
       "      <th>whole weight</th>\n",
       "      <th>shucked weight</th>\n",
       "      <th>viscera weight</th>\n",
       "      <th>shell weight</th>\n",
       "      <th>rings</th>\n",
       "    </tr>\n",
       "  </thead>\n",
       "  <tbody>\n",
       "    <tr>\n",
       "      <th>0</th>\n",
       "      <td>0.0</td>\n",
       "      <td>0.0</td>\n",
       "      <td>1.0</td>\n",
       "      <td>0.455</td>\n",
       "      <td>0.365</td>\n",
       "      <td>0.095</td>\n",
       "      <td>0.5140</td>\n",
       "      <td>0.2245</td>\n",
       "      <td>0.1010</td>\n",
       "      <td>0.150</td>\n",
       "      <td>15</td>\n",
       "    </tr>\n",
       "    <tr>\n",
       "      <th>1</th>\n",
       "      <td>0.0</td>\n",
       "      <td>0.0</td>\n",
       "      <td>1.0</td>\n",
       "      <td>0.350</td>\n",
       "      <td>0.265</td>\n",
       "      <td>0.090</td>\n",
       "      <td>0.2255</td>\n",
       "      <td>0.0995</td>\n",
       "      <td>0.0485</td>\n",
       "      <td>0.070</td>\n",
       "      <td>7</td>\n",
       "    </tr>\n",
       "    <tr>\n",
       "      <th>2</th>\n",
       "      <td>1.0</td>\n",
       "      <td>0.0</td>\n",
       "      <td>0.0</td>\n",
       "      <td>0.530</td>\n",
       "      <td>0.420</td>\n",
       "      <td>0.135</td>\n",
       "      <td>0.6770</td>\n",
       "      <td>0.2565</td>\n",
       "      <td>0.1415</td>\n",
       "      <td>0.210</td>\n",
       "      <td>9</td>\n",
       "    </tr>\n",
       "    <tr>\n",
       "      <th>3</th>\n",
       "      <td>0.0</td>\n",
       "      <td>0.0</td>\n",
       "      <td>1.0</td>\n",
       "      <td>0.440</td>\n",
       "      <td>0.365</td>\n",
       "      <td>0.125</td>\n",
       "      <td>0.5160</td>\n",
       "      <td>0.2155</td>\n",
       "      <td>0.1140</td>\n",
       "      <td>0.155</td>\n",
       "      <td>10</td>\n",
       "    </tr>\n",
       "    <tr>\n",
       "      <th>4</th>\n",
       "      <td>0.0</td>\n",
       "      <td>1.0</td>\n",
       "      <td>0.0</td>\n",
       "      <td>0.330</td>\n",
       "      <td>0.255</td>\n",
       "      <td>0.080</td>\n",
       "      <td>0.2050</td>\n",
       "      <td>0.0895</td>\n",
       "      <td>0.0395</td>\n",
       "      <td>0.055</td>\n",
       "      <td>7</td>\n",
       "    </tr>\n",
       "  </tbody>\n",
       "</table>\n",
       "</div>"
      ],
      "text/plain": [
       "   sex F  sex I  sex M  length  diameter  height  whole weight  \\\n",
       "0    0.0    0.0    1.0   0.455     0.365   0.095        0.5140   \n",
       "1    0.0    0.0    1.0   0.350     0.265   0.090        0.2255   \n",
       "2    1.0    0.0    0.0   0.530     0.420   0.135        0.6770   \n",
       "3    0.0    0.0    1.0   0.440     0.365   0.125        0.5160   \n",
       "4    0.0    1.0    0.0   0.330     0.255   0.080        0.2050   \n",
       "\n",
       "   shucked weight  viscera weight  shell weight  rings  \n",
       "0          0.2245          0.1010         0.150     15  \n",
       "1          0.0995          0.0485         0.070      7  \n",
       "2          0.2565          0.1415         0.210      9  \n",
       "3          0.2155          0.1140         0.155     10  \n",
       "4          0.0895          0.0395         0.055      7  "
      ]
     },
     "execution_count": 3,
     "metadata": {},
     "output_type": "execute_result"
    }
   ],
   "source": [
    "data = raw_data #make a copy\n",
    "#Define encoder\n",
    "enc = OneHotEncoder(handle_unknown='ignore')\n",
    "\n",
    "#Get array of transformed categories\n",
    "s_trans = enc.fit_transform(data['sex'].values.reshape(-1,1)).toarray() \n",
    "\n",
    "#Check order of categories for headings\n",
    "print(enc.categories_)\n",
    "s_onehot = pd.DataFrame(s_trans, columns= ['sex F','sex I','sex M'])\n",
    "\n",
    "#Concatenate new one-hot encoded columns and remove predecessor column\n",
    "data_enc = pd.concat([s_onehot,data], axis=1)\n",
    "data_enc = data_enc.drop('sex', axis=1)\n",
    "\n",
    "#Check first few rows\n",
    "data_enc.head()"
   ]
  },
  {
   "cell_type": "markdown",
   "metadata": {},
   "source": [
    "New data looks good, all numerical values now."
   ]
  },
  {
   "cell_type": "markdown",
   "metadata": {},
   "source": [
    "## 2. Data Split"
   ]
  },
  {
   "cell_type": "code",
   "execution_count": 4,
   "metadata": {},
   "outputs": [],
   "source": [
    "#Separate labels and features\n",
    "y= data_enc['rings']\n",
    "X= data_enc.drop('rings',axis=1)\n",
    "#split dataset at 85/15 ratio\n",
    "train_X, test_X, train_y, test_y = train_test_split(X, y, test_size= 0.15, random_state= 0)\n"
   ]
  },
  {
   "cell_type": "markdown",
   "metadata": {},
   "source": [
    "**Feature scaling is not required for the Random Forest Regressor** as it is decision tree based. Tree based models are constucted in a greedy manner, by choosing the best split points to minimise the loss function. Thus, the relative scales of different features do not matter."
   ]
  },
  {
   "cell_type": "markdown",
   "metadata": {},
   "source": [
    "## 3. Random Forest Regressor\n",
    "Decision Tree based on splitting within a random subset of features"
   ]
  },
  {
   "cell_type": "code",
   "execution_count": 5,
   "metadata": {},
   "outputs": [],
   "source": [
    "#functions used\n",
    "def getPredictionAndErrors(model, features_X, labels_y): #returns rounded predictions, MSE and raw errors\n",
    "    pred = model.predict(features_X) #get prediction values\n",
    "    pred_round = pred.round() #round predictions\n",
    "    pred_round = pred_round.astype(\"int64\") #change to integers\n",
    "    raw_errors = pred_round - labels_y #compute raw prediction errors\n",
    "    mse = mean_squared_error(labels_y,pred_round).round(2) #compute MSE\n",
    "    return pred_round, mse, raw_errors\n",
    "\n",
    "def displayRawErrors(raw_errors,title): #plots raw error histogram\n",
    "    raw_errors.hist(align= \"mid\")\n",
    "    #np.histogram(raw_errors, bins=50) EDIT\n",
    "    #plt.bar(raw_errors)\n",
    "    plt.title(title)\n",
    "    plt.ylabel(\"Count\")\n",
    "    plt.xlabel(\"Raw Error of Quality\")\n",
    "    plt.show()"
   ]
  },
  {
   "cell_type": "markdown",
   "metadata": {},
   "source": [
    "### Hyperparameters Tuned\n",
    "**Limiting the following helps prevent overfitting**\n",
    "- n_estimators: Number of trees in the forest. The more learners in the ensemble, the greater the fitting to the training set.\n",
    "- max_depth: Depth of each tree in the ensemble. The deeper the tree, the more the training set pattern is captured.\n",
    "- max_leaf_nodes: Max number of final leaf nodes in the best-first order. As we want an ensemble of uncorrelated weak learners, we limit this to prevent strong correlated leaners from forming.\n",
    "\n",
    "**Setting a base threshold for the following helps to ensure some signal is captured, while noise is ignored.**\n",
    "- min_samples_split: Minimum number of samples required to split an internal node.\n",
    "- min_samples_leaf: Minimum number of samples required to be at a leaf node, the base of the tree.\n",
    "\n",
    "As a gridsearch took too long, manual tuning was conducted and decent hyperparameters were as follows."
   ]
  },
  {
   "cell_type": "code",
   "execution_count": 6,
   "metadata": {},
   "outputs": [],
   "source": [
    "#Prepare regressor EDIT: tune hyperparams\n",
    "rfor_reg = RandomForestRegressor(n_estimators=200,\n",
    "                                 max_depth= 8,\n",
    "                                 max_leaf_nodes=40,\n",
    "                                 min_samples_split=5,\n",
    "                                 min_samples_leaf=10,\n",
    "                                 n_jobs=-1, #use all cores\n",
    "                                 random_state=0)\n",
    "\n",
    "rfor_reg.fit(train_X,train_y); #fit on training set"
   ]
  },
  {
   "cell_type": "markdown",
   "metadata": {},
   "source": [
    "### 3.1 MSE, Rounded Predictions and Raw Errors"
   ]
  },
  {
   "cell_type": "code",
   "execution_count": 7,
   "metadata": {},
   "outputs": [
    {
     "name": "stdout",
     "output_type": "stream",
     "text": [
      "The MSE on the training and test set respectively are:\n",
      "  3.9 4.28\n"
     ]
    }
   ],
   "source": [
    "#Get rounded predictions, MSE and raw errors on test and training sets\n",
    "test_pred, test_mse, test_raw_error = getPredictionAndErrors(rfor_reg, test_X, test_y)\n",
    "train_pred, train_mse, train_raw_error = getPredictionAndErrors(rfor_reg, train_X, train_y)\n",
    "\n",
    "print(\"The MSE on the training and test set respectively are:\\n \", train_mse,test_mse)"
   ]
  },
  {
   "cell_type": "code",
   "execution_count": 8,
   "metadata": {},
   "outputs": [
    {
     "data": {
      "image/png": "[encoded data removed]",
      "text/plain": [
       "<Figure size 432x288 with 1 Axes>"
      ]
     },
     "metadata": {
      "needs_background": "light"
     },
     "output_type": "display_data"
    },
    {
     "data": {
      "image/png": "[encoded data removed]",
      "text/plain": [
       "<Figure size 432x288 with 1 Axes>"
      ]
     },
     "metadata": {
      "needs_background": "light"
     },
     "output_type": "display_data"
    }
   ],
   "source": [
    "#Call display raw errors function\n",
    "displayRawErrors(train_raw_error,\"Prediction raw error on training set\")\n",
    "displayRawErrors(test_raw_error,\"Prediction raw error on test set\")"
   ]
  },
  {
   "cell_type": "markdown",
   "metadata": {},
   "source": [
    "### 3.2 Feature Importance"
   ]
  },
  {
   "cell_type": "code",
   "execution_count": 9,
   "metadata": {},
   "outputs": [
    {
     "name": "stdout",
     "output_type": "stream",
     "text": [
      "sex F 0.0024\n",
      "sex I 0.0231\n",
      "sex M 0.0008\n",
      "length 0.0114\n",
      "diameter 0.017\n",
      "height 0.0149\n",
      "whole weight 0.0408\n",
      "shucked weight 0.1615\n",
      "viscera weight 0.015\n",
      "shell weight 0.7131\n"
     ]
    }
   ],
   "source": [
    "#DU ANS: at least say you used a calculator and found that these ft summed to etc and then you can remove\n",
    "# try numpy.argsort\n",
    "for name, score in zip(data_enc.columns, rfor_reg.feature_importances_.round(4)):\n",
    "    print(name,score)"
   ]
  },
  {
   "cell_type": "code",
   "execution_count": 10,
   "metadata": {},
   "outputs": [
    {
     "name": "stdout",
     "output_type": "stream",
     "text": [
      "sex F 0.0024\n",
      "sex I 0.0231\n",
      "sex M 0.0008\n",
      "length 0.0114\n",
      "diameter 0.017\n",
      "height 0.0149\n",
      "whole weight 0.0408\n",
      "shucked weight 0.1615\n",
      "viscera weight 0.015\n",
      "shell weight 0.7131\n"
     ]
    }
   ],
   "source": [
    "a = []\n",
    "for name, score in zip(data_enc.columns, rfor_reg.feature_importances_.round(4)):\n",
    "    a.append(name)\n",
    "    a.append(score)\n",
    "    print(name,score)"
   ]
  },
  {
   "cell_type": "code",
   "execution_count": 11,
   "metadata": {},
   "outputs": [
    {
     "data": {
      "text/plain": [
       "['sex F',\n",
       " 0.0024,\n",
       " 'sex I',\n",
       " 0.0231,\n",
       " 'sex M',\n",
       " 0.0008,\n",
       " 'length',\n",
       " 0.0114,\n",
       " 'diameter',\n",
       " 0.017,\n",
       " 'height',\n",
       " 0.0149,\n",
       " 'whole weight',\n",
       " 0.0408,\n",
       " 'shucked weight',\n",
       " 0.1615,\n",
       " 'viscera weight',\n",
       " 0.015,\n",
       " 'shell weight',\n",
       " 0.7131]"
      ]
     },
     "execution_count": 11,
     "metadata": {},
     "output_type": "execute_result"
    }
   ],
   "source": [
    "a"
   ]
  },
  {
   "cell_type": "markdown",
   "metadata": {},
   "source": [
    "The first 3 columns are from one-hot encoding the 'feature'. Hence, this means that "
   ]
  },
  {
   "cell_type": "markdown",
   "metadata": {},
   "source": [
    "## 4. Reduced Dimensions Random Forest Regressor"
   ]
  },
  {
   "cell_type": "markdown",
   "metadata": {},
   "source": [
    "from sklearn.feature_selection import SelectFromModel\n",
    "\n",
    "sel_rfor = SelectFromModel(rfor_reg,\n",
    "                          threshold= 0.02)\n",
    "sel_rfor.fit(train_X,train_y)"
   ]
  },
  {
   "cell_type": "markdown",
   "metadata": {},
   "source": [
    "sel_rfor.get_support()"
   ]
  },
  {
   "cell_type": "markdown",
   "metadata": {},
   "source": [
    "test_pred_sel, test_mse_sel, test_raw_error_sel = getPredictionAndErrors(sel_rfor, test_X, test_y)\n",
    "train_pred_sel, train_mse_sel, train_raw_error_sel = getPredictionAndErrors(sel_rfor, train_X, train_y)\n",
    "\n",
    "print(test_mse_sel, train_mse_sel)\n"
   ]
  },
  {
   "cell_type": "markdown",
   "metadata": {},
   "source": [
    "From previous section, the feature importances that contribute to the 95% threshold are 'shell weight','shucked weight', and 'sex'<br>\n",
    "#HELP how to deal with the sex contribution? together?<br>\n",
    "\n",
    "Let's drop all features besides these"
   ]
  },
  {
   "cell_type": "code",
   "execution_count": 12,
   "metadata": {},
   "outputs": [
    {
     "data": {
      "text/html": [
       "<div>\n",
       "<style scoped>\n",
       "    .dataframe tbody tr th:only-of-type {\n",
       "        vertical-align: middle;\n",
       "    }\n",
       "\n",
       "    .dataframe tbody tr th {\n",
       "        vertical-align: top;\n",
       "    }\n",
       "\n",
       "    .dataframe thead th {\n",
       "        text-align: right;\n",
       "    }\n",
       "</style>\n",
       "<table border=\"1\" class=\"dataframe\">\n",
       "  <thead>\n",
       "    <tr style=\"text-align: right;\">\n",
       "      <th></th>\n",
       "      <th>sex F</th>\n",
       "      <th>sex I</th>\n",
       "      <th>sex M</th>\n",
       "      <th>length</th>\n",
       "      <th>diameter</th>\n",
       "      <th>height</th>\n",
       "      <th>whole weight</th>\n",
       "      <th>shucked weight</th>\n",
       "      <th>viscera weight</th>\n",
       "      <th>shell weight</th>\n",
       "    </tr>\n",
       "  </thead>\n",
       "  <tbody>\n",
       "    <tr>\n",
       "      <th>598</th>\n",
       "      <td>0.0</td>\n",
       "      <td>1.0</td>\n",
       "      <td>0.0</td>\n",
       "      <td>0.605</td>\n",
       "      <td>0.495</td>\n",
       "      <td>0.145</td>\n",
       "      <td>1.0540</td>\n",
       "      <td>0.369</td>\n",
       "      <td>0.2255</td>\n",
       "      <td>0.360</td>\n",
       "    </tr>\n",
       "    <tr>\n",
       "      <th>3217</th>\n",
       "      <td>0.0</td>\n",
       "      <td>0.0</td>\n",
       "      <td>1.0</td>\n",
       "      <td>0.425</td>\n",
       "      <td>0.340</td>\n",
       "      <td>0.120</td>\n",
       "      <td>0.3880</td>\n",
       "      <td>0.149</td>\n",
       "      <td>0.0870</td>\n",
       "      <td>0.125</td>\n",
       "    </tr>\n",
       "    <tr>\n",
       "      <th>3287</th>\n",
       "      <td>0.0</td>\n",
       "      <td>0.0</td>\n",
       "      <td>1.0</td>\n",
       "      <td>0.550</td>\n",
       "      <td>0.460</td>\n",
       "      <td>0.130</td>\n",
       "      <td>0.7085</td>\n",
       "      <td>0.305</td>\n",
       "      <td>0.1455</td>\n",
       "      <td>0.205</td>\n",
       "    </tr>\n",
       "    <tr>\n",
       "      <th>615</th>\n",
       "      <td>0.0</td>\n",
       "      <td>0.0</td>\n",
       "      <td>1.0</td>\n",
       "      <td>0.415</td>\n",
       "      <td>0.345</td>\n",
       "      <td>0.135</td>\n",
       "      <td>0.3865</td>\n",
       "      <td>0.128</td>\n",
       "      <td>0.0700</td>\n",
       "      <td>0.148</td>\n",
       "    </tr>\n",
       "    <tr>\n",
       "      <th>227</th>\n",
       "      <td>0.0</td>\n",
       "      <td>1.0</td>\n",
       "      <td>0.0</td>\n",
       "      <td>0.365</td>\n",
       "      <td>0.270</td>\n",
       "      <td>0.085</td>\n",
       "      <td>0.2050</td>\n",
       "      <td>0.078</td>\n",
       "      <td>0.0485</td>\n",
       "      <td>0.070</td>\n",
       "    </tr>\n",
       "  </tbody>\n",
       "</table>\n",
       "</div>"
      ],
      "text/plain": [
       "      sex F  sex I  sex M  length  diameter  height  whole weight  \\\n",
       "598     0.0    1.0    0.0   0.605     0.495   0.145        1.0540   \n",
       "3217    0.0    0.0    1.0   0.425     0.340   0.120        0.3880   \n",
       "3287    0.0    0.0    1.0   0.550     0.460   0.130        0.7085   \n",
       "615     0.0    0.0    1.0   0.415     0.345   0.135        0.3865   \n",
       "227     0.0    1.0    0.0   0.365     0.270   0.085        0.2050   \n",
       "\n",
       "      shucked weight  viscera weight  shell weight  \n",
       "598            0.369          0.2255         0.360  \n",
       "3217           0.149          0.0870         0.125  \n",
       "3287           0.305          0.1455         0.205  \n",
       "615            0.128          0.0700         0.148  \n",
       "227            0.078          0.0485         0.070  "
      ]
     },
     "execution_count": 12,
     "metadata": {},
     "output_type": "execute_result"
    }
   ],
   "source": [
    "train_X.head()"
   ]
  },
  {
   "cell_type": "code",
   "execution_count": 13,
   "metadata": {},
   "outputs": [],
   "source": [
    "#Reduce feature columns as stated\n",
    "test_X_new = test_X[['shucked weight','shell weight']]\n",
    "train_X_new = train_X[['shucked weight','shell weight']]"
   ]
  },
  {
   "cell_type": "code",
   "execution_count": 14,
   "metadata": {},
   "outputs": [
    {
     "data": {
      "text/plain": [
       "RandomForestRegressor(bootstrap=True, ccp_alpha=0.0, criterion='mse',\n",
       "                      max_depth=8, max_features='auto', max_leaf_nodes=40,\n",
       "                      max_samples=None, min_impurity_decrease=0.0,\n",
       "                      min_impurity_split=None, min_samples_leaf=10,\n",
       "                      min_samples_split=5, min_weight_fraction_leaf=0.0,\n",
       "                      n_estimators=200, n_jobs=-1, oob_score=False,\n",
       "                      random_state=0, verbose=0, warm_start=False)"
      ]
     },
     "execution_count": 14,
     "metadata": {},
     "output_type": "execute_result"
    }
   ],
   "source": [
    "#Fit previous model on new training set\n",
    "rfor_reg.fit(train_X_new,train_y) #fit on new training set"
   ]
  },
  {
   "cell_type": "markdown",
   "metadata": {},
   "source": [
    "### 4.1 New MSE, Rounded Predictions and Raw Errors"
   ]
  },
  {
   "cell_type": "code",
   "execution_count": 15,
   "metadata": {},
   "outputs": [
    {
     "name": "stdout",
     "output_type": "stream",
     "text": [
      "The MSE on the training and test set respectively are:\n",
      "  4.36 4.51\n"
     ]
    }
   ],
   "source": [
    "#Get rounded predictions, MSE, raw errors for test and training sets\n",
    "test_pred_new, test_mse_new, test_raw_error_new = getPredictionAndErrors(rfor_reg, test_X_new, test_y)\n",
    "train_pred_new, train_mse_new, train_raw_error_new = getPredictionAndErrors(rfor_reg, train_X_new, train_y)\n",
    "print(\"The MSE on the training and test set respectively are:\\n \", train_mse_new, test_mse_new)\n"
   ]
  },
  {
   "cell_type": "markdown",
   "metadata": {},
   "source": [
    "This is higher than the previous MSE values with the model trained on full data dimensions. This is due to trading a higher bias for faster computing time. "
   ]
  },
  {
   "cell_type": "code",
   "execution_count": 16,
   "metadata": {},
   "outputs": [
    {
     "data": {
      "image/png": "[encoded data removed]",
      "text/plain": [
       "<Figure size 432x288 with 1 Axes>"
      ]
     },
     "metadata": {
      "needs_background": "light"
     },
     "output_type": "display_data"
    },
    {
     "data": {
      "image/png": "[encoded data removed]",
      "text/plain": [
       "<Figure size 432x288 with 1 Axes>"
      ]
     },
     "metadata": {
      "needs_background": "light"
     },
     "output_type": "display_data"
    }
   ],
   "source": [
    "#Call display raw errors function\n",
    "displayRawErrors(train_raw_error_new,\"New Prediction raw error on training set\")\n",
    "displayRawErrors(test_raw_error_new,\"New Prediction raw error on test set\")"
   ]
  },
  {
   "cell_type": "markdown",
   "metadata": {},
   "source": [
    "## 5. Conclusion"
   ]
  },
  {
   "cell_type": "code",
   "execution_count": null,
   "metadata": {},
   "outputs": [],
   "source": []
  }
 ],
 "metadata": {
  "kernelspec": {
   "display_name": "Python 3.7.6 64-bit ('cits5508': conda)",
   "language": "python",
   "name": "python37664bitcits5508condac4a1edbc391645758c4c9553d073f178"
  },
  "language_info": {
   "codemirror_mode": {
    "name": "ipython",
    "version": 3
   },
   "file_extension": ".py",
   "mimetype": "text/x-python",
   "name": "python",
   "nbconvert_exporter": "python",
   "pygments_lexer": "ipython3",
   "version": "3.7.6"
  }
 },
 "nbformat": 4,
 "nbformat_minor": 4
}
